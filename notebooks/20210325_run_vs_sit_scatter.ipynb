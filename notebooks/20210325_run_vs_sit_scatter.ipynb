{
 "cells": [
  {
   "cell_type": "markdown",
   "metadata": {},
   "source": [
    "# Get run vs. sit FR scatter plot"
   ]
  },
  {
   "cell_type": "code",
   "execution_count": 1,
   "metadata": {
    "pycharm": {
     "is_executing": false
    }
   },
   "outputs": [],
   "source": [
    "%load_ext autoreload\n",
    "%autoreload 2"
   ]
  },
  {
   "cell_type": "code",
   "execution_count": 15,
   "metadata": {
    "pycharm": {
     "is_executing": false
    }
   },
   "outputs": [],
   "source": [
    "import matplotlib.pyplot as plt\n",
    "%matplotlib inline\n",
    "import numpy as np\n",
    "import seaborn as sns\n",
    "import warnings\n",
    "warnings.filterwarnings(\"ignore\")"
   ]
  },
  {
   "cell_type": "code",
   "execution_count": 3,
   "metadata": {},
   "outputs": [
    {
     "name": "stdout",
     "output_type": "stream",
     "text": [
      "For remote access to work, make sure to first open an SSH tunnel with MySQL\n",
      "port forwarding. Run the `djdtunnel` script in a separate terminal, with\n",
      "optional `--user` argument if your local and remote user names differ.\n",
      "Or, open the tunnel manually with:\n",
      "  ssh -NL 3306:huxley.neuro.bzm:3306 -p 1021 USERNAME@tunnel.bio.lmu.de\n",
      "Connecting execute@localhost:3306\n",
      "Connected to database 'dj_hmov' as 'execute@10.153.172.3'\n",
      "For remote file access to work, make sure to first mount the filesystem at tunnel.bio.lmu.de:1021 via SSHFS with `hux -r`\n"
     ]
    }
   ],
   "source": [
    "run -im djd.main -- --dbname=dj_hmov -r"
   ]
  },
  {
   "cell_type": "code",
   "execution_count": null,
   "metadata": {},
   "outputs": [],
   "source": []
  },
  {
   "cell_type": "markdown",
   "metadata": {},
   "source": [
    "Function is similar to the `_get_rmi_fr()` function in hmov_unit.py but also returns the mean firing rate across all running and sitting periods."
   ]
  },
  {
   "cell_type": "code",
   "execution_count": 28,
   "metadata": {},
   "outputs": [],
   "source": [
    "def get_rmi(mseukey, stimcond='all'):\n",
    "    \"\"\" Return running modulation index (RMI) of unit firing rates to the hollymov stimulus for\n",
    "    specified stimulus condition, i.e. stimulus presentation, spontaneous condition\n",
    "    (grey screen), or all.\n",
    "\n",
    "    Parameters\n",
    "    ----------\n",
    "    key : dict\n",
    "        Dictionary with mseu info.\n",
    "    stimcond : str\n",
    "        Stimulus condition, one of the following:\n",
    "        * 'stim': only stimulus presentation\n",
    "        * 'spont': spontaneous period (grey screen) before and after the stimulus blocks\n",
    "        * 'all': the whole experiment including stim and spont\n",
    "\n",
    "    Returns\n",
    "    ----------\n",
    "    rmi_fr : float\n",
    "        Running modulation index = FR_run - FR_sit / (FR_run + FR_sit)\n",
    "        based on firing rate.\n",
    "    run_mean : float\n",
    "        Mean firing rate across run periods.\n",
    "    sit_mean : float\n",
    "        Mean firing rate during sitting periods.\n",
    "    \"\"\"\n",
    "    assert stimcond in ['all', 'stim', 'spont'], \"stimcond should be one of the following: ['all', 'stim', 'spont'].\"\n",
    "    \n",
    "    # Fetch running activity\n",
    "    run_t = (Run.Ball() & mseukey).fetch1('ball_t')\n",
    "    run = (Run.Ball() & mseukey).fetch1('ball_speed')\n",
    "    fs = (Run.Ball() & mseukey).fetch1('ball_sampfreq')\n",
    "    \n",
    "    # Fetch responses\n",
    "    spkt = (Unit.Spikes()&mseukey).fetch1('spk_times')\n",
    "    response, hist_edges = np.histogram(spkt, bins=run.shape[0])\n",
    "    \n",
    "    # Convert to spikes per second\n",
    "    response_spks = response / (1 / fs)\n",
    "    \n",
    "    if stimcond is not 'all':\n",
    "        tranges_trial, _ = (Stimulus().Trial() & mseukey).get_tranges()\n",
    "        if stimcond == 'stim':\n",
    "            # Only include tranges during movie stimulus presentation,i.e. those starting after\n",
    "            # the first stim trial and ending before the end of the last stim trial\n",
    "            cond_idxs = np.where(\n",
    "                np.logical_and(run_t >= tranges_trial[0][0], run_t <= tranges_trial[-1][1]))\n",
    "        if stimcond == 'spont':\n",
    "            # Only include tranges during movie stimulus presentation,i.e. those starting after\n",
    "            # the first stim trial and ending before the end of the last stim trial\n",
    "            cond_idxs = np.where(\n",
    "                np.logical_or(run_t <= tranges_trial[0][0], run_t >= tranges_trial[-1][1]))\n",
    "        response_spks = response_spks[cond_idxs]\n",
    "        run = run[cond_idxs]\n",
    "    \n",
    "    # Running: speed faster than 1.0 cm/s\n",
    "    # Sitting: speed slower than 0.2 cm/s\n",
    "    runi = np.where(run>1.0)[0]\n",
    "    siti = np.where(run<0.25)[0]\n",
    "\n",
    "    # Get responses corresponding to run state and sitting state\n",
    "    resp_run = response_spks[runi]\n",
    "    resp_sit = response_spks[siti]\n",
    "\n",
    "    # Get mean firing rate\n",
    "    run_mean = np.mean(resp_run)\n",
    "    sit_mean = np.mean(resp_sit)\n",
    "\n",
    "    # Get running modulation index\n",
    "    rmi = (run_mean-sit_mean)/(run_mean+sit_mean)\n",
    "    \n",
    "    return rmi, run_mean, sit_mean"
   ]
  },
  {
   "cell_type": "markdown",
   "metadata": {},
   "source": [
    "Get all populated keys:"
   ]
  },
  {
   "cell_type": "code",
   "execution_count": 19,
   "metadata": {},
   "outputs": [],
   "source": [
    "keys = (SplineLNP()&{'spl_paramset':8}).fetch(dj.key) # units that pass the critical FR threshold"
   ]
  },
  {
   "cell_type": "code",
   "execution_count": 20,
   "metadata": {},
   "outputs": [
    {
     "data": {
      "text/plain": [
       "156"
      ]
     },
     "execution_count": 20,
     "metadata": {},
     "output_type": "execute_result"
    }
   ],
   "source": [
    "len(keys)"
   ]
  },
  {
   "cell_type": "markdown",
   "metadata": {},
   "source": [
    "Get FR_sit and FR_run:"
   ]
  },
  {
   "cell_type": "code",
   "execution_count": 21,
   "metadata": {},
   "outputs": [],
   "source": [
    "rmis = np.zeros((len(keys)))\n",
    "frs_run = np.zeros((len(keys)))\n",
    "frs_sit = np.zeros((len(keys)))\n",
    "for i,key in enumerate(keys):\n",
    "    rmi,frs_run[i],frs_sit[i] = get_rmi(key)\n",
    "    rmis[i] = rmi"
   ]
  },
  {
   "cell_type": "code",
   "execution_count": 22,
   "metadata": {},
   "outputs": [
    {
     "data": {
      "text/plain": [
       "(156,)"
      ]
     },
     "execution_count": 22,
     "metadata": {},
     "output_type": "execute_result"
    }
   ],
   "source": [
    "rmis.shape"
   ]
  },
  {
   "cell_type": "code",
   "execution_count": 23,
   "metadata": {},
   "outputs": [
    {
     "data": {
      "image/png": "[encoded data removed]",
      "text/plain": [
       "<Figure size 216x216 with 1 Axes>"
      ]
     },
     "metadata": {
      "needs_background": "light"
     },
     "output_type": "display_data"
    }
   ],
   "source": [
    "fig, ax = plt.subplots(figsize=(3,3))\n",
    "\n",
    "ax.scatter(frs_sit, frs_run, color='k', alpha=0.5)\n",
    "ax.plot([0,30], [0, 30], linestyle='--', color='gray')\n",
    "ax.set_xlabel('Sit')\n",
    "ax.set_ylabel('Run')\n",
    "ax.set_ylim([-1, 40])\n",
    "ax.set_xlim([-1, 40])\n",
    "ax.set_title('Firing rate (spk/s)\\nn={:d}'.format(len(keys)))\n",
    "sns.despine()"
   ]
  },
  {
   "cell_type": "code",
   "execution_count": null,
   "metadata": {},
   "outputs": [],
   "source": []
  },
  {
   "cell_type": "markdown",
   "metadata": {},
   "source": [
    "## If stimcond='spont'"
   ]
  },
  {
   "cell_type": "code",
   "execution_count": 25,
   "metadata": {},
   "outputs": [],
   "source": [
    "rmis = np.zeros((len(keys)))\n",
    "frs_run = np.zeros((len(keys)))\n",
    "frs_sit = np.zeros((len(keys)))\n",
    "for i,key in enumerate(keys):\n",
    "    rmi,frs_run[i],frs_sit[i] = get_rmi(key, stimcond='spont')\n",
    "    rmis[i] = rmi"
   ]
  },
  {
   "cell_type": "code",
   "execution_count": null,
   "metadata": {},
   "outputs": [],
   "source": [
    "rmis = np.zeros((len(keys)))\n",
    "frs_run = np.zeros((len(keys)))\n",
    "frs_sit = np.zeros((len(keys)))\n",
    "for i,key in enumerate(keys):\n",
    "    rmi,frs_run[i],frs_sit[i] = get_rmi(key)\n",
    "    rmis[i] = rmi"
   ]
  },
  {
   "cell_type": "code",
   "execution_count": 30,
   "metadata": {},
   "outputs": [
    {
     "data": {
      "text/plain": [
       "(156,)"
      ]
     },
     "execution_count": 30,
     "metadata": {},
     "output_type": "execute_result"
    }
   ],
   "source": [
    "rmis.shape"
   ]
  },
  {
   "cell_type": "code",
   "execution_count": 27,
   "metadata": {},
   "outputs": [
    {
     "data": {
      "image/png": "[encoded data removed]",
      "text/plain": [
       "<Figure size 216x216 with 1 Axes>"
      ]
     },
     "metadata": {
      "needs_background": "light"
     },
     "output_type": "display_data"
    }
   ],
   "source": [
    "fig, ax = plt.subplots(figsize=(3,3))\n",
    "\n",
    "ax.scatter(frs_sit, frs_run, color='k', alpha=0.5)\n",
    "ax.plot([0,30], [0, 30], linestyle='--', color='gray')\n",
    "ax.set_xlabel('Sit')\n",
    "ax.set_ylabel('Run')\n",
    "ax.set_ylim([-1, 40])\n",
    "ax.set_xlim([-1, 40])\n",
    "ax.set_title('Firing rate (spk/s)\\nn={:d}'.format(len(keys)))\n",
    "sns.despine()"
   ]
  },
  {
   "cell_type": "code",
   "execution_count": null,
   "metadata": {},
   "outputs": [],
   "source": []
  },
  {
   "cell_type": "code",
   "execution_count": null,
   "metadata": {},
   "outputs": [],
   "source": []
  }
 ],
 "metadata": {
  "kernelspec": {
   "display_name": "Python 3",
   "language": "python",
   "name": "python3"
  },
  "language_info": {
   "codemirror_mode": {
    "name": "ipython",
    "version": 3
   },
   "file_extension": ".py",
   "mimetype": "text/x-python",
   "name": "python",
   "nbconvert_exporter": "python",
   "pygments_lexer": "ipython3",
   "version": "3.6.7"
  }
 },
 "nbformat": 4,
 "nbformat_minor": 2
}
