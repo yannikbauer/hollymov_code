{
 "cells": [
  {
   "cell_type": "code",
   "execution_count": 1,
   "metadata": {},
   "outputs": [],
   "source": [
    "import os"
   ]
  },
  {
   "cell_type": "code",
   "execution_count": 2,
   "metadata": {},
   "outputs": [
    {
     "data": {
      "text/plain": [
       "'/gpfs01/berens/user/lschmors/Code/dLGN_project/20210208_rename_files'"
      ]
     },
     "execution_count": 2,
     "metadata": {},
     "output_type": "execute_result"
    }
   ],
   "source": [
    "os.getcwd()"
   ]
  },
  {
   "cell_type": "code",
   "execution_count": 3,
   "metadata": {},
   "outputs": [],
   "source": [
    "mouse = 'Ntsr1Cre_2020_0002'"
   ]
  },
  {
   "cell_type": "code",
   "execution_count": 4,
   "metadata": {},
   "outputs": [],
   "source": [
    "dir_name = os.path.join('/mnt/hux/mudata/iTracking/', mouse)\n",
    "os.chdir(dir_name)"
   ]
  },
  {
   "cell_type": "code",
   "execution_count": 5,
   "metadata": {},
   "outputs": [
    {
     "data": {
      "text/plain": [
       "'/mnt/hux/mudata/iTracking/Ntsr1Cre_2020_0002'"
      ]
     },
     "execution_count": 5,
     "metadata": {},
     "output_type": "execute_result"
    }
   ],
   "source": [
    "dir_name"
   ]
  },
  {
   "cell_type": "code",
   "execution_count": 6,
   "metadata": {},
   "outputs": [
    {
     "data": {
      "text/plain": [
       "'/mnt/hux/mudata/iTracking/Ntsr1Cre_2020_0002'"
      ]
     },
     "execution_count": 6,
     "metadata": {},
     "output_type": "execute_result"
    }
   ],
   "source": [
    "os.getcwd()"
   ]
  },
  {
   "cell_type": "code",
   "execution_count": 19,
   "metadata": {},
   "outputs": [
    {
     "name": "stdout",
     "output_type": "stream",
     "text": [
      "\tRenaming /mnt/hux/mudata/iTracking/Ntsr1Cre_2020_0002/s05/e04/Ntsr1Cre_0002_s05_e04.mov into /mnt/hux/mudata/iTracking/Ntsr1Cre_2020_0002/s05/e04/Ntsr1Cre_2020_0002_s05_e04.mov\n",
      "\tRenaming /mnt/hux/mudata/iTracking/Ntsr1Cre_2020_0002/s05/e02/Ntsr1Cre_0002_s05_e02.mov into /mnt/hux/mudata/iTracking/Ntsr1Cre_2020_0002/s05/e02/Ntsr1Cre_2020_0002_s05_e02.mov\n",
      "\tRenaming /mnt/hux/mudata/iTracking/Ntsr1Cre_2020_0002/s05/e11/Ntsr1Cre_0002_s05_e11.mov into /mnt/hux/mudata/iTracking/Ntsr1Cre_2020_0002/s05/e11/Ntsr1Cre_2020_0002_s05_e11.mov\n",
      "\tRenaming /mnt/hux/mudata/iTracking/Ntsr1Cre_2020_0002/s05/e09/Ntsr1Cre_0002_s05_e09.mov into /mnt/hux/mudata/iTracking/Ntsr1Cre_2020_0002/s05/e09/Ntsr1Cre_2020_0002_s05_e09.mov\n",
      "\tRenaming /mnt/hux/mudata/iTracking/Ntsr1Cre_2020_0002/s05/e03/Ntsr1Cre_0002_s05_e03.mov into /mnt/hux/mudata/iTracking/Ntsr1Cre_2020_0002/s05/e03/Ntsr1Cre_2020_0002_s05_e03.mov\n",
      "\tRenaming /mnt/hux/mudata/iTracking/Ntsr1Cre_2020_0002/s05/e07/Ntsr1Cre_0002_s05_e07.mov into /mnt/hux/mudata/iTracking/Ntsr1Cre_2020_0002/s05/e07/Ntsr1Cre_2020_0002_s05_e07.mov\n",
      "\tRenaming /mnt/hux/mudata/iTracking/Ntsr1Cre_2020_0002/s05/e01/Ntsr1Cre_0002_s05_e01.mov into /mnt/hux/mudata/iTracking/Ntsr1Cre_2020_0002/s05/e01/Ntsr1Cre_2020_0002_s05_e01.mov\n",
      "\tRenaming /mnt/hux/mudata/iTracking/Ntsr1Cre_2020_0002/s05/e05/Ntsr1Cre_0002_s05_e05.mov into /mnt/hux/mudata/iTracking/Ntsr1Cre_2020_0002/s05/e05/Ntsr1Cre_2020_0002_s05_e05.mov\n",
      "\tRenaming /mnt/hux/mudata/iTracking/Ntsr1Cre_2020_0002/s05/e10/Ntsr1Cre_0002_s05_e10.mov into /mnt/hux/mudata/iTracking/Ntsr1Cre_2020_0002/s05/e10/Ntsr1Cre_2020_0002_s05_e10.mov\n",
      "\tRenaming /mnt/hux/mudata/iTracking/Ntsr1Cre_2020_0002/s05/e08/Ntsr1Cre_0002_s05_e08.mov into /mnt/hux/mudata/iTracking/Ntsr1Cre_2020_0002/s05/e08/Ntsr1Cre_2020_0002_s05_e08.mov\n",
      "\tRenaming /mnt/hux/mudata/iTracking/Ntsr1Cre_2020_0002/s03/e04/Ntsr1Cre_0002_s03_e04.mov into /mnt/hux/mudata/iTracking/Ntsr1Cre_2020_0002/s03/e04/Ntsr1Cre_2020_0002_s03_e04.mov\n",
      "\tRenaming /mnt/hux/mudata/iTracking/Ntsr1Cre_2020_0002/s03/e02/Ntsr1Cre_0002_s03_e02.mov into /mnt/hux/mudata/iTracking/Ntsr1Cre_2020_0002/s03/e02/Ntsr1Cre_2020_0002_s03_e02.mov\n",
      "\tRenaming /mnt/hux/mudata/iTracking/Ntsr1Cre_2020_0002/s03/e11/Ntsr1Cre_0002_s03_e11.mov into /mnt/hux/mudata/iTracking/Ntsr1Cre_2020_0002/s03/e11/Ntsr1Cre_2020_0002_s03_e11.mov\n",
      "\tRenaming /mnt/hux/mudata/iTracking/Ntsr1Cre_2020_0002/s03/e09/Ntsr1Cre_0002_s03_e09.mov into /mnt/hux/mudata/iTracking/Ntsr1Cre_2020_0002/s03/e09/Ntsr1Cre_2020_0002_s03_e09.mov\n",
      "\tRenaming /mnt/hux/mudata/iTracking/Ntsr1Cre_2020_0002/s03/e03/Ntsr1Cre_0002_s03_e03.mov into /mnt/hux/mudata/iTracking/Ntsr1Cre_2020_0002/s03/e03/Ntsr1Cre_2020_0002_s03_e03.mov\n",
      "\tRenaming /mnt/hux/mudata/iTracking/Ntsr1Cre_2020_0002/s03/e13/Ntsr1Cre_0002_s03_e13.mov into /mnt/hux/mudata/iTracking/Ntsr1Cre_2020_0002/s03/e13/Ntsr1Cre_2020_0002_s03_e13.mov\n",
      "\tRenaming /mnt/hux/mudata/iTracking/Ntsr1Cre_2020_0002/s03/e07/Ntsr1Cre_0002_s03_e07.mov into /mnt/hux/mudata/iTracking/Ntsr1Cre_2020_0002/s03/e07/Ntsr1Cre_2020_0002_s03_e07.mov\n",
      "\tRenaming /mnt/hux/mudata/iTracking/Ntsr1Cre_2020_0002/s03/e01/Ntsr1Cre_0002_s03_e01.mov into /mnt/hux/mudata/iTracking/Ntsr1Cre_2020_0002/s03/e01/Ntsr1Cre_2020_0002_s03_e01.mov\n",
      "\tRenaming /mnt/hux/mudata/iTracking/Ntsr1Cre_2020_0002/s03/e05/Ntsr1Cre_0002_s03_e05.mov into /mnt/hux/mudata/iTracking/Ntsr1Cre_2020_0002/s03/e05/Ntsr1Cre_2020_0002_s03_e05.mov\n",
      "\tRenaming /mnt/hux/mudata/iTracking/Ntsr1Cre_2020_0002/s03/e12/Ntsr1Cre_0002_s03_e12.mov into /mnt/hux/mudata/iTracking/Ntsr1Cre_2020_0002/s03/e12/Ntsr1Cre_2020_0002_s03_e12.mov\n",
      "\tRenaming /mnt/hux/mudata/iTracking/Ntsr1Cre_2020_0002/s03/e10/Ntsr1Cre_0002_s03_e10.mov into /mnt/hux/mudata/iTracking/Ntsr1Cre_2020_0002/s03/e10/Ntsr1Cre_2020_0002_s03_e10.mov\n",
      "\tRenaming /mnt/hux/mudata/iTracking/Ntsr1Cre_2020_0002/s03/e08/Ntsr1Cre_0002_s03_e08.mov into /mnt/hux/mudata/iTracking/Ntsr1Cre_2020_0002/s03/e08/Ntsr1Cre_2020_0002_s03_e08.mov\n",
      "\tRenaming /mnt/hux/mudata/iTracking/Ntsr1Cre_2020_0002/s06/e04/Ntsr1Cre_0002_s06_e04.mov into /mnt/hux/mudata/iTracking/Ntsr1Cre_2020_0002/s06/e04/Ntsr1Cre_2020_0002_s06_e04.mov\n",
      "\tRenaming /mnt/hux/mudata/iTracking/Ntsr1Cre_2020_0002/s06/e02/Ntsr1Cre_0002_s06_e02.mov into /mnt/hux/mudata/iTracking/Ntsr1Cre_2020_0002/s06/e02/Ntsr1Cre_2020_0002_s06_e02.mov\n",
      "\tRenaming /mnt/hux/mudata/iTracking/Ntsr1Cre_2020_0002/s06/e11/Ntsr1Cre_0002_s06_e11.mov into /mnt/hux/mudata/iTracking/Ntsr1Cre_2020_0002/s06/e11/Ntsr1Cre_2020_0002_s06_e11.mov\n",
      "\tRenaming /mnt/hux/mudata/iTracking/Ntsr1Cre_2020_0002/s06/e09/Ntsr1Cre_0002_s06_e09.mov into /mnt/hux/mudata/iTracking/Ntsr1Cre_2020_0002/s06/e09/Ntsr1Cre_2020_0002_s06_e09.mov\n",
      "\tRenaming /mnt/hux/mudata/iTracking/Ntsr1Cre_2020_0002/s06/e03/Ntsr1Cre_0002_s06_e03.mov into /mnt/hux/mudata/iTracking/Ntsr1Cre_2020_0002/s06/e03/Ntsr1Cre_2020_0002_s06_e03.mov\n",
      "\tRenaming /mnt/hux/mudata/iTracking/Ntsr1Cre_2020_0002/s06/e07/Ntsr1Cre_0002_s06_e07.mov into /mnt/hux/mudata/iTracking/Ntsr1Cre_2020_0002/s06/e07/Ntsr1Cre_2020_0002_s06_e07.mov\n",
      "\tRenaming /mnt/hux/mudata/iTracking/Ntsr1Cre_2020_0002/s06/e06/Ntsr1Cre_0002_s06_e06.mov into /mnt/hux/mudata/iTracking/Ntsr1Cre_2020_0002/s06/e06/Ntsr1Cre_2020_0002_s06_e06.mov\n",
      "\tRenaming /mnt/hux/mudata/iTracking/Ntsr1Cre_2020_0002/s06/e01/Ntsr1Cre_0002_s06_e01.mov into /mnt/hux/mudata/iTracking/Ntsr1Cre_2020_0002/s06/e01/Ntsr1Cre_2020_0002_s06_e01.mov\n",
      "\tRenaming /mnt/hux/mudata/iTracking/Ntsr1Cre_2020_0002/s06/e05/Ntsr1Cre_0002_s06_e05.mov into /mnt/hux/mudata/iTracking/Ntsr1Cre_2020_0002/s06/e05/Ntsr1Cre_2020_0002_s06_e05.mov\n",
      "\tRenaming /mnt/hux/mudata/iTracking/Ntsr1Cre_2020_0002/s06/e10/Ntsr1Cre_0002_s06_e10.mov into /mnt/hux/mudata/iTracking/Ntsr1Cre_2020_0002/s06/e10/Ntsr1Cre_2020_0002_s06_e10.mov\n",
      "\tRenaming /mnt/hux/mudata/iTracking/Ntsr1Cre_2020_0002/s06/e08/Ntsr1Cre_0002_s06_e08.mov into /mnt/hux/mudata/iTracking/Ntsr1Cre_2020_0002/s06/e08/Ntsr1Cre_2020_0002_s06_e08.mov\n",
      "\tRenaming /mnt/hux/mudata/iTracking/Ntsr1Cre_2020_0002/s04/e04/Ntsr1Cre_0002_s04_e04.mov into /mnt/hux/mudata/iTracking/Ntsr1Cre_2020_0002/s04/e04/Ntsr1Cre_2020_0002_s04_e04.mov\n",
      "\tRenaming /mnt/hux/mudata/iTracking/Ntsr1Cre_2020_0002/s04/e02/Ntsr1Cre_0002_s04_e02.mov into /mnt/hux/mudata/iTracking/Ntsr1Cre_2020_0002/s04/e02/Ntsr1Cre_2020_0002_s04_e02.mov\n",
      "\tRenaming /mnt/hux/mudata/iTracking/Ntsr1Cre_2020_0002/s04/e11/Ntsr1Cre_0002_s04_e11.mov into /mnt/hux/mudata/iTracking/Ntsr1Cre_2020_0002/s04/e11/Ntsr1Cre_2020_0002_s04_e11.mov\n",
      "\tRenaming /mnt/hux/mudata/iTracking/Ntsr1Cre_2020_0002/s04/e09/Ntsr1Cre_0002_s04_e09.mov into /mnt/hux/mudata/iTracking/Ntsr1Cre_2020_0002/s04/e09/Ntsr1Cre_2020_0002_s04_e09.mov\n",
      "\tRenaming /mnt/hux/mudata/iTracking/Ntsr1Cre_2020_0002/s04/e03/Ntsr1Cre_0002_s04_e03.mov into /mnt/hux/mudata/iTracking/Ntsr1Cre_2020_0002/s04/e03/Ntsr1Cre_2020_0002_s04_e03.mov\n",
      "\tRenaming /mnt/hux/mudata/iTracking/Ntsr1Cre_2020_0002/s04/e13/Ntsr1Cre_0002_s04_e13.mov into /mnt/hux/mudata/iTracking/Ntsr1Cre_2020_0002/s04/e13/Ntsr1Cre_2020_0002_s04_e13.mov\n",
      "\tRenaming /mnt/hux/mudata/iTracking/Ntsr1Cre_2020_0002/s04/e07/Ntsr1Cre_0002_s04_e07.mov into /mnt/hux/mudata/iTracking/Ntsr1Cre_2020_0002/s04/e07/Ntsr1Cre_2020_0002_s04_e07.mov\n",
      "\tRenaming /mnt/hux/mudata/iTracking/Ntsr1Cre_2020_0002/s04/e06/Ntsr1Cre_0002_s04_e06.mov into /mnt/hux/mudata/iTracking/Ntsr1Cre_2020_0002/s04/e06/Ntsr1Cre_2020_0002_s04_e06.mov\n",
      "\tRenaming /mnt/hux/mudata/iTracking/Ntsr1Cre_2020_0002/s04/e01/Ntsr1Cre_0002_s04_e01.mov into /mnt/hux/mudata/iTracking/Ntsr1Cre_2020_0002/s04/e01/Ntsr1Cre_2020_0002_s04_e01.mov\n",
      "\tRenaming /mnt/hux/mudata/iTracking/Ntsr1Cre_2020_0002/s04/e05/Ntsr1Cre_0002_s04_e05.mov into /mnt/hux/mudata/iTracking/Ntsr1Cre_2020_0002/s04/e05/Ntsr1Cre_2020_0002_s04_e05.mov\n",
      "\tRenaming /mnt/hux/mudata/iTracking/Ntsr1Cre_2020_0002/s04/e12/Ntsr1Cre_0002_s04_e12.mov into /mnt/hux/mudata/iTracking/Ntsr1Cre_2020_0002/s04/e12/Ntsr1Cre_2020_0002_s04_e12.mov\n",
      "\tRenaming /mnt/hux/mudata/iTracking/Ntsr1Cre_2020_0002/s04/e10/Ntsr1Cre_0002_s04_e10.mov into /mnt/hux/mudata/iTracking/Ntsr1Cre_2020_0002/s04/e10/Ntsr1Cre_2020_0002_s04_e10.mov\n"
     ]
    }
   ],
   "source": [
    "mouse_info_split = mouse.split('_')\n",
    "\n",
    "for subdir, dirs, files in os.walk(dir_name):\n",
    "    for file in files:\n",
    "        file_info_split = file.split('_')\n",
    "        if file_info_split[1] != mouse_info_split[1]:\n",
    "            file_info_split.insert(1,mouse_info_split[1])\n",
    "            filename_w_year = '_'.join(file_info_split)\n",
    "            dir_new = os.path.join(subdir,filename_w_year)\n",
    "            dir_old = os.path.join(subdir,file)\n",
    "            os.rename(dir_old, dir_new)\n",
    "            print('Renaming {:s} into {:s}'.format(dir_old, dir_new))\n",
    "        else:\n",
    "            pass"
   ]
  },
  {
   "cell_type": "code",
   "execution_count": 21,
   "metadata": {},
   "outputs": [],
   "source": [
    "def insert_year(mouse):\n",
    "    \"\"\"\n",
    "    Insert the year info into the iTracking movie file name if missing.\n",
    "    You have to mount the filesystem first via SSHFS with `hux -r`.\n",
    "    \n",
    "    Parameters\n",
    "    ----------\n",
    "    mouse: str\n",
    "        Mouse name (e.g. 'Ntsr1Cre_2020_0002')\n",
    "    \"\"\"\n",
    "    dir_name = os.path.join('/mnt/hux/mudata/iTracking/', mouse)\n",
    "    os.chdir(dir_name)\n",
    "    mouse_info_split = mouse.split('_')\n",
    "    for subdir, dirs, files in os.walk(dir_name):\n",
    "        for file in files:\n",
    "            file_info_split = file.split('_')\n",
    "            if file_info_split[1] != mouse_info_split[1]:\n",
    "                file_info_split.insert(1,mouse_info_split[1])\n",
    "                filename_w_year = '_'.join(file_info_split)\n",
    "                dir_new = os.path.join(subdir,filename_w_year)\n",
    "                dir_old = os.path.join(subdir,file)\n",
    "                os.rename(dir_old, dir_new)\n",
    "                print('Renaming {:s} into {:s}'.format(dir_old, dir_new))\n",
    "            else:\n",
    "                pass"
   ]
  },
  {
   "cell_type": "code",
   "execution_count": null,
   "metadata": {},
   "outputs": [],
   "source": [
    "insert_year('')"
   ]
  }
 ],
 "metadata": {
  "kernelspec": {
   "display_name": "Python 3",
   "language": "python",
   "name": "python3"
  },
  "language_info": {
   "codemirror_mode": {
    "name": "ipython",
    "version": 3
   },
   "file_extension": ".py",
   "mimetype": "text/x-python",
   "name": "python",
   "nbconvert_exporter": "python",
   "pygments_lexer": "ipython3",
   "version": "3.6.7"
  }
 },
 "nbformat": 4,
 "nbformat_minor": 2
}
