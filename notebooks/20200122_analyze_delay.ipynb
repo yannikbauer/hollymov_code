{
 "cells": [
  {
   "cell_type": "code",
   "execution_count": 1,
   "metadata": {
    "pycharm": {
     "is_executing": false
    }
   },
   "outputs": [],
   "source": [
    "%load_ext autoreload\n",
    "%autoreload 2"
   ]
  },
  {
   "cell_type": "code",
   "execution_count": 2,
   "metadata": {
    "pycharm": {
     "is_executing": false
    }
   },
   "outputs": [],
   "source": [
    "import matplotlib.pyplot as plt\n",
    "%matplotlib inline\n",
    "import numpy as np\n",
    "import warnings\n",
    "warnings.filterwarnings(\"ignore\")\n",
    "import xml.etree.ElementTree as ET\n",
    "from lxml import etree"
   ]
  },
  {
   "cell_type": "code",
   "execution_count": 3,
   "metadata": {},
   "outputs": [
    {
     "name": "stdout",
     "output_type": "stream",
     "text": [
      "For remote access to work, make sure to first open an SSH tunnel with MySQL\n",
      "port forwarding. Run the `djdtunnel` script in a separate terminal, with\n",
      "optional `--user` argument if your local and remote user names differ.\n",
      "Or, open the tunnel manually with:\n",
      "  ssh -NL 3306:huxley.neuro.bzm:3306 -p 1021 USERNAME@tunnel.bio.lmu.de\n",
      "Connecting write@localhost:3306\n",
      "Connected to database 'dj_lisa' as 'write@10.153.172.3'\n",
      "For remote file access to work, make sure to first mount the filesystem at tunnel.bio.lmu.de:1021 via SSH\n",
      "WARNING: Path '/gpfs01/berens/user/lschmors/tudata/ephys' doesn't exist. Building from tuexp files won't work\n",
      "WARNING: Path '/gpfs01/berens/user/lschmors/home/lab/electrodes/Busse_lab_electrode_inventory.xlsx' doesn't exist. Building from probe files won't work\n"
     ]
    }
   ],
   "source": [
    "run -im djd.main -- --dbname=dj_lisa --r"
   ]
  },
  {
   "cell_type": "code",
   "execution_count": 4,
   "metadata": {},
   "outputs": [],
   "source": [
    "run -i /gpfs01/berens/user/lschmors/Code/dLGN_project/djd/djd/signal.py"
   ]
  },
  {
   "cell_type": "code",
   "execution_count": 5,
   "metadata": {},
   "outputs": [],
   "source": [
    "run -i /gpfs01/berens/user/lschmors/Code/dLGN_project/djd/djd/util.py"
   ]
  },
  {
   "cell_type": "code",
   "execution_count": 27,
   "metadata": {},
   "outputs": [],
   "source": [
    "key = {'m':'Ntsr1Cre_2019_0004', 's':2, 'e':4} # one example experiment with hmov stimulus"
   ]
  },
  {
   "cell_type": "markdown",
   "metadata": {},
   "source": [
    "### Get trigger times for frames"
   ]
  },
  {
   "cell_type": "code",
   "execution_count": 28,
   "metadata": {},
   "outputs": [],
   "source": [
    "dwordts = get_nev_times(key)"
   ]
  },
  {
   "cell_type": "markdown",
   "metadata": {},
   "source": [
    "### Get photodiode rise and fall times"
   ]
  },
  {
   "cell_type": "code",
   "execution_count": 29,
   "metadata": {},
   "outputs": [
    {
     "name": "stdout",
     "output_type": "stream",
     "text": [
      "/gpfs01/berens/user/lschmors/mudata/exp/Ntsr1Cre_2019_0004/s02/Ntsr1Cre_2019_0004_s02_e04.ns3\n"
     ]
    }
   ],
   "source": [
    "rise, fall = get_nsx_risefalltimes(key, chan='photodiode')"
   ]
  },
  {
   "cell_type": "code",
   "execution_count": 30,
   "metadata": {},
   "outputs": [],
   "source": [
    "sortedrisefall = np.sort(np.hstack([rise, fall]))"
   ]
  },
  {
   "cell_type": "markdown",
   "metadata": {},
   "source": [
    "#### Select dwordts that are within hmov tranges"
   ]
  },
  {
   "cell_type": "code",
   "execution_count": 31,
   "metadata": {},
   "outputs": [
    {
     "name": "stdout",
     "output_type": "stream",
     "text": [
      "108000\n",
      "107998\n"
     ]
    }
   ],
   "source": [
    "dwordts_hmov = dwordts[np.where((dwordts>rise[0]) & (dwordts<fall[-1]))]\n",
    "print(dwordts_hmov.shape[0])\n",
    "print(len(sortedrisefall))"
   ]
  },
  {
   "cell_type": "markdown",
   "metadata": {},
   "source": [
    "-> two frames have been dropped\n",
    "\n",
    "Where did the drop happen?"
   ]
  },
  {
   "cell_type": "code",
   "execution_count": 32,
   "metadata": {},
   "outputs": [
    {
     "data": {
      "text/plain": [
       "Text(0, 0.5, 'interval of rise/fall times [s]')"
      ]
     },
     "execution_count": 32,
     "metadata": {},
     "output_type": "execute_result"
    },
    {
     "data": {
      "image/png": "[encoded data removed]",
      "text/plain": [
       "<Figure size 432x288 with 1 Axes>"
      ]
     },
     "metadata": {
      "needs_background": "light"
     },
     "output_type": "display_data"
    }
   ],
   "source": [
    "plt.plot(np.diff(sortedrisefall))\n",
    "plt.ylabel('interval of rise/fall times [s]')"
   ]
  },
  {
   "cell_type": "markdown",
   "metadata": {},
   "source": [
    "The fluctuations in the photodiode signal (betw. ~0.014 s and ~0.02 s) probably come from a different sensitivity to LCD switching from white to black and vice versa. The two long intervals are the frame drops.\n",
    "\n",
    "But digital words sent out is also fluctuating:"
   ]
  },
  {
   "cell_type": "code",
   "execution_count": 33,
   "metadata": {},
   "outputs": [
    {
     "data": {
      "text/plain": [
       "Text(0, 0.5, 'interval of dwords time stamps [s]')"
      ]
     },
     "execution_count": 33,
     "metadata": {},
     "output_type": "execute_result"
    },
    {
     "data": {
      "image/png": "[encoded data removed]",
      "text/plain": [
       "<Figure size 432x288 with 1 Axes>"
      ]
     },
     "metadata": {
      "needs_background": "light"
     },
     "output_type": "display_data"
    }
   ],
   "source": [
    "plt.plot(np.diff(dwordts_hmov))\n",
    "plt.ylabel('interval of dwords time stamps [s]')"
   ]
  },
  {
   "cell_type": "code",
   "execution_count": 34,
   "metadata": {},
   "outputs": [
    {
     "data": {
      "text/plain": [
       "Text(0.5, 0, 'ts intervals for dword send out')"
      ]
     },
     "execution_count": 34,
     "metadata": {},
     "output_type": "execute_result"
    },
    {
     "data": {
      "image/png": "[encoded data removed]",
      "text/plain": [
       "<Figure size 432x288 with 1 Axes>"
      ]
     },
     "metadata": {
      "needs_background": "light"
     },
     "output_type": "display_data"
    }
   ],
   "source": [
    "plt.hist(np.diff(dwordts_hmov),50)\n",
    "plt.xlabel('ts intervals for dword send out')"
   ]
  },
  {
   "cell_type": "markdown",
   "metadata": {},
   "source": [
    "Where does this fluctuations come from?"
   ]
  },
  {
   "cell_type": "markdown",
   "metadata": {},
   "source": [
    "### Get the delay between rise/fall times and digital word time stamp\n",
    "\n",
    "Fluctuations will affect the calculated delay (difference)"
   ]
  },
  {
   "cell_type": "code",
   "execution_count": 35,
   "metadata": {},
   "outputs": [
    {
     "data": {
      "text/plain": [
       "Text(0.5, 1.0, 'diff. betw. photodiode rise/fall time and time stamp of dword send out')"
      ]
     },
     "execution_count": 35,
     "metadata": {},
     "output_type": "execute_result"
    },
    {
     "data": {
      "image/png": "[encoded data removed]",
      "text/plain": [
       "<Figure size 432x288 with 1 Axes>"
      ]
     },
     "metadata": {
      "needs_background": "light"
     },
     "output_type": "display_data"
    }
   ],
   "source": [
    "plt.plot(dwordts_hmov, marker='.', label='digital word')\n",
    "plt.plot(sortedrisefall, marker='.', label='photodiode signal')\n",
    "plt.xlim((2000,2010))\n",
    "plt.ylim(95.05,95.2)\n",
    "plt.legend()\n",
    "plt.ylabel('time stamps [s]')\n",
    "plt.xlabel('# time stamps')\n",
    "plt.title('diff. betw. photodiode rise/fall time and time stamp of dword send out')"
   ]
  },
  {
   "cell_type": "markdown",
   "metadata": {},
   "source": [
    "Compute the delay for all time stamps:"
   ]
  },
  {
   "cell_type": "code",
   "execution_count": 36,
   "metadata": {},
   "outputs": [],
   "source": [
    "delay = sortedrisefall - dwordts_hmov[:-2] # account for the 2 frames that have been dropped"
   ]
  },
  {
   "cell_type": "code",
   "execution_count": 37,
   "metadata": {},
   "outputs": [
    {
     "data": {
      "text/plain": [
       "Text(0, 0.5, 'delay [s]')"
      ]
     },
     "execution_count": 37,
     "metadata": {},
     "output_type": "execute_result"
    },
    {
     "data": {
      "image/png": "[encoded data removed]",
      "text/plain": [
       "<Figure size 432x288 with 1 Axes>"
      ]
     },
     "metadata": {
      "needs_background": "light"
     },
     "output_type": "display_data"
    }
   ],
   "source": [
    "plt.plot(delay)\n",
    "plt.ylabel('delay [s]')"
   ]
  },
  {
   "cell_type": "markdown",
   "metadata": {},
   "source": [
    "Step is due to frame drop:"
   ]
  },
  {
   "cell_type": "code",
   "execution_count": 54,
   "metadata": {},
   "outputs": [
    {
     "data": {
      "text/plain": [
       "array([0.00336667, 0.00193333, 0.037     , 0.03503333])"
      ]
     },
     "execution_count": 54,
     "metadata": {},
     "output_type": "execute_result"
    }
   ],
   "source": [
    "delay[7908:7912]"
   ]
  },
  {
   "cell_type": "markdown",
   "metadata": {},
   "source": [
    "Step is between `delay[7909]` and `delay[7910]`"
   ]
  },
  {
   "cell_type": "code",
   "execution_count": 59,
   "metadata": {},
   "outputs": [
    {
     "data": {
      "text/plain": [
       "[<matplotlib.lines.Line2D at 0x7efbcadff710>]"
      ]
     },
     "execution_count": 59,
     "metadata": {},
     "output_type": "execute_result"
    },
    {
     "data": {
      "image/png": "[encoded data removed]",
      "text/plain": [
       "<Figure size 432x288 with 1 Axes>"
      ]
     },
     "metadata": {
      "needs_background": "light"
     },
     "output_type": "display_data"
    }
   ],
   "source": [
    "plt.plot(sortedrisefall[7900:7920])"
   ]
  },
  {
   "cell_type": "markdown",
   "metadata": {},
   "source": [
    "-> delay increases with after frame drop -> delay will be biased"
   ]
  },
  {
   "cell_type": "markdown",
   "metadata": {},
   "source": [
    "#### Histogram of delays between rise/fall times and time stamps of digital word sent out:"
   ]
  },
  {
   "cell_type": "code",
   "execution_count": 38,
   "metadata": {},
   "outputs": [
    {
     "data": {
      "text/plain": [
       "Text(0.5, 0, 'delay [s]')"
      ]
     },
     "execution_count": 38,
     "metadata": {},
     "output_type": "execute_result"
    },
    {
     "data": {
      "image/png": "[encoded data removed]",
      "text/plain": [
       "<Figure size 432x288 with 1 Axes>"
      ]
     },
     "metadata": {
      "needs_background": "light"
     },
     "output_type": "display_data"
    }
   ],
   "source": [
    "plt.hist(delay, 25)\n",
    "plt.axvline(x=np.median(delay), linewidth=2, color='r')\n",
    "plt.xlabel('delay [s]')"
   ]
  },
  {
   "cell_type": "markdown",
   "metadata": {},
   "source": [
    "The median is taken to get one value that is representative for the offset between digital word that is send out to the monitor and the actually shown frame:"
   ]
  },
  {
   "cell_type": "code",
   "execution_count": 39,
   "metadata": {},
   "outputs": [],
   "source": [
    "deltat = np.median(sortedrisefall - dwordts_hmov[:-2])"
   ]
  },
  {
   "cell_type": "markdown",
   "metadata": {},
   "source": [
    "The ``deltat`` is returned as the offset. However this large offset only appears due to the frame drop (rise times are ahead of digital word time stamps). This is only happens if ``dwordts_hmov[:-num_dropped_frames]`` is used to compute the delay.\n",
    "\n",
    "-> better alternative to account for a frame drop? (e.g., only compute the delay in a in a time range where no frame was dropped?)"
   ]
  },
  {
   "cell_type": "code",
   "execution_count": null,
   "metadata": {},
   "outputs": [],
   "source": []
  }
 ],
 "metadata": {
  "kernelspec": {
   "display_name": "Python 3",
   "language": "python",
   "name": "python3"
  },
  "language_info": {
   "codemirror_mode": {
    "name": "ipython",
    "version": 3
   },
   "file_extension": ".py",
   "mimetype": "text/x-python",
   "name": "python",
   "nbconvert_exporter": "python",
   "pygments_lexer": "ipython3",
   "version": "3.6.7"
  }
 },
 "nbformat": 4,
 "nbformat_minor": 2
}
