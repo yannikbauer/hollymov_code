{
 "cells": [
  {
   "cell_type": "markdown",
   "metadata": {},
   "source": [
    "# Glm and SplineLNP model tables"
   ]
  },
  {
   "cell_type": "code",
   "execution_count": 1,
   "metadata": {
    "pycharm": {
     "is_executing": false
    }
   },
   "outputs": [],
   "source": [
    "%load_ext autoreload\n",
    "%autoreload 2"
   ]
  },
  {
   "cell_type": "code",
   "execution_count": 2,
   "metadata": {},
   "outputs": [],
   "source": [
    "import warnings\n",
    "warnings.filterwarnings(\"ignore\")\n",
    "import numpy as np\n",
    "import matplotlib.pyplot as plt\n",
    "import seaborn as sns"
   ]
  },
  {
   "cell_type": "code",
   "execution_count": null,
   "metadata": {},
   "outputs": [
    {
     "name": "stdout",
     "output_type": "stream",
     "text": [
      "For remote access to work, make sure to first open an SSH tunnel with MySQL\n",
      "port forwarding. Run the `djdtunnel` script in a separate terminal, with\n",
      "optional `--user` argument if your local and remote user names differ.\n",
      "Or, open the tunnel manually with:\n",
      "  ssh -NL 3306:huxley.neuro.bzm:3306 -p 1021 USERNAME@tunnel.bio.lmu.de\n",
      "Connecting execute@localhost:3306\n",
      "Connected to database 'dj_lisa' as 'execute@10.153.172.3'\n",
      "For remote file access to work, make sure to first mount the filesystem at tunnel.bio.lmu.de:1021 via SSH\n",
      "WARNING: Path '/gpfs01/berens/user/lschmors/tudata/ephys' doesn't exist. Building from tuexp files won't work\n"
     ]
    }
   ],
   "source": [
    "run -im djd.main -- --dbname=dj_lisa --r"
   ]
  },
  {
   "cell_type": "code",
   "execution_count": null,
   "metadata": {},
   "outputs": [],
   "source": [
    "from djd import glm # for plottin"
   ]
  },
  {
   "cell_type": "markdown",
   "metadata": {},
   "source": [
    "# Populate new parameter sets"
   ]
  },
  {
   "cell_type": "markdown",
   "metadata": {},
   "source": [
    "Uncomment and create new parameter set dictionary with individual parameter set ID:"
   ]
  },
  {
   "cell_type": "code",
   "execution_count": null,
   "metadata": {},
   "outputs": [],
   "source": [
    "# glm_run1 = {\n",
    "#     'glm_paramset':1,\n",
    "#     'glm_distr':'softplus',\n",
    "#     'glm_alpha':1.0, # the weighting between L1 penalty and L2 penalty term of the loss function\n",
    "#     'glm_lambda':0.00015, # regularization parameter of penalty term; default: 0.1\n",
    "#     'glm_solver':'batch-gradient', # optimization method\n",
    "#     'glm_lr':0.7, # learning rate for gradient descent\n",
    "#     'glm_max_iter':1000,# maximum number of iterations for the solver\n",
    "#     'glm_tol':1e-6, # convergence threshold or stopping criteria\n",
    "#     'glm_seed':0, # seed of the random number generator used to initialize the solution \n",
    "#     'glm_norm_y':'True',\n",
    "#     'glm_nlag':8,\n",
    "#     'glm_shift':1,\n",
    "# }\n",
    "\n",
    "# GlmParams().populate(glm_run1)\n",
    "\n",
    "GlmParams()"
   ]
  },
  {
   "cell_type": "code",
   "execution_count": null,
   "metadata": {},
   "outputs": [],
   "source": [
    "# splineLNP_run1 = {\n",
    "#     'spl_paramset':1,\n",
    "#     'spl_nonlin':'softplus',\n",
    "#     'spl_alpha':1,\n",
    "#     'spl_lambda':3,\n",
    "#     'spl_lr':1e-2,\n",
    "#     'spl_max_iter':2000,\n",
    "#     'spl_dt':0.033,\n",
    "#     'spl_spat_df':6,\n",
    "#     'spl_temp_df':6,\n",
    "#     'spl_psh_filt':'True',\n",
    "#     'spl_verb':200,\n",
    "#     'spl_metric':'corrcoef',\n",
    "#     'spl_norm_y':'False',\n",
    "#     'spl_nlag':8,\n",
    "#     'spl_shift':1,\n",
    "# }\n",
    "\n",
    "# SplineLNPParams().populate(splineLNP_run1)\n",
    "\n",
    "SplineLNPParams()"
   ]
  },
  {
   "cell_type": "markdown",
   "metadata": {},
   "source": [
    "# Populate model tables\n",
    "\n",
    "Especially the `Glm()` table might take a while to be populated for new parameter sets depending on the number of maximum iterations.\n",
    "\n",
    "To test, maybe try only for one (good) unit using `(SplineLNP & {'m': 'Ntsr1Cre_2019_0008', 's':3, 'e':7, 'u':14, 'glm_paramset':1}).populate()`."
   ]
  },
  {
   "cell_type": "code",
   "execution_count": null,
   "metadata": {},
   "outputs": [],
   "source": [
    "#Glm.populate()"
   ]
  },
  {
   "cell_type": "code",
   "execution_count": null,
   "metadata": {},
   "outputs": [],
   "source": [
    "#SplineLNP.populate()"
   ]
  },
  {
   "cell_type": "markdown",
   "metadata": {},
   "source": [
    "# Evaluate models"
   ]
  },
  {
   "cell_type": "code",
   "execution_count": null,
   "metadata": {},
   "outputs": [],
   "source": [
    "bins = np.arange(start=-1, stop=1, step=0.05)"
   ]
  },
  {
   "cell_type": "markdown",
   "metadata": {},
   "source": [
    "# Glm"
   ]
  },
  {
   "cell_type": "code",
   "execution_count": null,
   "metadata": {},
   "outputs": [],
   "source": [
    "#np.mean(Glm.GlmEval().fetch('glm_r_train'))\n",
    "\n",
    "plt.hist(Glm.GlmEval().fetch('glm_r_train'), bins=bins, label='training set', alpha=0.5);\n",
    "plt.vlines(x=np.mean(Glm.GlmEval().fetch('glm_r_train')), ymin=0, ymax=50, linestyles='dashed', colors='tab:blue')\n",
    "plt.hist(Glm.GlmEval().fetch('glm_r_test'), bins=bins, label='test set', alpha=0.5);\n",
    "plt.vlines(x=np.mean(Glm.GlmEval().fetch('glm_r_test')), ymin=0, ymax=50, linestyles='dashed', colors='tab:orange')\n",
    "sns.despine()\n",
    "plt.legend()\n",
    "plt.xlabel('correlation coefficient')\n",
    "plt.ylabel('number of units')\n",
    "plt.title(('Glm performance per unit for paramset {:02d}').format((dj.U('glm_paramset') & Glm.GlmEval()).fetch1('glm_paramset')));\n",
    "\n",
    "print('Mean performance training set: ', np.round(np.mean(Glm.GlmEval().fetch('glm_r_train')), 3))\n",
    "print('Mean performance test set: ', np.round(np.mean(Glm.GlmEval().fetch('glm_r_test')), 3))"
   ]
  },
  {
   "cell_type": "markdown",
   "metadata": {},
   "source": [
    "# SplineLNP"
   ]
  },
  {
   "cell_type": "markdown",
   "metadata": {},
   "source": [
    "### without post-spike history filter"
   ]
  },
  {
   "cell_type": "code",
   "execution_count": null,
   "metadata": {},
   "outputs": [],
   "source": [
    "SplineLNPParams() & {'spl_paramset':2}"
   ]
  },
  {
   "cell_type": "code",
   "execution_count": null,
   "metadata": {},
   "outputs": [],
   "source": [
    "all_perf_test = (SplineLNP.SplineLNPEval()&{'spl_paramset':2}).fetch('spl_r_test')\n",
    "all_perf_train = (SplineLNP.SplineLNPEval()&{'spl_paramset':2}).fetch('spl_r_train')"
   ]
  },
  {
   "cell_type": "code",
   "execution_count": null,
   "metadata": {},
   "outputs": [],
   "source": [
    "plt.hist((SplineLNP.SplineLNPEval()&{'spl_paramset':2, 'spl_psh_filt':'False'}).fetch('spl_r_train'), bins=bins, label='training set', alpha=0.5);\n",
    "plt.vlines(x=np.mean((SplineLNP.SplineLNPEval()&{'spl_paramset':2, 'spl_psh_filt':'False'}).fetch('spl_r_train')), ymin=0, ymax=50, linestyles='dashed', colors='tab:blue')\n",
    "plt.hist((SplineLNP.SplineLNPEval()&{'spl_paramset':2, 'spl_psh_filt':'False'}).fetch('spl_r_test'), bins=bins, label='test set', alpha=0.5);\n",
    "plt.vlines(x=np.mean((SplineLNP.SplineLNPEval()&{'spl_paramset':2, 'spl_psh_filt':'False'}).fetch('spl_r_test')), ymin=0, ymax=50, linestyles='dashed', colors='tab:orange')\n",
    "sns.despine()\n",
    "plt.legend()\n",
    "plt.xlabel('correlation coefficient')\n",
    "plt.ylabel('number of units')\n",
    "plt.title(('SplineLNP performance per unit for paramset {:02d}').format((dj.U('spl_paramset') & SplineLNP.SplineLNPEval()&{'spl_paramset':1, 'spl_psh_filt':'True'}).fetch1('spl_paramset')));\n",
    "\n",
    "print('Mean performance training set: ', np.round(np.mean((SplineLNP.SplineLNPEval()&{'spl_paramset':2, 'spl_psh_filt':'False'}).fetch('spl_r_train')), 3))\n",
    "print('Mean performance test set: ', np.round(np.mean((SplineLNP.SplineLNPEval()&{'spl_paramset':2, 'spl_psh_filt':'False'}).fetch('spl_r_test')), 3))"
   ]
  },
  {
   "cell_type": "markdown",
   "metadata": {},
   "source": [
    "### with post-spike history filter"
   ]
  },
  {
   "cell_type": "code",
   "execution_count": null,
   "metadata": {},
   "outputs": [],
   "source": [
    "SplineLNPParams() & {'spl_paramset':1}"
   ]
  },
  {
   "cell_type": "code",
   "execution_count": null,
   "metadata": {},
   "outputs": [],
   "source": [
    "plt.hist((SplineLNP.SplineLNPEval()&{'spl_paramset':1, 'spl_psh_filt':'True'}).fetch('spl_r_train'), bins=bins, label='training set', alpha=0.5);\n",
    "plt.vlines(x=np.mean((SplineLNP.SplineLNPEval()&{'spl_paramset':1, 'spl_psh_filt':'True'}).fetch('spl_r_train')), ymin=0, ymax=50, linestyles='dashed', colors='tab:blue')\n",
    "plt.hist((SplineLNP.SplineLNPEval()&{'spl_paramset':1, 'spl_psh_filt':'True'}).fetch('spl_r_test'), bins=bins, label='test set', alpha=0.5);\n",
    "plt.vlines(x=np.mean((SplineLNP.SplineLNPEval()&{'spl_paramset':1, 'spl_psh_filt':'True'}).fetch('spl_r_test')), ymin=0, ymax=50, linestyles='dashed', colors='tab:orange')\n",
    "sns.despine()\n",
    "plt.legend()\n",
    "plt.xlabel('correlation coefficient')\n",
    "plt.ylabel('number of units')\n",
    "plt.title(('SplineLNP performance per unit for paramset {:02d}').format((dj.U('spl_paramset') & SplineLNP.SplineLNPEval()&{'spl_paramset':1, 'spl_psh_filt':'True'}).fetch1('spl_paramset')));\n",
    "\n",
    "print('Mean performance training set: ', np.round(np.mean((SplineLNP.SplineLNPEval()&{'spl_paramset':1, 'spl_psh_filt':'True'}).fetch('spl_r_train')), 3))\n",
    "print('Mean performance test set: ', np.round(np.mean((SplineLNP.SplineLNPEval()&{'spl_paramset':1, 'spl_psh_filt':'True'}).fetch('spl_r_test')), 3))"
   ]
  },
  {
   "cell_type": "markdown",
   "metadata": {},
   "source": [
    "### with post-spike filter but higher regularization"
   ]
  },
  {
   "cell_type": "code",
   "execution_count": null,
   "metadata": {},
   "outputs": [],
   "source": [
    "SplineLNPParams() & {'spl_paramset':3}"
   ]
  },
  {
   "cell_type": "code",
   "execution_count": null,
   "metadata": {},
   "outputs": [],
   "source": [
    "plt.hist((SplineLNP.SplineLNPEval()&{'spl_paramset':3, 'spl_psh_filt':'True'}).fetch('spl_r_train'), bins=bins, label='training set', alpha=0.5);\n",
    "plt.vlines(x=np.mean((SplineLNP.SplineLNPEval()&{'spl_paramset':3, 'spl_psh_filt':'True'}).fetch('spl_r_train')), ymin=0, ymax=50, linestyles='dashed', colors='tab:blue')\n",
    "plt.hist((SplineLNP.SplineLNPEval()&{'spl_paramset':3, 'spl_psh_filt':'True'}).fetch('spl_r_test'), bins=bins, label='test set', alpha=0.5);\n",
    "plt.vlines(x=np.mean((SplineLNP.SplineLNPEval()&{'spl_paramset':3, 'spl_psh_filt':'True'}).fetch('spl_r_test')), ymin=0, ymax=50, linestyles='dashed', colors='tab:orange')\n",
    "sns.despine()\n",
    "plt.legend()\n",
    "plt.xlabel('correlation coefficient')\n",
    "plt.ylabel('number of units')\n",
    "plt.title(('SplineLNP performance per unit for paramset {:02d}').format((dj.U('spl_paramset') & SplineLNP.SplineLNPEval()&{'spl_paramset':3, 'spl_psh_filt':'True'}).fetch1('spl_paramset')));\n",
    "\n",
    "print('Mean performance training set: ', np.round(np.mean((SplineLNP.SplineLNPEval()&{'spl_paramset':3, 'spl_psh_filt':'True'}).fetch('spl_r_train')), 3))\n",
    "print('Mean performance test set: ', np.round(np.mean((SplineLNP.SplineLNPEval()&{'spl_paramset':3, 'spl_psh_filt':'True'}).fetch('spl_r_test')), 3))"
   ]
  },
  {
   "cell_type": "markdown",
   "metadata": {},
   "source": [
    "## Plot best units"
   ]
  },
  {
   "cell_type": "markdown",
   "metadata": {},
   "source": [
    "### Glm"
   ]
  },
  {
   "cell_type": "code",
   "execution_count": null,
   "metadata": {},
   "outputs": [],
   "source": [
    "glm_mean_test = np.round(np.mean(Glm.GlmEval().fetch('glm_r_test')), 3)\n",
    "glm_std_test = np.round(np.std(Glm.GlmEval().fetch('glm_r_test')), 3)"
   ]
  },
  {
   "cell_type": "code",
   "execution_count": null,
   "metadata": {},
   "outputs": [],
   "source": [
    "glm_keys = (Glm*Glm.GlmEval() & ('glm_r_test > {:.3f}'.format(glm_mean_test+2*glm_std_test)) & {'m':'Ntsr1Cre_2019_0008'} ).fetch(dj.key)\n",
    "print('Number of units that are better than mean correlation + 2 times std: ', len(glm_keys))"
   ]
  },
  {
   "cell_type": "code",
   "execution_count": null,
   "metadata": {},
   "outputs": [],
   "source": [
    "for k in glm_keys:\n",
    "    glm._plot_RF(k)"
   ]
  },
  {
   "cell_type": "markdown",
   "metadata": {},
   "source": [
    "### SplineLNP"
   ]
  },
  {
   "cell_type": "code",
   "execution_count": null,
   "metadata": {},
   "outputs": [],
   "source": [
    "SplineLNPParams()"
   ]
  },
  {
   "cell_type": "code",
   "execution_count": null,
   "metadata": {},
   "outputs": [],
   "source": [
    "paramset = 3"
   ]
  },
  {
   "cell_type": "code",
   "execution_count": null,
   "metadata": {},
   "outputs": [],
   "source": [
    "print('Mean performance training set: ', np.round(np.mean((SplineLNP.SplineLNPEval()&{'spl_paramset':paramset}).fetch('spl_r_train')), 3))\n",
    "print('Mean performance test set: ', np.round(np.mean((SplineLNP.SplineLNPEval()&{'spl_paramset':paramset}).fetch('spl_r_test')), 3))"
   ]
  },
  {
   "cell_type": "code",
   "execution_count": null,
   "metadata": {},
   "outputs": [],
   "source": [
    "spl_mean_test = np.round(np.mean((SplineLNP.SplineLNPEval()&{'spl_paramset':paramset}).fetch('spl_r_test')), 3)\n",
    "spl_std_test = np.round(np.std((SplineLNP.SplineLNPEval()&{'spl_paramset':paramset}).fetch('spl_r_test')), 3)"
   ]
  },
  {
   "cell_type": "code",
   "execution_count": null,
   "metadata": {},
   "outputs": [],
   "source": [
    "spl_keys = (SplineLNP*SplineLNP.SplineLNPEval() & {'spl_paramset':paramset} & ('spl_r_test > {:.3f}'.format(spl_mean_test+1.5*spl_std_test)) & {'m':'Ntsr1Cre_2019_0008'} ).fetch(dj.key)\n",
    "print('Number of units that are better than mean correlation + 1.5 times std: ', len(spl_keys))"
   ]
  },
  {
   "cell_type": "code",
   "execution_count": null,
   "metadata": {},
   "outputs": [],
   "source": [
    "for k in spl_keys:\n",
    "    glm._plot_RF(k)"
   ]
  },
  {
   "cell_type": "code",
   "execution_count": null,
   "metadata": {},
   "outputs": [],
   "source": []
  },
  {
   "cell_type": "markdown",
   "metadata": {},
   "source": [
    "## Plots for all units"
   ]
  },
  {
   "cell_type": "code",
   "execution_count": null,
   "metadata": {},
   "outputs": [],
   "source": [
    "# keys_glm = Glm().fetch(dj.key)\n",
    "# for key in keys_glm:\n",
    "#     glm._plot_RF(key)"
   ]
  },
  {
   "cell_type": "code",
   "execution_count": null,
   "metadata": {},
   "outputs": [],
   "source": [
    "# keys_spl = SplineLNP().fetch(dj.key)\n",
    "# for key in keys_spl:\n",
    "#     glm._plot_RF(key)"
   ]
  },
  {
   "cell_type": "code",
   "execution_count": null,
   "metadata": {},
   "outputs": [],
   "source": []
  }
 ],
 "metadata": {
  "kernelspec": {
   "display_name": "Python 3",
   "language": "python",
   "name": "python3"
  },
  "language_info": {
   "codemirror_mode": {
    "name": "ipython",
    "version": 3
   },
   "file_extension": ".py",
   "mimetype": "text/x-python",
   "name": "python",
   "nbconvert_exporter": "python",
   "pygments_lexer": "ipython3",
   "version": "3.6.7"
  }
 },
 "nbformat": 4,
 "nbformat_minor": 2
}
