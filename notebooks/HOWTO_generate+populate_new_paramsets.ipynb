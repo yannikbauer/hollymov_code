{
 "cells": [
  {
   "cell_type": "markdown",
   "metadata": {},
   "source": [
    "# Create, save, and populate new parameter sets for `SplineLNPParams()`\n",
    "\n",
    "In this jupyter notebook, new parameter sets for grid search is created and saved. It's also shown how to load and populate these parameter sets in the parameter table for the spline-based LNP models."
   ]
  },
  {
   "cell_type": "markdown",
   "metadata": {},
   "source": [
    "## Setup"
   ]
  },
  {
   "cell_type": "code",
   "execution_count": 1,
   "metadata": {},
   "outputs": [
    {
     "name": "stdout",
     "output_type": "stream",
     "text": [
      "For remote access to work, make sure to first open an SSH tunnel with MySQL\n",
      "port forwarding. Run the `djdtunnel` script in a separate terminal, with\n",
      "optional `--user` argument if your local and remote user names differ.\n",
      "Or, open the tunnel manually with:\n",
      "  ssh -NL 3306:huxley.neuro.bzm:3306 -p 1021 USERNAME@tunnel.bio.lmu.de\n",
      "Connecting execute@localhost:3306\n",
      "Connected to database 'dj_hmov' as 'execute@10.153.172.3'\n",
      "For remote file access to work, make sure to first mount the filesystem at tunnel.bio.lmu.de:1021 via SSHFS with `hux -r`\n"
     ]
    }
   ],
   "source": [
    "run -im djd.main -- --dbname=dj_hmov --r"
   ]
  },
  {
   "cell_type": "code",
   "execution_count": 2,
   "metadata": {},
   "outputs": [],
   "source": [
    "# Automatically reload modules to get code changes without restarting kernel\n",
    "# NOTE: Does not work for DJD table modules\n",
    "%load_ext autoreload\n",
    "%autoreload 2\n",
    "\n",
    "import warnings\n",
    "warnings.filterwarnings(\"ignore\")"
   ]
  },
  {
   "cell_type": "code",
   "execution_count": null,
   "metadata": {},
   "outputs": [],
   "source": []
  },
  {
   "cell_type": "markdown",
   "metadata": {},
   "source": [
    "## Check what is already populated"
   ]
  },
  {
   "cell_type": "code",
   "execution_count": null,
   "metadata": {},
   "outputs": [],
   "source": [
    "SplineLNPParams()"
   ]
  },
  {
   "cell_type": "markdown",
   "metadata": {},
   "source": [
    "You might want to drop what is populated:"
   ]
  },
  {
   "cell_type": "code",
   "execution_count": 7,
   "metadata": {},
   "outputs": [
    {
     "name": "stdout",
     "output_type": "stream",
     "text": [
      "`dj_hmovmodels`.`spline_l_n_p_params` (48 tuples)\n",
      "`dj_hmovmodels`.`__spline_l_n_p` (282 tuples)\n",
      "`dj_hmovmodels`.`__spline_l_n_p__eval` (282 tuples)\n"
     ]
    },
    {
     "name": "stdin",
     "output_type": "stream",
     "text": [
      "Proceed? [yes, No]:  yes\n"
     ]
    },
    {
     "name": "stdout",
     "output_type": "stream",
     "text": [
      "Tables dropped.  Restart kernel.\n"
     ]
    }
   ],
   "source": [
    "#SplineLNPParams().drop()"
   ]
  },
  {
   "cell_type": "code",
   "execution_count": 3,
   "metadata": {},
   "outputs": [
    {
     "data": {
      "text/html": [
       "\n",
       "        \n",
       "        <style type=\"text/css\">\n",
       "            .Relation{\n",
       "                border-collapse:collapse;\n",
       "            }\n",
       "            .Relation th{\n",
       "                background: #A0A0A0; color: #ffffff; padding:4px; border:#f0e0e0 1px solid;\n",
       "                font-weight: normal; font-family: monospace; font-size: 100%;\n",
       "            }\n",
       "            .Relation td{\n",
       "                padding:4px; border:#f0e0e0 1px solid; font-size:100%;\n",
       "            }\n",
       "            .Relation tr:nth-child(odd){\n",
       "                background: #ffffff;\n",
       "            }\n",
       "            .Relation tr:nth-child(even){\n",
       "                background: #f3f1ff;\n",
       "            }\n",
       "            /* Tooltip container */\n",
       "            .djtooltip {\n",
       "            }\n",
       "            /* Tooltip text */\n",
       "            .djtooltip .djtooltiptext {\n",
       "                visibility: hidden;\n",
       "                width: 120px;\n",
       "                background-color: black;\n",
       "                color: #fff;\n",
       "                text-align: center;\n",
       "                padding: 5px 0;\n",
       "                border-radius: 6px;\n",
       "                /* Position the tooltip text - see examples below! */\n",
       "                position: absolute;\n",
       "                z-index: 1;\n",
       "            }\n",
       "            #primary {\n",
       "                font-weight: bold;\n",
       "                color: black;\n",
       "            }\n",
       "\n",
       "            #nonprimary {\n",
       "                font-weight: normal;\n",
       "                color: white;\n",
       "            }\n",
       "\n",
       "            /* Show the tooltip text when you mouse over the tooltip container */\n",
       "            .djtooltip:hover .djtooltiptext {\n",
       "                visibility: visible;\n",
       "            }\n",
       "        </style>\n",
       "        \n",
       "        <b></b>\n",
       "            <div style=\"max-height:1000px;max-width:1500px;overflow:auto;\">\n",
       "            <table border=\"1\" class=\"Relation\">\n",
       "                <thead> <tr style=\"text-align: right;\"> <th> <div class=\"djtooltip\">\n",
       "                                <p id=\"primary\">spl_paramset</p>\n",
       "                                <span class=\"djtooltiptext\">parameter set ID</span>\n",
       "                            </div></th><th><div class=\"djtooltip\">\n",
       "                                <p id=\"nonprimary\">spl_distr</p>\n",
       "                                <span class=\"djtooltiptext\">nonlinearity in LNP</span>\n",
       "                            </div></th><th><div class=\"djtooltip\">\n",
       "                                <p id=\"nonprimary\">spl_alpha</p>\n",
       "                                <span class=\"djtooltiptext\">weighting betw. L2 and L1 penalty (alpha=1 only uses L1)</span>\n",
       "                            </div></th><th><div class=\"djtooltip\">\n",
       "                                <p id=\"nonprimary\">spl_lambda</p>\n",
       "                                <span class=\"djtooltiptext\">regularization parameter of penalty term</span>\n",
       "                            </div></th><th><div class=\"djtooltip\">\n",
       "                                <p id=\"nonprimary\">spl_lr</p>\n",
       "                                <span class=\"djtooltiptext\">initial learning rate for the JAX optimizer</span>\n",
       "                            </div></th><th><div class=\"djtooltip\">\n",
       "                                <p id=\"nonprimary\">spl_max_iter</p>\n",
       "                                <span class=\"djtooltiptext\">maximum number of iterations for the solver</span>\n",
       "                            </div></th><th><div class=\"djtooltip\">\n",
       "                                <p id=\"nonprimary\">spl_dt</p>\n",
       "                                <span class=\"djtooltiptext\">inverse of the sampling rate</span>\n",
       "                            </div></th><th><div class=\"djtooltip\">\n",
       "                                <p id=\"nonprimary\">spl_spat_df</p>\n",
       "                                <span class=\"djtooltiptext\">degrees of freedom num of basis functions for spatial domain</span>\n",
       "                            </div></th><th><div class=\"djtooltip\">\n",
       "                                <p id=\"nonprimary\">spl_temp_df</p>\n",
       "                                <span class=\"djtooltiptext\">degrees of freedom num of basis functions for temp component</span>\n",
       "                            </div></th><th><div class=\"djtooltip\">\n",
       "                                <p id=\"nonprimary\">spl_pshf</p>\n",
       "                                <span class=\"djtooltiptext\">fit post-spike history filter</span>\n",
       "                            </div></th><th><div class=\"djtooltip\">\n",
       "                                <p id=\"nonprimary\">spl_pshf_len</p>\n",
       "                                <span class=\"djtooltiptext\">length of the post-spike history filter</span>\n",
       "                            </div></th><th><div class=\"djtooltip\">\n",
       "                                <p id=\"nonprimary\">spl_pshf_df</p>\n",
       "                                <span class=\"djtooltiptext\">number of basis functions for post-spike history filter</span>\n",
       "                            </div></th><th><div class=\"djtooltip\">\n",
       "                                <p id=\"nonprimary\">spl_verb</p>\n",
       "                                <span class=\"djtooltiptext\">when verbose=n progress will be printed in every n steps</span>\n",
       "                            </div></th><th><div class=\"djtooltip\">\n",
       "                                <p id=\"nonprimary\">spl_metric</p>\n",
       "                                <span class=\"djtooltiptext\">'None', 'mse', 'r2', or 'corrcoef'</span>\n",
       "                            </div></th><th><div class=\"djtooltip\">\n",
       "                                <p id=\"nonprimary\">spl_norm_y</p>\n",
       "                                <span class=\"djtooltiptext\">normalize observed responses</span>\n",
       "                            </div></th><th><div class=\"djtooltip\">\n",
       "                                <p id=\"nonprimary\">spl_nlag</p>\n",
       "                                <span class=\"djtooltiptext\">number of time steps of the kernel</span>\n",
       "                            </div></th><th><div class=\"djtooltip\">\n",
       "                                <p id=\"nonprimary\">spl_shift</p>\n",
       "                                <span class=\"djtooltiptext\">shift kernel to not predict itself</span>\n",
       "                            </div></th><th><div class=\"djtooltip\">\n",
       "                                <p id=\"nonprimary\">spl_spat_scaling</p>\n",
       "                                <span class=\"djtooltiptext\">scaling factor for spatial resolution of movie</span>\n",
       "                            </div></th><th><div class=\"djtooltip\">\n",
       "                                <p id=\"nonprimary\">spl_opto</p>\n",
       "                                <span class=\"djtooltiptext\">fit optogenetics filter</span>\n",
       "                            </div></th><th><div class=\"djtooltip\">\n",
       "                                <p id=\"nonprimary\">spl_opto_len</p>\n",
       "                                <span class=\"djtooltiptext\">length of the opto filter (number of time steps)</span>\n",
       "                            </div></th><th><div class=\"djtooltip\">\n",
       "                                <p id=\"nonprimary\">spl_opto_df</p>\n",
       "                                <span class=\"djtooltiptext\">number of basis functions for opto filter</span>\n",
       "                            </div></th><th><div class=\"djtooltip\">\n",
       "                                <p id=\"nonprimary\">spl_run</p>\n",
       "                                <span class=\"djtooltiptext\">fit running filter</span>\n",
       "                            </div></th><th><div class=\"djtooltip\">\n",
       "                                <p id=\"nonprimary\">spl_run_len</p>\n",
       "                                <span class=\"djtooltiptext\">length of the running filter (number of time steps)</span>\n",
       "                            </div></th><th><div class=\"djtooltip\">\n",
       "                                <p id=\"nonprimary\">spl_run_df</p>\n",
       "                                <span class=\"djtooltiptext\">number of basis functions for running filter</span>\n",
       "                            </div></th><th><div class=\"djtooltip\">\n",
       "                                <p id=\"nonprimary\">spl_eye</p>\n",
       "                                <span class=\"djtooltiptext\">fit eye filter</span>\n",
       "                            </div></th><th><div class=\"djtooltip\">\n",
       "                                <p id=\"nonprimary\">spl_eye_len</p>\n",
       "                                <span class=\"djtooltiptext\">length of the eye filter (number of time steps)</span>\n",
       "                            </div></th><th><div class=\"djtooltip\">\n",
       "                                <p id=\"nonprimary\">spl_eye_df</p>\n",
       "                                <span class=\"djtooltiptext\">number of basis functions for eye filter</span>\n",
       "                            </div></th><th><div class=\"djtooltip\">\n",
       "                                <p id=\"nonprimary\">spl_eye_lpfilt</p>\n",
       "                                <span class=\"djtooltiptext\">lowpass filter eye data</span>\n",
       "                            </div></th><th><div class=\"djtooltip\">\n",
       "                                <p id=\"nonprimary\">spl_eye_cutoff</p>\n",
       "                                <span class=\"djtooltiptext\">cutoff freq. for lowpass filter (set 0 if lpfilt=False)</span>\n",
       "                            </div> </th> </tr> </thead>\n",
       "                <tbody> <tr>  </tr> </tbody>\n",
       "            </table>\n",
       "            \n",
       "            <p>Total: 0</p></div>\n",
       "            "
      ],
      "text/plain": [
       "*spl_paramset    spl_distr     spl_alpha     spl_lambda     spl_lr     spl_max_iter     spl_dt     spl_spat_df     spl_temp_df     spl_pshf     spl_pshf_len     spl_pshf_df     spl_verb     spl_metric     spl_norm_y     spl_nlag     spl_shift     spl_spat_scaling     spl_opto     spl_opto_len     spl_opto_df     spl_run     spl_run_len     spl_run_df     spl_eye     spl_eye_len     spl_eye_df     spl_eye_lpfilt     spl_eye_cutoff    \n",
       "+--------------+ +-----------+ +-----------+ +------------+ +--------+ +--------------+ +--------+ +-------------+ +-------------+ +----------+ +--------------+ +-------------+ +----------+ +------------+ +------------+ +----------+ +-----------+ +------------------+ +----------+ +--------------+ +-------------+ +---------+ +-------------+ +------------+ +---------+ +-------------+ +------------+ +----------------+ +----------------+\n",
       "\n",
       " (Total: 0)"
      ]
     },
     "execution_count": 3,
     "metadata": {},
     "output_type": "execute_result"
    }
   ],
   "source": [
    "SplineLNPParams()"
   ]
  },
  {
   "cell_type": "markdown",
   "metadata": {},
   "source": [
    "## Generate parameter sets\n",
    "\n",
    "Some parameters stay fixed (e.g. learning rate, nlag, ...), and some are varied in the grid search. \n",
    "\n",
    "Varied parameters are the following:\n",
    "* number of spline basis functions in the spatial dimension (frame height): `spl_spat_df`\n",
    "* model configurations:\n",
    "    * post-spike history filter: `spl_pshf`\n",
    "    * opto stimuluation as model input: `spl_opto`\n",
    "    * running speed as model input: `spl_run`\n",
    "    * pupil size as model input: `spl_eye`"
   ]
  },
  {
   "cell_type": "code",
   "execution_count": 11,
   "metadata": {},
   "outputs": [],
   "source": [
    "# Start index for new paramsets\n",
    "parameterset_idx = 500"
   ]
  },
  {
   "cell_type": "markdown",
   "metadata": {},
   "source": [
    "The attribute `spl_paramset` will just start with parameterset_idx and count up for all following parameter combinations that we create.\n",
    "\n",
    "Make sure that the parameterset_idx is unique and not already populated."
   ]
  },
  {
   "cell_type": "code",
   "execution_count": 12,
   "metadata": {},
   "outputs": [],
   "source": [
    "# Define fixed parameters\n",
    "stim = 'hmov'\n",
    "distr = 'softplus'\n",
    "alpha = 1.0\n",
    "lr = 0.1\n",
    "spl_lambda = 1.4\n",
    "max_iter = 1500\n",
    "spat_df = 6\n",
    "temp_df = 7\n",
    "verbose = 200\n",
    "metric='corrcoef'\n",
    "norm_y = 'False'\n",
    "nlag = 20\n",
    "shift = 1\n",
    "spat_scaling=0.06\n",
    "data_fs = 60\n",
    "eye_smooth = 'True'\n",
    "\n",
    "# Define ranges for grid search\n",
    "spat_df_grid = [4,6,8]\n",
    "pshf_grid = ['True', 'False']\n",
    "opto_grid = ['True', 'False']\n",
    "run_grid = ['True', 'False']\n",
    "eye_grid = ['True', 'False']\n",
    "\n",
    "# Loop over conditions\n",
    "paramdicts_grid = []\n",
    "for pshf in pshf_grid:\n",
    "    for opto in opto_grid:\n",
    "        for run in run_grid:\n",
    "            for eye in eye_grid:\n",
    "                for spat_df in spat_df_grid:\n",
    "                    # Behavior and opto configuration\n",
    "                    # post-spike\n",
    "                    if pshf is 'True':\n",
    "                        pshf_len = 20\n",
    "                        pshf_df = 10\n",
    "                    elif pshf is 'False':\n",
    "                        pshf_len = 0\n",
    "                        pshf_df = 0\n",
    "                    # opto\n",
    "                    if opto is 'True':\n",
    "                        opto_len = 20\n",
    "                        opto_df = 10\n",
    "                    elif opto is 'False':\n",
    "                        opto_len = 0\n",
    "                        opto_df = 0\n",
    "                    # run\n",
    "                    if run is 'True':\n",
    "                        run_len = 20\n",
    "                        run_df = 10\n",
    "                    elif run is 'False':\n",
    "                        run_len = 0\n",
    "                        run_df = 0\n",
    "                    # eye\n",
    "                    if eye is 'True':\n",
    "                        eye_len = 20\n",
    "                        eye_df = 10\n",
    "                    elif eye is 'False':\n",
    "                        eye_len = 0\n",
    "                        eye_df = 0\n",
    "                    # generate parameter dict\n",
    "                    param_dict = SplineLNPParams().generate_paramset(paramseti=parameterset_idx, \n",
    "                                                                        # Grid \n",
    "                                                                        spat_df=spat_df,\n",
    "                                                                        # Behavior config\n",
    "                                                                        pshf=pshf, \n",
    "                                                                        pshf_len=pshf_len,\n",
    "                                                                        pshf_df=pshf_df, \n",
    "                                                                        opto=opto,\n",
    "                                                                        opto_len=opto_len, \n",
    "                                                                        opto_df=opto_df,\n",
    "                                                                        run=run,\n",
    "                                                                        run_len=run_len, \n",
    "                                                                        run_df=run_df,\n",
    "                                                                        eye=eye,\n",
    "                                                                        eye_len=eye_len, \n",
    "                                                                        eye_df=eye_df, \n",
    "                                                                        # Fixed params\n",
    "                                                                        stim=stim,\n",
    "                                                                        lr=lr, \n",
    "                                                                        spl_lambda=spl_lambda,\n",
    "                                                                        max_iter=max_iter, \n",
    "                                                                        nlag=nlag, \n",
    "                                                                        shift=shift, \n",
    "                                                                        temp_df=temp_df,\n",
    "                                                                        distr=distr, \n",
    "                                                                        alpha=alpha,\n",
    "                                                                        verbose=verbose, \n",
    "                                                                        metric=metric, \n",
    "                                                                        norm_y=norm_y,\n",
    "                                                                        spat_scaling=spat_scaling,\n",
    "                                                                        data_fs=data_fs,\n",
    "                                                                        eye_smooth=eye_smooth\n",
    "                                                                        )\n",
    "                    paramdicts_grid.append(param_dict)\n",
    "                    parameterset_idx+=1"
   ]
  },
  {
   "cell_type": "markdown",
   "metadata": {},
   "source": [
    "Check number of generated parameter sets:"
   ]
  },
  {
   "cell_type": "code",
   "execution_count": 13,
   "metadata": {},
   "outputs": [
    {
     "data": {
      "text/plain": [
       "48"
      ]
     },
     "execution_count": 13,
     "metadata": {},
     "output_type": "execute_result"
    }
   ],
   "source": [
    "6*2*2*2"
   ]
  },
  {
   "cell_type": "code",
   "execution_count": 14,
   "metadata": {},
   "outputs": [
    {
     "data": {
      "text/plain": [
       "48"
      ]
     },
     "execution_count": 14,
     "metadata": {},
     "output_type": "execute_result"
    }
   ],
   "source": [
    "len(paramdicts_grid)"
   ]
  },
  {
   "cell_type": "markdown",
   "metadata": {},
   "source": [
    "Check first and last parameter set:"
   ]
  },
  {
   "cell_type": "code",
   "execution_count": 15,
   "metadata": {},
   "outputs": [
    {
     "data": {
      "text/plain": [
       "{'spl_paramset': 500,\n",
       " 'spl_stim': 'hmov',\n",
       " 'spl_distr': 'softplus',\n",
       " 'spl_alpha': 1.0,\n",
       " 'spl_lambda': 1.4,\n",
       " 'spl_lr': 0.1,\n",
       " 'spl_max_iter': 1500,\n",
       " 'spl_spat_df': 4,\n",
       " 'spl_temp_df': 7,\n",
       " 'spl_pshf': 'True',\n",
       " 'spl_pshf_len': 20,\n",
       " 'spl_pshf_df': 10,\n",
       " 'spl_verb': 200,\n",
       " 'spl_metric': 'corrcoef',\n",
       " 'spl_norm_y': 'False',\n",
       " 'spl_nlag': 20,\n",
       " 'spl_shift': 1,\n",
       " 'spl_spat_scaling': 0.06,\n",
       " 'spl_data_fs': 60,\n",
       " 'spl_opto': 'True',\n",
       " 'spl_opto_len': 20,\n",
       " 'spl_opto_df': 10,\n",
       " 'spl_run': 'True',\n",
       " 'spl_run_len': 20,\n",
       " 'spl_run_df': 10,\n",
       " 'spl_eye': 'True',\n",
       " 'spl_eye_len': 20,\n",
       " 'spl_eye_df': 10,\n",
       " 'spl_eye_smooth': 'True'}"
      ]
     },
     "execution_count": 15,
     "metadata": {},
     "output_type": "execute_result"
    }
   ],
   "source": [
    "paramdicts_grid[0]"
   ]
  },
  {
   "cell_type": "code",
   "execution_count": 16,
   "metadata": {},
   "outputs": [
    {
     "data": {
      "text/plain": [
       "{'spl_paramset': 547,\n",
       " 'spl_stim': 'hmov',\n",
       " 'spl_distr': 'softplus',\n",
       " 'spl_alpha': 1.0,\n",
       " 'spl_lambda': 1.4,\n",
       " 'spl_lr': 0.1,\n",
       " 'spl_max_iter': 1500,\n",
       " 'spl_spat_df': 8,\n",
       " 'spl_temp_df': 7,\n",
       " 'spl_pshf': 'False',\n",
       " 'spl_pshf_len': 0,\n",
       " 'spl_pshf_df': 0,\n",
       " 'spl_verb': 200,\n",
       " 'spl_metric': 'corrcoef',\n",
       " 'spl_norm_y': 'False',\n",
       " 'spl_nlag': 20,\n",
       " 'spl_shift': 1,\n",
       " 'spl_spat_scaling': 0.06,\n",
       " 'spl_data_fs': 60,\n",
       " 'spl_opto': 'False',\n",
       " 'spl_opto_len': 0,\n",
       " 'spl_opto_df': 0,\n",
       " 'spl_run': 'False',\n",
       " 'spl_run_len': 0,\n",
       " 'spl_run_df': 0,\n",
       " 'spl_eye': 'False',\n",
       " 'spl_eye_len': 0,\n",
       " 'spl_eye_df': 0,\n",
       " 'spl_eye_smooth': 'True'}"
      ]
     },
     "execution_count": 16,
     "metadata": {},
     "output_type": "execute_result"
    }
   ],
   "source": [
    "paramdicts_grid[-1]"
   ]
  },
  {
   "cell_type": "markdown",
   "metadata": {},
   "source": [
    "## Save as .json"
   ]
  },
  {
   "cell_type": "code",
   "execution_count": 9,
   "metadata": {},
   "outputs": [
    {
     "name": "stdout",
     "output_type": "stream",
     "text": [
      "JSON file saved /mnt/hux/mudata/djstore/hmov_paramsets/SplineLNPParams_grid_search_2021-06-23_102743.json\n"
     ]
    }
   ],
   "source": [
    "import json\n",
    "\n",
    "date_str = (np.datetime_as_string(np.datetime64('now'))).replace(\":\", \"\").replace(\"T\",\"_\")\n",
    "filename = 'SplineLNPParams_grid_search_{:s}.json'.format(date_str)\n",
    "#path = './'\n",
    "path = '/mnt/hux/mudata/djstore/hmov_paramsets'\n",
    "full_path = os.path.join(path, filename)\n",
    "with open(full_path, 'w') as file_out:\n",
    "    json.dump(paramdicts_grid, file_out, indent=2)\n",
    "print('JSON file saved {:s}'.format(full_path))"
   ]
  },
  {
   "cell_type": "markdown",
   "metadata": {},
   "source": [
    "## Populate `SplineLNPParams()`"
   ]
  },
  {
   "cell_type": "markdown",
   "metadata": {},
   "source": [
    "Insert name of the .json file you want to load.\n",
    "\n",
    "Here we just want to populate the paramsets we just generated so we can use the `filename`.\n",
    "\n",
    "Check the directory `/mnt/hux/mudata/djstore/hmov_paramsets/` for other paramsets. Note that the attributes of the parameter table might have changed so that old saved paramsets might have to be adjusted in their attributes to be loaded."
   ]
  },
  {
   "cell_type": "code",
   "execution_count": 10,
   "metadata": {},
   "outputs": [
    {
     "data": {
      "text/plain": [
       "'SplineLNPParams_grid_search_2021-06-23_102743.json'"
      ]
     },
     "execution_count": 10,
     "metadata": {},
     "output_type": "execute_result"
    }
   ],
   "source": [
    "filename"
   ]
  },
  {
   "cell_type": "code",
   "execution_count": null,
   "metadata": {},
   "outputs": [],
   "source": [
    "SplineLNPParams().populate_saved_paramset(filename)"
   ]
  },
  {
   "cell_type": "markdown",
   "metadata": {},
   "source": [
    "# Check if population was successful"
   ]
  },
  {
   "cell_type": "code",
   "execution_count": null,
   "metadata": {},
   "outputs": [],
   "source": [
    "SplineLNPParams()"
   ]
  }
 ],
 "metadata": {
  "kernelspec": {
   "display_name": "Python 3",
   "language": "python",
   "name": "python3"
  },
  "language_info": {
   "codemirror_mode": {
    "name": "ipython",
    "version": 3
   },
   "file_extension": ".py",
   "mimetype": "text/x-python",
   "name": "python",
   "nbconvert_exporter": "python",
   "pygments_lexer": "ipython3",
   "version": "3.6.7"
  }
 },
 "nbformat": 4,
 "nbformat_minor": 2
}
