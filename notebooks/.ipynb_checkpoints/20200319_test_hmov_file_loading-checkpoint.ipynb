{
 "cells": [
  {
   "cell_type": "markdown",
   "metadata": {},
   "source": [
    "# Test hmov file loading"
   ]
  },
  {
   "cell_type": "code",
   "execution_count": 1,
   "metadata": {},
   "outputs": [
    {
     "name": "stdout",
     "output_type": "stream",
     "text": [
      "Connecting execute@huxley.neuro.bzm:3306\n",
      "Connected to database 'dj_hmov' as 'execute@10.153.173.165'\n"
     ]
    }
   ],
   "source": [
    "run -im djd.main -- --dbname=dj_hmov"
   ]
  },
  {
   "cell_type": "code",
   "execution_count": 2,
   "metadata": {},
   "outputs": [
    {
     "data": {
      "text/plain": [
       "['dj_acute',\n",
       " 'dj_aggregate',\n",
       " 'dj_agne',\n",
       " 'dj_ann',\n",
       " 'dj_bauer',\n",
       " 'dj_born',\n",
       " 'dj_d',\n",
       " 'dj_data',\n",
       " 'dj_dcrombie',\n",
       " 'dj_food',\n",
       " 'dj_hmov',\n",
       " 'dj_khanal',\n",
       " 'dj_laura',\n",
       " 'dj_lisa',\n",
       " 'dj_lukas',\n",
       " 'dj_marlia',\n",
       " 'dj_miro',\n",
       " 'dj_mspacek',\n",
       " 'dj_old',\n",
       " 'dj_ovidiu',\n",
       " 'dj_pilot',\n",
       " 'dj_renner',\n",
       " 'dj_sk',\n",
       " 'dj_skhanal',\n",
       " 'dj_xinyu',\n",
       " 'information_schema']"
      ]
     },
     "execution_count": 2,
     "metadata": {},
     "output_type": "execute_result"
    }
   ],
   "source": [
    "lsdb()"
   ]
  },
  {
   "cell_type": "code",
   "execution_count": 7,
   "metadata": {},
   "outputs": [],
   "source": [
    "key = {'hm_version':3, 'hm_width_pix':424, 'hm_height_pix':264, 'hm_test_v_train': 'test', 'hm_scene_id': 0}"
   ]
  },
  {
   "cell_type": "code",
   "execution_count": 8,
   "metadata": {},
   "outputs": [
    {
     "data": {
      "text/html": [
       "\n",
       "        \n",
       "        <style type=\"text/css\">\n",
       "            .Relation{\n",
       "                border-collapse:collapse;\n",
       "            }\n",
       "            .Relation th{\n",
       "                background: #A0A0A0; color: #ffffff; padding:4px; border:#f0e0e0 1px solid;\n",
       "                font-weight: normal; font-family: monospace; font-size: 100%;\n",
       "            }\n",
       "            .Relation td{\n",
       "                padding:4px; border:#f0e0e0 1px solid; font-size:100%;\n",
       "            }\n",
       "            .Relation tr:nth-child(odd){\n",
       "                background: #ffffff;\n",
       "            }\n",
       "            .Relation tr:nth-child(even){\n",
       "                background: #f3f1ff;\n",
       "            }\n",
       "            /* Tooltip container */\n",
       "            .djtooltip {\n",
       "            }\n",
       "            /* Tooltip text */\n",
       "            .djtooltip .djtooltiptext {\n",
       "                visibility: hidden;\n",
       "                width: 120px;\n",
       "                background-color: black;\n",
       "                color: #fff;\n",
       "                text-align: center;\n",
       "                padding: 5px 0;\n",
       "                border-radius: 6px;\n",
       "                /* Position the tooltip text - see examples below! */\n",
       "                position: absolute;\n",
       "                z-index: 1;\n",
       "            }\n",
       "            #primary {\n",
       "                font-weight: bold;\n",
       "                color: black;\n",
       "            }\n",
       "\n",
       "            #nonprimary {\n",
       "                font-weight: normal;\n",
       "                color: white;\n",
       "            }\n",
       "\n",
       "            /* Show the tooltip text when you mouse over the tooltip container */\n",
       "            .djtooltip:hover .djtooltiptext {\n",
       "                visibility: visible;\n",
       "            }\n",
       "        </style>\n",
       "        \n",
       "        <b></b>\n",
       "            <div style=\"max-height:1000px;max-width:1500px;overflow:auto;\">\n",
       "            <table border=\"1\" class=\"Relation\">\n",
       "                <thead> <tr style=\"text-align: right;\"> <th> <div class=\"djtooltip\">\n",
       "                                <p id=\"primary\">hm_version</p>\n",
       "                                <span class=\"djtooltiptext\">movie version number</span>\n",
       "                            </div></th><th><div class=\"djtooltip\">\n",
       "                                <p id=\"primary\">hm_width_pix</p>\n",
       "                                <span class=\"djtooltiptext\">frame width (pixels)</span>\n",
       "                            </div></th><th><div class=\"djtooltip\">\n",
       "                                <p id=\"primary\">hm_height_pix</p>\n",
       "                                <span class=\"djtooltiptext\">frame height (pixels)</span>\n",
       "                            </div></th><th><div class=\"djtooltip\">\n",
       "                                <p id=\"primary\">hm_test_v_train</p>\n",
       "                                <span class=\"djtooltiptext\">whether it's a test or training scene</span>\n",
       "                            </div></th><th><div class=\"djtooltip\">\n",
       "                                <p id=\"primary\">hm_scene_id</p>\n",
       "                                <span class=\"djtooltiptext\">scene id (0-indexed), starting from 0 each for test and training scenes</span>\n",
       "                            </div></th><th><div class=\"djtooltip\">\n",
       "                                <p id=\"nonprimary\">hm_scene_file</p>\n",
       "                                <span class=\"djtooltiptext\">attached scene files (.avi)</span>\n",
       "                            </div></th><th><div class=\"djtooltip\">\n",
       "                                <p id=\"nonprimary\">hm_file_name_orig</p>\n",
       "                                <span class=\"djtooltiptext\">original movie file name and directory</span>\n",
       "                            </div></th><th><div class=\"djtooltip\">\n",
       "                                <p id=\"nonprimary\">hm_start_frame</p>\n",
       "                                <span class=\"djtooltiptext\">start frame for 5 s scene cut out from source file</span>\n",
       "                            </div></th><th><div class=\"djtooltip\">\n",
       "                                <p id=\"nonprimary\">hm_start_x</p>\n",
       "                                <span class=\"djtooltiptext\">start x pixel for scene crop</span>\n",
       "                            </div></th><th><div class=\"djtooltip\">\n",
       "                                <p id=\"nonprimary\">hm_start_y</p>\n",
       "                                <span class=\"djtooltiptext\">start y pixel for scene crop</span>\n",
       "                            </div> </th> </tr> </thead>\n",
       "                <tbody> <tr> <td>3</td>\n",
       "<td>424</td>\n",
       "<td>264</td>\n",
       "<td>test</td>\n",
       "<td>0</td>\n",
       "<td>=BLOB=</td>\n",
       "<td>../../hollywood_movies_02/data/original/Holly - HighRes/MadMax/MadMax_060.mov</td>\n",
       "<td>456</td>\n",
       "<td>31</td>\n",
       "<td>4</td> </tr> </tbody>\n",
       "            </table>\n",
       "            \n",
       "            <p>Total: 1</p></div>\n",
       "            "
      ],
      "text/plain": [
       "*hm_version    *hm_width_pix    *hm_height_pix   *hm_test_v_train *hm_scene_id    hm_scene_f hm_file_name_ori hm_start_frame   hm_start_x     hm_start_y    \n",
       "+------------+ +--------------+ +--------------+ +--------------+ +-------------+ +--------+ +--------------+ +--------------+ +------------+ +------------+\n",
       "3              424              264              test             0               =BLOB=     ../../hollywood_ 456              31             4             \n",
       " (Total: 1)"
      ]
     },
     "execution_count": 8,
     "metadata": {},
     "output_type": "execute_result"
    }
   ],
   "source": [
    "Hmov.ScenePars() & key"
   ]
  },
  {
   "cell_type": "code",
   "execution_count": 14,
   "metadata": {},
   "outputs": [
    {
     "data": {
      "text/plain": [
       "'hmovTest_v3_424x264_scene-001.avi'"
      ]
     },
     "execution_count": 14,
     "metadata": {},
     "output_type": "execute_result"
    }
   ],
   "source": [
    "(Hmov.ScenePars() & key).fetch1('hm_scene_file')"
   ]
  },
  {
   "cell_type": "code",
   "execution_count": null,
   "metadata": {},
   "outputs": [],
   "source": []
  }
 ],
 "metadata": {
  "kernelspec": {
   "display_name": "Python 3",
   "language": "python",
   "name": "python3"
  },
  "language_info": {
   "codemirror_mode": {
    "name": "ipython",
    "version": 3
   },
   "file_extension": ".py",
   "mimetype": "text/x-python",
   "name": "python",
   "nbconvert_exporter": "python",
   "pygments_lexer": "ipython3",
   "version": "3.7.4"
  }
 },
 "nbformat": 4,
 "nbformat_minor": 4
}
