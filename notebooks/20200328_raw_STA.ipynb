{
 "cells": [
  {
   "cell_type": "markdown",
   "metadata": {},
   "source": [
    "# Calculate raw STRFs for one example cells of Ntsr1Cre_2019_0008"
   ]
  },
  {
   "cell_type": "code",
   "execution_count": 7,
   "metadata": {},
   "outputs": [],
   "source": [
    "import numpy as np\n",
    "import matplotlib.pyplot as plt\n",
    "import h5py\n",
    "import pickle"
   ]
  },
  {
   "cell_type": "markdown",
   "metadata": {},
   "source": [
    "## Load data"
   ]
  },
  {
   "cell_type": "code",
   "execution_count": 8,
   "metadata": {},
   "outputs": [],
   "source": [
    "m = 'Ntsr1Cre_2019_0008'\n",
    "s = 5\n",
    "e = 8"
   ]
  },
  {
   "cell_type": "code",
   "execution_count": 9,
   "metadata": {},
   "outputs": [],
   "source": [
    "with h5py.File('./data/'+str(m)+'_s0'+str(s)+'e0'+str(e)+'_binned.h5', 'r') as f:\n",
    "    response = np.array(f['response']) \n",
    "    stimulus = np.array(f['stimulus'])\n",
    "    tranges = np.array(f['tranges'])"
   ]
  },
  {
   "cell_type": "code",
   "execution_count": 10,
   "metadata": {},
   "outputs": [],
   "source": [
    "with open('./data/spiketimes_'+str(m)+'_s0'+str(s)+'e0'+str(e)+'.txt', \"rb\") as fp:   # Unpickling\n",
    "    spiketimes = pickle.load(fp)"
   ]
  },
  {
   "cell_type": "code",
   "execution_count": 11,
   "metadata": {},
   "outputs": [
    {
     "name": "stdout",
     "output_type": "stream",
     "text": [
      "stimulus shape:  (54000, 16, 25)\n",
      "response shape:  (6, 54000)\n",
      "number of spiketimes first cell:  27768\n"
     ]
    }
   ],
   "source": [
    "print('stimulus shape: ',stimulus.shape)\n",
    "print('response shape: ',response.shape)\n",
    "print('number of spiketimes first cell: ', spiketimes[0].shape[0])"
   ]
  },
  {
   "cell_type": "code",
   "execution_count": 12,
   "metadata": {},
   "outputs": [
    {
     "data": {
      "text/plain": [
       "54000"
      ]
     },
     "execution_count": 12,
     "metadata": {},
     "output_type": "execute_result"
    }
   ],
   "source": [
    "(8*180*30) + (9*40*30)"
   ]
  },
  {
   "cell_type": "markdown",
   "metadata": {},
   "source": [
    "* 54000 frames \n",
    "* spatial resolution downsampled from 424x264 to 16x25\n",
    "* 6 units after spikesorting for this session\n",
    "* number of spike times varies"
   ]
  },
  {
   "cell_type": "code",
   "execution_count": 13,
   "metadata": {},
   "outputs": [
    {
     "name": "stdout",
     "output_type": "stream",
     "text": [
      "First spike time cell 1:  61.251416\n",
      "Last spike time cell 1:  1864.667033\n"
     ]
    }
   ],
   "source": [
    "# sanity check if first and last spike falls into tranges\n",
    "print('First spike time cell 1: ',spiketimes[0][0])\n",
    "print('Last spike time cell 1: ',spiketimes[0][-1])"
   ]
  },
  {
   "cell_type": "code",
   "execution_count": 14,
   "metadata": {},
   "outputs": [],
   "source": [
    "#units = [19, 21, 27, 48, 54, 58]\n",
    "units = [48]"
   ]
  },
  {
   "cell_type": "markdown",
   "metadata": {},
   "source": [
    "## Frame triggers (estimated)"
   ]
  },
  {
   "cell_type": "markdown",
   "metadata": {},
   "source": [
    "Stimulus time ranges:"
   ]
  },
  {
   "cell_type": "code",
   "execution_count": 15,
   "metadata": {},
   "outputs": [
    {
     "data": {
      "text/plain": [
       "array([[  61.214 ,  101.2786],\n",
       "       [ 101.294 ,  281.6264],\n",
       "       [ 281.6485,  321.7258],\n",
       "       [ 321.727 ,  502.0451],\n",
       "       [ 502.048 ,  542.1253],\n",
       "       [ 542.16  ,  722.497 ],\n",
       "       [ 722.481 ,  762.5583],\n",
       "       [ 762.5595,  942.9049],\n",
       "       [ 942.914 ,  982.9913],\n",
       "       [ 982.9925, 1163.3285],\n",
       "       [1163.347 , 1203.4243],\n",
       "       [1203.4255, 1383.7662],\n",
       "       [1383.7795, 1423.8568],\n",
       "       [1423.8585, 1604.2045],\n",
       "       [1604.1795, 1644.2568],\n",
       "       [1644.258 , 1824.602 ],\n",
       "       [1824.612 , 1864.6893]])"
      ]
     },
     "execution_count": 15,
     "metadata": {},
     "output_type": "execute_result"
    }
   ],
   "source": [
    "tranges"
   ]
  },
  {
   "cell_type": "markdown",
   "metadata": {},
   "source": [
    "Select time range:"
   ]
  },
  {
   "cell_type": "code",
   "execution_count": 16,
   "metadata": {},
   "outputs": [
    {
     "data": {
      "text/plain": [
       "[61.214, 1864.6893]"
      ]
     },
     "execution_count": 16,
     "metadata": {},
     "output_type": "execute_result"
    }
   ],
   "source": [
    "stim_tranges = [tranges[0][0], tranges[-1][1]]\n",
    "stim_tranges"
   ]
  },
  {
   "cell_type": "markdown",
   "metadata": {},
   "source": [
    "Select the whole 30 min of experiment."
   ]
  },
  {
   "cell_type": "code",
   "execution_count": 17,
   "metadata": {},
   "outputs": [],
   "source": [
    "# estimate frame triggers for full 30 min experiment:\n",
    "frame_triggers = np.linspace(stim_tranges[0], stim_tranges[1], stimulus.shape[0])"
   ]
  },
  {
   "cell_type": "code",
   "execution_count": 18,
   "metadata": {},
   "outputs": [
    {
     "data": {
      "text/plain": [
       "(54000,)"
      ]
     },
     "execution_count": 18,
     "metadata": {},
     "output_type": "execute_result"
    }
   ],
   "source": [
    "frame_triggers.shape"
   ]
  },
  {
   "cell_type": "markdown",
   "metadata": {},
   "source": [
    "## Training blocks"
   ]
  },
  {
   "cell_type": "code",
   "execution_count": 19,
   "metadata": {},
   "outputs": [
    {
     "data": {
      "text/plain": [
       "array([0, 1, 0, 2, 0, 3, 0, 4, 0, 5, 0, 6, 0, 7, 0, 8, 0])"
      ]
     },
     "execution_count": 19,
     "metadata": {},
     "output_type": "execute_result"
    }
   ],
   "source": [
    "stim_ids = np.array([0,1,0,2,0,3,0,4,0,5,0,6,0,7,0,8,0]) # will be made available through table Stimulus()\n",
    "stim_ids"
   ]
  },
  {
   "cell_type": "code",
   "execution_count": 20,
   "metadata": {},
   "outputs": [
    {
     "data": {
      "text/plain": [
       "array([[ 101.294 ,  281.6264],\n",
       "       [ 321.727 ,  502.0451],\n",
       "       [ 542.16  ,  722.497 ],\n",
       "       [ 762.5595,  942.9049],\n",
       "       [ 982.9925, 1163.3285],\n",
       "       [1203.4255, 1383.7662],\n",
       "       [1423.8585, 1604.2045],\n",
       "       [1644.258 , 1824.602 ]])"
      ]
     },
     "execution_count": 20,
     "metadata": {},
     "output_type": "execute_result"
    }
   ],
   "source": [
    "tranges_train = tranges[np.where(stim_ids!=0)]\n",
    "tranges_train"
   ]
  },
  {
   "cell_type": "code",
   "execution_count": 21,
   "metadata": {},
   "outputs": [
    {
     "data": {
      "text/plain": [
       "array([[180.3324],\n",
       "       [180.3181],\n",
       "       [180.337 ],\n",
       "       [180.3454],\n",
       "       [180.336 ],\n",
       "       [180.3407],\n",
       "       [180.346 ],\n",
       "       [180.344 ]])"
      ]
     },
     "execution_count": 21,
     "metadata": {},
     "output_type": "execute_result"
    }
   ],
   "source": [
    "np.diff(tranges_train)"
   ]
  },
  {
   "cell_type": "code",
   "execution_count": 22,
   "metadata": {},
   "outputs": [
    {
     "data": {
      "text/plain": [
       "(8, 2)"
      ]
     },
     "execution_count": 22,
     "metadata": {},
     "output_type": "execute_result"
    }
   ],
   "source": [
    "tranges_train.shape"
   ]
  },
  {
   "cell_type": "markdown",
   "metadata": {},
   "source": [
    "* 180 s is the length of each training block\n",
    "* 8 training blocks were played\n",
    "* 2 time ranges per training block (start & stop)\n",
    "* 5400 frames per each training block\n",
    "* 43200 frames for all 8 training blocks together (8 times 180 times 30)"
   ]
  },
  {
   "cell_type": "code",
   "execution_count": 23,
   "metadata": {},
   "outputs": [
    {
     "name": "stdout",
     "output_type": "stream",
     "text": [
      "(43200, 16, 25)\n",
      "(6, 43200)\n",
      "(43200,)\n"
     ]
    }
   ],
   "source": [
    "end = 0\n",
    "stim_train_l = []\n",
    "resp_train_l = []\n",
    "spkt_train_l = []\n",
    "frtr_train_l = []\n",
    "\n",
    "# loop through all training blocks and save them as one array (or in lists for spike times)\n",
    "for i, trange in enumerate(tranges_train):\n",
    "    start = end+(40*30) # skip test block which is 40 s long\n",
    "    end = start+(180*30) # 180 s is the length of one training block\n",
    "    \n",
    "    # stimulus\n",
    "    stim_train_l.append(stimulus[start:end,:,:])\n",
    "    \n",
    "    # response\n",
    "    resp_train_l.append(response[:,start:end])\n",
    "    \n",
    "    # frame triggers\n",
    "    frtr_train_l.append(frame_triggers[start:end])\n",
    "    \n",
    "    # spiketimes\n",
    "    # loop through cells\n",
    "    for cell in range(len(spiketimes)):\n",
    "        # when list empty at start, first fill it\n",
    "        if i==0:\n",
    "            # use actual time ranges here instead of estimated frame triggers -> this could lead to inaccuracies but shouldn't be a problem as soon as I get the actual frame triggers\n",
    "            spkt_train_l.append(spiketimes[cell][np.where(np.logical_and(spiketimes[cell]>=trange[0], spiketimes[cell]<=trange[1]))])\n",
    "        else:\n",
    "            # with every following stimulus block, just add the spiketimes of this block to the cell entry in the list\n",
    "            new_spkt = spiketimes[cell][np.where(np.logical_and(spiketimes[cell]>=trange[0], spiketimes[cell]<=trange[1]))]\n",
    "            prev_spkt =  spkt_train_l[cell]\n",
    "            spkt_train_l[cell] = np.concatenate((prev_spkt,new_spkt))\n",
    "\n",
    "# convert list to arrays for stimulus and response (spiketimes stay list because of unequal length of arrays per cell)\n",
    "stim_train = np.vstack(stim_train_l)\n",
    "resp_train = np.hstack(resp_train_l)\n",
    "frtr_train = np.hstack(frtr_train_l)\n",
    "\n",
    "print(stim_train.shape)\n",
    "print(resp_train.shape)\n",
    "print(frtr_train.shape)"
   ]
  },
  {
   "cell_type": "markdown",
   "metadata": {},
   "source": [
    "* 43200 frames for all 8 training blocks (8 times 180s times 30Hz)\n",
    "* 6 cells for this experimental session\n",
    "* 43200 frame triggers because each frame needs a trigger"
   ]
  },
  {
   "cell_type": "code",
   "execution_count": 25,
   "metadata": {},
   "outputs": [
    {
     "data": {
      "text/plain": [
       "<matplotlib.colorbar.Colorbar at 0x7f2a9f111b90>"
      ]
     },
     "execution_count": 25,
     "metadata": {},
     "output_type": "execute_result"
    },
    {
     "data": {
      "image/png": "[encoded data removed]",
      "text/plain": [
       "<Figure size 432x216 with 2 Axes>"
      ]
     },
     "metadata": {
      "needs_background": "light"
     },
     "output_type": "display_data"
    }
   ],
   "source": [
    "fig, axs = plt.subplots(1,1,figsize=(6,3))\n",
    "im=axs.imshow((np.mean(stim_train, axis=0)), cmap='gray')\n",
    "axs.set_axis_off()\n",
    "axs.set_title(' stimulus average ', weight='bold', fontsize=15)\n",
    "fig.colorbar(im, ax=axs)"
   ]
  },
  {
   "cell_type": "markdown",
   "metadata": {},
   "source": [
    "Response train array:"
   ]
  },
  {
   "cell_type": "code",
   "execution_count": 26,
   "metadata": {},
   "outputs": [
    {
     "data": {
      "text/plain": [
       "[<matplotlib.lines.Line2D at 0x7f2a9f103f90>]"
      ]
     },
     "execution_count": 26,
     "metadata": {},
     "output_type": "execute_result"
    },
    {
     "data": {
      "image/png": "[encoded data removed]",
      "text/plain": [
       "<Figure size 432x288 with 1 Axes>"
      ]
     },
     "metadata": {
      "needs_background": "light"
     },
     "output_type": "display_data"
    }
   ],
   "source": [
    "plt.plot(resp_train[1,:])"
   ]
  },
  {
   "cell_type": "markdown",
   "metadata": {},
   "source": [
    "There is no pattern because the training stimuli are not identical."
   ]
  },
  {
   "cell_type": "code",
   "execution_count": null,
   "metadata": {},
   "outputs": [],
   "source": []
  },
  {
   "cell_type": "code",
   "execution_count": null,
   "metadata": {},
   "outputs": [],
   "source": []
  },
  {
   "cell_type": "markdown",
   "metadata": {},
   "source": [
    "# STRF using hmov_train"
   ]
  },
  {
   "cell_type": "code",
   "execution_count": 27,
   "metadata": {},
   "outputs": [],
   "source": [
    "len_filter = int(1) # 6*33ms=200ms"
   ]
  },
  {
   "cell_type": "code",
   "execution_count": 28,
   "metadata": {},
   "outputs": [
    {
     "data": {
      "text/plain": [
       "6.0"
      ]
     },
     "execution_count": 28,
     "metadata": {},
     "output_type": "execute_result"
    }
   ],
   "source": [
    "feq = 30\n",
    "binwidth = 1/30\n",
    "200/(binwidth*1000)"
   ]
  },
  {
   "cell_type": "code",
   "execution_count": 29,
   "metadata": {},
   "outputs": [
    {
     "data": {
      "text/plain": [
       "0.2"
      ]
     },
     "execution_count": 29,
     "metadata": {},
     "output_type": "execute_result"
    }
   ],
   "source": [
    "binwidth*6 # in seconds"
   ]
  },
  {
   "cell_type": "markdown",
   "metadata": {},
   "source": [
    "Do it for one example cell:"
   ]
  },
  {
   "cell_type": "code",
   "execution_count": 30,
   "metadata": {},
   "outputs": [],
   "source": [
    "cell_id = 3\n",
    "spkt = spkt_train_l[cell_id]"
   ]
  },
  {
   "cell_type": "code",
   "execution_count": null,
   "metadata": {},
   "outputs": [],
   "source": []
  },
  {
   "cell_type": "markdown",
   "metadata": {},
   "source": [
    "Select frames that are previous to a spike:"
   ]
  },
  {
   "cell_type": "code",
   "execution_count": 31,
   "metadata": {},
   "outputs": [],
   "source": [
    "idxs_frame = []\n",
    "\n",
    "for spike_time in spkt:\n",
    "    idx_frame = np.searchsorted(frtr_train, spike_time)-1\n",
    "    idxs_frame.append(idx_frame)\n",
    "idxs_frame = np.array(idxs_frame)"
   ]
  },
  {
   "cell_type": "markdown",
   "metadata": {},
   "source": [
    "Ignore the ones that are too close to the beginning:"
   ]
  },
  {
   "cell_type": "code",
   "execution_count": 32,
   "metadata": {},
   "outputs": [],
   "source": [
    "idxs_frame = np.delete(idxs_frame, np.argwhere(idxs_frame <= len_filter))"
   ]
  },
  {
   "cell_type": "markdown",
   "metadata": {},
   "source": [
    "Cut out movie snippets of len filter prior to a spike:"
   ]
  },
  {
   "cell_type": "code",
   "execution_count": 33,
   "metadata": {},
   "outputs": [],
   "source": [
    "stim_snippets = []\n",
    "\n",
    "for i in idxs_frame:\n",
    "    cut_out_3d = stim_train[i-len_filter+1:i+1,:,:]\n",
    "    stim_snippets.append(cut_out_3d)"
   ]
  },
  {
   "cell_type": "code",
   "execution_count": 34,
   "metadata": {},
   "outputs": [
    {
     "name": "stdout",
     "output_type": "stream",
     "text": [
      "3575\n"
     ]
    }
   ],
   "source": [
    "print(len(stim_snippets))"
   ]
  },
  {
   "cell_type": "code",
   "execution_count": 35,
   "metadata": {},
   "outputs": [
    {
     "data": {
      "text/plain": [
       "(1, 16, 25)"
      ]
     },
     "execution_count": 35,
     "metadata": {},
     "output_type": "execute_result"
    }
   ],
   "source": [
    "stim_snippets[5].shape"
   ]
  },
  {
   "cell_type": "markdown",
   "metadata": {},
   "source": [
    "Convert list into 4d array:"
   ]
  },
  {
   "cell_type": "code",
   "execution_count": 36,
   "metadata": {},
   "outputs": [],
   "source": [
    "all_snippets_as_array = np.stack(stim_snippets, axis=0)"
   ]
  },
  {
   "cell_type": "code",
   "execution_count": 37,
   "metadata": {},
   "outputs": [
    {
     "data": {
      "text/plain": [
       "(3575, 1, 16, 25)"
      ]
     },
     "execution_count": 37,
     "metadata": {},
     "output_type": "execute_result"
    }
   ],
   "source": [
    "all_snippets_as_array.shape"
   ]
  },
  {
   "cell_type": "markdown",
   "metadata": {},
   "source": [
    "Calculate mean over the first dimension:"
   ]
  },
  {
   "cell_type": "code",
   "execution_count": 38,
   "metadata": {},
   "outputs": [],
   "source": [
    "STA_3d = np.mean(all_snippets_as_array,0)"
   ]
  },
  {
   "cell_type": "code",
   "execution_count": 39,
   "metadata": {},
   "outputs": [
    {
     "data": {
      "text/plain": [
       "(1, 16, 25)"
      ]
     },
     "execution_count": 39,
     "metadata": {},
     "output_type": "execute_result"
    }
   ],
   "source": [
    "STA_3d.shape"
   ]
  },
  {
   "cell_type": "code",
   "execution_count": 40,
   "metadata": {},
   "outputs": [
    {
     "data": {
      "image/png": "[encoded data removed]",
      "text/plain": [
       "<Figure size 432x216 with 2 Axes>"
      ]
     },
     "metadata": {
      "needs_background": "light"
     },
     "output_type": "display_data"
    }
   ],
   "source": [
    "fig, axs = plt.subplots(1,1,figsize=(6,3))\n",
    "im=axs.imshow(STA_3d[0,:,:], cmap='gray')\n",
    "axs.set_axis_off()\n",
    "axs.set_title(' spike triggered average ', weight='bold', fontsize=15)\n",
    "fig.colorbar(im, ax=axs)\n",
    "fig.tight_layout()"
   ]
  },
  {
   "cell_type": "code",
   "execution_count": null,
   "metadata": {},
   "outputs": [],
   "source": []
  },
  {
   "cell_type": "code",
   "execution_count": null,
   "metadata": {},
   "outputs": [],
   "source": []
  },
  {
   "cell_type": "code",
   "execution_count": null,
   "metadata": {},
   "outputs": [],
   "source": []
  }
 ],
 "metadata": {
  "kernelspec": {
   "display_name": "Python 3",
   "language": "python",
   "name": "python3"
  },
  "language_info": {
   "codemirror_mode": {
    "name": "ipython",
    "version": 3
   },
   "file_extension": ".py",
   "mimetype": "text/x-python",
   "name": "python",
   "nbconvert_exporter": "python",
   "pygments_lexer": "ipython3",
   "version": "3.7.5"
  }
 },
 "nbformat": 4,
 "nbformat_minor": 4
}
