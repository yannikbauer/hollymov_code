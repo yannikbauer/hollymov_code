{
 "cells": [
  {
   "cell_type": "code",
   "execution_count": 1,
   "metadata": {
    "pycharm": {
     "is_executing": false
    }
   },
   "outputs": [],
   "source": [
    "%load_ext autoreload\n",
    "%autoreload 2"
   ]
  },
  {
   "cell_type": "code",
   "execution_count": 2,
   "metadata": {
    "pycharm": {
     "is_executing": false
    }
   },
   "outputs": [],
   "source": [
    "import matplotlib.pyplot as plt\n",
    "%matplotlib inline\n",
    "import numpy as np\n",
    "import warnings\n",
    "warnings.filterwarnings(\"ignore\")\n",
    "import xml.etree.ElementTree as ET\n",
    "from lxml import etree"
   ]
  },
  {
   "cell_type": "code",
   "execution_count": 3,
   "metadata": {},
   "outputs": [
    {
     "name": "stdout",
     "output_type": "stream",
     "text": [
      "For remote access to work, make sure to first open an SSH tunnel with MySQL\n",
      "port forwarding. Run the `djdtunnel` script in a separate terminal, with\n",
      "optional `--user` argument if your local and remote user names differ.\n",
      "Or, open the tunnel manually with:\n",
      "  ssh -NL 3306:huxley.neuro.bzm:3306 -p 1021 USERNAME@tunnel.bio.lmu.de\n",
      "Connecting execute@localhost:3306\n",
      "Connected to database 'dj_lisa' as 'execute@10.153.172.3'\n",
      "For remote file access to work, make sure to first mount the filesystem at tunnel.bio.lmu.de:1021 via SSH\n",
      "WARNING: Path '/gpfs01/berens/user/lschmors/tudata/ephys' doesn't exist. Building from tuexp files won't work\n"
     ]
    }
   ],
   "source": [
    "run -im djd.main -- --dbname=dj_lisa --r"
   ]
  },
  {
   "cell_type": "code",
   "execution_count": 4,
   "metadata": {},
   "outputs": [],
   "source": [
    "run -i /gpfs01/berens/user/lschmors/Code/dLGN_project/djd/djd/signal.py"
   ]
  },
  {
   "cell_type": "code",
   "execution_count": 5,
   "metadata": {},
   "outputs": [],
   "source": [
    "run -i /gpfs01/berens/user/lschmors/Code/dLGN_project/djd/djd/util.py"
   ]
  },
  {
   "cell_type": "code",
   "execution_count": 6,
   "metadata": {},
   "outputs": [],
   "source": [
    "key = {'m': 'Ntsr1Cre_2019_0007', 's':1, 'e':6} # one example experiment with hmov stimulus"
   ]
  },
  {
   "cell_type": "code",
   "execution_count": 15,
   "metadata": {},
   "outputs": [],
   "source": [
    "parentkey = key"
   ]
  },
  {
   "cell_type": "markdown",
   "metadata": {},
   "source": [
    "### Get trials"
   ]
  },
  {
   "cell_type": "code",
   "execution_count": 16,
   "metadata": {},
   "outputs": [],
   "source": [
    "trials = (Stimulus.Hmov() * Stimulus.MovieCond() * Stimulus.Trial() & parentkey).fetch(as_dict=True)\n",
    "trials.sort(key=lambda i: i['trial_id'])  # alternatives: sorted (for new list), and itemgetter"
   ]
  },
  {
   "cell_type": "code",
   "execution_count": 17,
   "metadata": {},
   "outputs": [
    {
     "data": {
      "text/plain": [
       "{'m': 'Ntsr1Cre_2019_0007',\n",
       " 's': 1,\n",
       " 'e': 6,\n",
       " 'hm_version': 3,\n",
       " 'hm_seq_num': 1,\n",
       " 'stim_id': 0,\n",
       " 'trial_id': 6,\n",
       " 'hm_width_pix': 424,\n",
       " 'hm_height_pix': 264,\n",
       " 'hm_width_deg': 106.0,\n",
       " 'hm_height_deg': 66.0,\n",
       " 'movie_name': 'hmovTest',\n",
       " 'movie_form': 'Rectangle',\n",
       " 'movie_orientation': 90.0,\n",
       " 'movie_contrast': 1.0,\n",
       " 'movie_width': 106.0,\n",
       " 'movie_height': 66.0,\n",
       " 'movie_x_position': 45.0,\n",
       " 'movie_y_position': 0.0,\n",
       " 'trial_on_time': 722.9245,\n",
       " 'trial_off_time': 763.0350999999999}"
      ]
     },
     "execution_count": 17,
     "metadata": {},
     "output_type": "execute_result"
    }
   ],
   "source": [
    "trial = trials[6]\n",
    "trial"
   ]
  },
  {
   "cell_type": "markdown",
   "metadata": {},
   "source": [
    "### Get scene info"
   ]
  },
  {
   "cell_type": "code",
   "execution_count": 18,
   "metadata": {},
   "outputs": [],
   "source": [
    "# Get scenes and sort by scene position\n",
    "scenes = (Hmov.RandSeqPars() & trial).fetch(as_dict=True)\n",
    "scenes.sort(key=lambda i: i['hm_scene_pos'])  # alternatives: sorted (for new list), and itemgetter\n",
    "\n",
    "# Get hollymov version pars\n",
    "(fps, scene_dur) = (Hmov.VersionPars() & trial).fetch1('hm_fps', 'hm_scene_dur_sec')\n",
    "\n",
    "# Calculate scene times\n",
    "trial_ton = trial['trial_on_time']\n",
    "fp_scene = fps * scene_dur # unique frames per scene\n",
    "fps_monitor = 60 # Expo monitor frame rate (Hz) # TODO: find non-hard coded value elsewhere\n",
    "n_scenes = len(scenes)\n",
    "\n",
    "# Calc frame ids and corresponding frame nums - every frame was presented twice, given hmov fps=30 and fps_monitor=60\n",
    "frame_ids = np.repeat(np.arange(fp_scene), fps_monitor/fps)\n",
    "frame_nums = np.arange(len(frame_ids))\n",
    "\n",
    "# get trial on and off times recorded by expo\n",
    "ton_rec = trial['trial_on_time']\n",
    "toff_rec = trial['trial_off_time']"
   ]
  },
  {
   "cell_type": "code",
   "execution_count": 19,
   "metadata": {},
   "outputs": [],
   "source": [
    "dur_test = 40#scene_dur*n_scenes_test\n",
    "dur_train = 180#scene_dur*n_scenes_train"
   ]
  },
  {
   "cell_type": "markdown",
   "metadata": {},
   "source": [
    "### Get photodiode rise and fall times"
   ]
  },
  {
   "cell_type": "code",
   "execution_count": 7,
   "metadata": {},
   "outputs": [
    {
     "name": "stdout",
     "output_type": "stream",
     "text": [
      "/gpfs01/berens/user/lschmors/mudata/exp/Ntsr1Cre_2019_0007/s01/Ntsr1Cre_2019_0007_s01_e06.ns3\n"
     ]
    }
   ],
   "source": [
    "chan = 'photodiode'\n",
    "nsxfname = key2datafname(key, filetype='.ns3', force_exist=True)\n",
    "print(nsxfname)\n",
    "# retrieve info from nsx file:\n",
    "f = expio.nsx.File(nsxfname)\n",
    "ttl = f.get_chanV(chan)\n",
    "t0, tres = f.t0, f.fileheader.tres # inital offset and time resolution, in us\n",
    "f.close()"
   ]
  },
  {
   "cell_type": "code",
   "execution_count": 8,
   "metadata": {},
   "outputs": [
    {
     "name": "stdout",
     "output_type": "stream",
     "text": [
      "0.0\n",
      "500.0\n"
     ]
    }
   ],
   "source": [
    "print(t0)\n",
    "print(tres)"
   ]
  },
  {
   "cell_type": "code",
   "execution_count": 9,
   "metadata": {},
   "outputs": [
    {
     "data": {
      "text/plain": [
       "(3851626,)"
      ]
     },
     "execution_count": 9,
     "metadata": {},
     "output_type": "execute_result"
    }
   ],
   "source": [
    "ttl.shape"
   ]
  },
  {
   "cell_type": "code",
   "execution_count": 53,
   "metadata": {},
   "outputs": [
    {
     "data": {
      "text/plain": [
       "(-192581.25, 4044206.25, -0.11482589190343942, 4.4154942472609635)"
      ]
     },
     "execution_count": 53,
     "metadata": {},
     "output_type": "execute_result"
    },
    {
     "data": {
      "image/png": "[encoded data removed]",
      "text/plain": [
       "<Figure size 432x288 with 1 Axes>"
      ]
     },
     "metadata": {
      "needs_background": "light"
     },
     "output_type": "display_data"
    }
   ],
   "source": [
    "plt.plot(ttl)\n",
    "plt.title('Photodiode signal full exp. (30 min)', fontweight='bold')\n",
    "plt.axis('off')"
   ]
  },
  {
   "cell_type": "code",
   "execution_count": 69,
   "metadata": {},
   "outputs": [
    {
     "data": {
      "text/plain": [
       "(-49.95, 1048.95, -0.05286568803979613, 4.390003662221137)"
      ]
     },
     "execution_count": 69,
     "metadata": {},
     "output_type": "execute_result"
    },
    {
     "data": {
      "image/png": "[encoded data removed]",
      "text/plain": [
       "<Figure size 432x288 with 1 Axes>"
      ]
     },
     "metadata": {
      "needs_background": "light"
     },
     "output_type": "display_data"
    }
   ],
   "source": [
    "plt.plot(ttl[200000:201000])\n",
    "plt.title('Photodiode signal zoomed (~0.5 s)', fontweight='bold')\n",
    "plt.axis('off')"
   ]
  },
  {
   "cell_type": "code",
   "execution_count": 25,
   "metadata": {},
   "outputs": [
    {
     "name": "stdout",
     "output_type": "stream",
     "text": [
      "/gpfs01/berens/user/lschmors/mudata/exp/Ntsr1Cre_2019_0007/s01/Ntsr1Cre_2019_0007_s01_e06.ns3\n"
     ]
    }
   ],
   "source": [
    "rise, fall = get_nsx_risefalltimes({'m':trial['m'], 's':trial['s'], 'e':trial['e']}, chan='photodiode')\n",
    "sortedrisefall = np.sort(np.hstack([rise, fall]))"
   ]
  },
  {
   "cell_type": "code",
   "execution_count": 26,
   "metadata": {},
   "outputs": [
    {
     "data": {
      "text/plain": [
       "array([  61.642 ,   61.6565,   61.6765, ..., 1865.1795, 1865.1995,\n",
       "       1865.2125])"
      ]
     },
     "execution_count": 26,
     "metadata": {},
     "output_type": "execute_result"
    }
   ],
   "source": [
    "sortedrisefall"
   ]
  },
  {
   "cell_type": "code",
   "execution_count": 38,
   "metadata": {},
   "outputs": [
    {
     "data": {
      "text/plain": [
       "array([0.0145, 0.02  , 0.013 , 0.0205, 0.013 , 0.0205, 0.013 , 0.0205,\n",
       "       0.013 , 0.02  ])"
      ]
     },
     "execution_count": 38,
     "metadata": {},
     "output_type": "execute_result"
    }
   ],
   "source": [
    "sortedrisefalldiff = np.diff(sortedrisefall)\n",
    "sortedrisefalldiff[:10]"
   ]
  },
  {
   "cell_type": "code",
   "execution_count": 84,
   "metadata": {},
   "outputs": [
    {
     "data": {
      "text/plain": [
       "Text(0, 0.5, 'Difference betw. frame switch (s)')"
      ]
     },
     "execution_count": 84,
     "metadata": {},
     "output_type": "execute_result"
    },
    {
     "data": {
      "image/png": "[encoded data removed]",
      "text/plain": [
       "<Figure size 432x288 with 1 Axes>"
      ]
     },
     "metadata": {
      "needs_background": "light"
     },
     "output_type": "display_data"
    }
   ],
   "source": [
    "tv = np.linspace(0,1800, sortedrisefalldiff.shape[0])\n",
    "plt.plot(tv,sortedrisefalldiff)\n",
    "plt.gca().spines['top'].set_visible(False)\n",
    "plt.gca().spines['right'].set_visible(False)\n",
    "plt.xlabel('Time (s)')\n",
    "plt.ylabel('Difference betw. frame switch (s)')"
   ]
  },
  {
   "cell_type": "code",
   "execution_count": 29,
   "metadata": {},
   "outputs": [
    {
     "data": {
      "text/plain": [
       "array([0.0125, 0.013 , 0.013 , 0.013 , 0.013 , 0.013 , 0.013 , 0.013 ,\n",
       "       0.0135, 0.0135, 0.0135, 0.0135, 0.0135, 0.0135, 0.0135, 0.0145,\n",
       "       0.02  , 0.02  , 0.02  , 0.02  , 0.02  , 0.02  , 0.02  , 0.0205,\n",
       "       0.0205, 0.0205, 0.0205, 0.0205, 0.0205, 0.0205, 0.0375, 0.054 ])"
      ]
     },
     "execution_count": 29,
     "metadata": {},
     "output_type": "execute_result"
    }
   ],
   "source": [
    "np.unique(sortedrisefalldiff)"
   ]
  },
  {
   "cell_type": "markdown",
   "metadata": {},
   "source": [
    "Instead of 0.02 between fall and rise, it should be ~ 0.0166"
   ]
  },
  {
   "cell_type": "markdown",
   "metadata": {},
   "source": [
    "### Correct photodiode signal"
   ]
  },
  {
   "cell_type": "markdown",
   "metadata": {},
   "source": [
    "I want to keep the rise times fixed and change the fall times, so that the difference between rise and fall is approx. equal.\n",
    "\n",
    "Therefore, I add a correction factor to the fall times:"
   ]
  },
  {
   "cell_type": "code",
   "execution_count": 37,
   "metadata": {},
   "outputs": [
    {
     "data": {
      "text/plain": [
       "0.0034762796533269642"
      ]
     },
     "execution_count": 37,
     "metadata": {},
     "output_type": "execute_result"
    }
   ],
   "source": [
    "# correction factor\n",
    "cf = np.mean(np.abs(np.diff(sortedrisefalldiff)/2)) # Correction factor (cf)): the mean of (0.013-0.02)/2\n",
    "cf"
   ]
  },
  {
   "cell_type": "code",
   "execution_count": 40,
   "metadata": {},
   "outputs": [],
   "source": [
    "fallcf = fall + cf\n",
    "risefallcf = np.sort(np.hstack([rise, fallcf]))"
   ]
  },
  {
   "cell_type": "code",
   "execution_count": 41,
   "metadata": {},
   "outputs": [
    {
     "data": {
      "text/plain": [
       "array([0.01797628, 0.01652372, 0.01647628, ..., 0.01697628, 0.01652372,\n",
       "       0.01647628])"
      ]
     },
     "execution_count": 41,
     "metadata": {},
     "output_type": "execute_result"
    }
   ],
   "source": [
    "np.diff(risefallcf)"
   ]
  },
  {
   "cell_type": "code",
   "execution_count": 83,
   "metadata": {},
   "outputs": [
    {
     "data": {
      "text/plain": [
       "Text(0, 0.5, 'Corrected difference(s)')"
      ]
     },
     "execution_count": 83,
     "metadata": {},
     "output_type": "execute_result"
    },
    {
     "data": {
      "image/png": "[encoded data removed]",
      "text/plain": [
       "<Figure size 432x288 with 1 Axes>"
      ]
     },
     "metadata": {
      "needs_background": "light"
     },
     "output_type": "display_data"
    }
   ],
   "source": [
    "plt.plot(tv,np.diff(risefallcf))\n",
    "plt.gca().spines['top'].set_visible(False)\n",
    "plt.gca().spines['right'].set_visible(False)\n",
    "plt.xlabel('Time (s)')\n",
    "plt.ylabel('Corrected difference(s)')"
   ]
  },
  {
   "cell_type": "code",
   "execution_count": 81,
   "metadata": {},
   "outputs": [
    {
     "data": {
      "text/plain": [
       "Text(0, 0.5, '#occurrences')"
      ]
     },
     "execution_count": 81,
     "metadata": {},
     "output_type": "execute_result"
    },
    {
     "data": {
      "image/png": "[encoded data removed]",
      "text/plain": [
       "<Figure size 432x288 with 1 Axes>"
      ]
     },
     "metadata": {
      "needs_background": "light"
     },
     "output_type": "display_data"
    }
   ],
   "source": [
    "plt.hist(np.diff(risefallcf[40000:]), bins=50, range=(0.0,0.02))\n",
    "plt.gca().spines['top'].set_visible(False)\n",
    "plt.gca().spines['right'].set_visible(False)\n",
    "plt.title('Corrected differences betw. rise and fall times', fontweight='bold')\n",
    "plt.xlabel('Differences betw. rise and fall')\n",
    "plt.ylabel('#occurrences')"
   ]
  },
  {
   "cell_type": "markdown",
   "metadata": {},
   "source": [
    "# Digital word signal"
   ]
  },
  {
   "cell_type": "code",
   "execution_count": 85,
   "metadata": {},
   "outputs": [],
   "source": [
    "dwordts = get_nev_times(key)"
   ]
  },
  {
   "cell_type": "code",
   "execution_count": 86,
   "metadata": {},
   "outputs": [
    {
     "data": {
      "text/plain": [
       "(115200,)"
      ]
     },
     "execution_count": 86,
     "metadata": {},
     "output_type": "execute_result"
    }
   ],
   "source": [
    "dwordts.shape"
   ]
  },
  {
   "cell_type": "code",
   "execution_count": 87,
   "metadata": {},
   "outputs": [
    {
     "data": {
      "text/plain": [
       "1.4861666666666666"
      ]
     },
     "execution_count": 87,
     "metadata": {},
     "output_type": "execute_result"
    }
   ],
   "source": [
    "dwordts[0]"
   ]
  },
  {
   "cell_type": "code",
   "execution_count": 105,
   "metadata": {},
   "outputs": [
    {
     "data": {
      "text/plain": [
       "array([1.48616667, 1.50276667, 1.51946667, 1.53616667, 1.55286667,\n",
       "       1.56956667, 1.58626667, 1.60293333, 1.61966667, 1.6364    ])"
      ]
     },
     "execution_count": 105,
     "metadata": {},
     "output_type": "execute_result"
    }
   ],
   "source": [
    "dwordts[:10]"
   ]
  },
  {
   "cell_type": "code",
   "execution_count": 106,
   "metadata": {},
   "outputs": [
    {
     "data": {
      "text/plain": [
       "array([0.0166    , 0.0167    , 0.0167    , ..., 0.01666667, 0.01673333,\n",
       "       0.0167    ])"
      ]
     },
     "execution_count": 106,
     "metadata": {},
     "output_type": "execute_result"
    }
   ],
   "source": [
    "np.diff(dwordts)"
   ]
  },
  {
   "cell_type": "code",
   "execution_count": 101,
   "metadata": {},
   "outputs": [
    {
     "data": {
      "text/plain": [
       "Text(0.5, 1.0, 'Time delay in send out dwords')"
      ]
     },
     "execution_count": 101,
     "metadata": {},
     "output_type": "execute_result"
    },
    {
     "data": {
      "image/png": "[encoded data removed]",
      "text/plain": [
       "<Figure size 432x288 with 1 Axes>"
      ]
     },
     "metadata": {
      "needs_background": "light"
     },
     "output_type": "display_data"
    }
   ],
   "source": [
    "plt.plot(np.diff(dwordts))\n",
    "plt.gca().spines['top'].set_visible(False)\n",
    "plt.gca().spines['right'].set_visible(False)\n",
    "plt.title('Time delay in send out dwords', fontweight='bold')"
   ]
  },
  {
   "cell_type": "code",
   "execution_count": 95,
   "metadata": {},
   "outputs": [],
   "source": [
    "idx_stop = np.searchsorted(dwordts, sortedrisefall[-1])-1\n",
    "idx_start = np.searchsorted(dwordts, sortedrisefall[0])-1 # -1 bc. measured photodiode signal comes after send out frame (aka dword)\n",
    "dwordts_hmov = dwordts[idx_start:idx_stop+1]"
   ]
  },
  {
   "cell_type": "code",
   "execution_count": 102,
   "metadata": {},
   "outputs": [
    {
     "data": {
      "text/plain": [
       "Text(0.5, 1.0, 'Time delay in case of frame drop')"
      ]
     },
     "execution_count": 102,
     "metadata": {},
     "output_type": "execute_result"
    },
    {
     "data": {
      "image/png": "[encoded data removed]",
      "text/plain": [
       "<Figure size 432x288 with 1 Axes>"
      ]
     },
     "metadata": {
      "needs_background": "light"
     },
     "output_type": "display_data"
    }
   ],
   "source": [
    "plt.plot(np.diff(dwordts_hmov)[26370:26420], marker='.')\n",
    "#plt.axis('off')\n",
    "plt.title('Time delay in case of frame drop', fontweight='bold')"
   ]
  },
  {
   "cell_type": "code",
   "execution_count": 100,
   "metadata": {},
   "outputs": [
    {
     "data": {
      "text/plain": [
       "Text(0.5, 0, 'Time (s)')"
      ]
     },
     "execution_count": 100,
     "metadata": {},
     "output_type": "execute_result"
    },
    {
     "data": {
      "image/png": "[encoded data removed]",
      "text/plain": [
       "<Figure size 432x288 with 2 Axes>"
      ]
     },
     "metadata": {
      "needs_background": "light"
     },
     "output_type": "display_data"
    }
   ],
   "source": [
    "fig, axs = plt.subplots(2,1)\n",
    "\n",
    "axs[0].plot(np.diff(sortedrisefall))\n",
    "axs[0].spines['top'].set_visible(False)\n",
    "axs[0].spines['right'].set_visible(False)\n",
    "axs[0].set_ylabel('Photodiode (s)')\n",
    "axs[0].set_xticks([])\n",
    "\n",
    "axs[1].plot(dwordts_hmov[:-1], np.diff(dwordts_hmov))\n",
    "axs[1].spines['top'].set_visible(False)\n",
    "axs[1].spines['right'].set_visible(False)\n",
    "axs[1].set_ylabel('dwords (s)')\n",
    "axs[1].set_xlabel('Time (s)')"
   ]
  },
  {
   "cell_type": "code",
   "execution_count": null,
   "metadata": {},
   "outputs": [],
   "source": []
  },
  {
   "cell_type": "code",
   "execution_count": null,
   "metadata": {},
   "outputs": [],
   "source": []
  }
 ],
 "metadata": {
  "kernelspec": {
   "display_name": "Python 3",
   "language": "python",
   "name": "python3"
  },
  "language_info": {
   "codemirror_mode": {
    "name": "ipython",
    "version": 3
   },
   "file_extension": ".py",
   "mimetype": "text/x-python",
   "name": "python",
   "nbconvert_exporter": "python",
   "pygments_lexer": "ipython3",
   "version": "3.6.7"
  }
 },
 "nbformat": 4,
 "nbformat_minor": 2
}
