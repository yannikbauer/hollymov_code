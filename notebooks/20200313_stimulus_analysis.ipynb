{
 "cells": [
  {
   "cell_type": "markdown",
   "metadata": {},
   "source": [
    "# Stimulus\n",
    "\n",
    "* hmov version 03 (info in .xml file)\n",
    "* resolution [424, 264] (info in log file or metadata file)\n",
    "* pseudorandom sequence ID 01 (info in .xml file; search for \"hmovTrain_0X-Y\" with first X being the pseudorandom sequence ID [betw. 1 and 10] and Y being the training block number [from 1 to 8])\n",
    "* .avi movies saved in mudata/exxpResources/hollymov/hmov_03/hmov_03_424x264sequences/"
   ]
  },
  {
   "cell_type": "markdown",
   "metadata": {},
   "source": [
    "How much should the movie be downsampled? -> set scaling factor:"
   ]
  },
  {
   "cell_type": "code",
   "execution_count": 28,
   "metadata": {},
   "outputs": [],
   "source": [
    "scaling = 0.06"
   ]
  },
  {
   "cell_type": "markdown",
   "metadata": {},
   "source": [
    "### Test block"
   ]
  },
  {
   "cell_type": "code",
   "execution_count": 29,
   "metadata": {},
   "outputs": [],
   "source": [
    "filepath_testblock = '/gpfs01/berens/user/lschmors/Data/hmov_03_424x264/sequences/hmovTest.avi'\n",
    "reader_testblock = imageio.get_reader(filepath_testblock)"
   ]
  },
  {
   "cell_type": "code",
   "execution_count": 30,
   "metadata": {},
   "outputs": [
    {
     "name": "stdout",
     "output_type": "stream",
     "text": [
      "before downsampling:  424 , 264\n",
      "after downsampling:  (16, 25)\n"
     ]
    }
   ],
   "source": [
    "width = reader_testblock.get_meta_data()['source_size'][0]\n",
    "height = reader_testblock.get_meta_data()['source_size'][1]\n",
    "nframes = reader_testblock.get_meta_data()['duration']*reader_testblock.get_meta_data()['fps']\n",
    "movarr_scaled_testblock = np.empty([int(nframes), round(height*scaling), round(width*scaling)])\n",
    "\n",
    "print('before downsampling: ', width, ',', height)\n",
    "print('after downsampling: ', movarr_scaled_testblock.shape[1:])"
   ]
  },
  {
   "cell_type": "code",
   "execution_count": 31,
   "metadata": {},
   "outputs": [
    {
     "name": "stdout",
     "output_type": "stream",
     "text": [
      "/gpfs01/berens/user/lschmors/Data/hmov_03_424x264/sequences/hmovTest.avi\n"
     ]
    }
   ],
   "source": [
    "for i, im in enumerate(reader_testblock):\n",
    "    imarray = np.asarray(im[:,:,0])\n",
    "    im_transform = rescale(imarray, scaling)\n",
    "    movarr_scaled_testblock[i,:,:] = im_transform\n",
    "    \n",
    "print(filepath_testblock)"
   ]
  },
  {
   "cell_type": "markdown",
   "metadata": {},
   "source": [
    "### Train blocks\n",
    "\n",
    "Loop through the training blocks and save them as scaled arrays in a list:"
   ]
  },
  {
   "cell_type": "code",
   "execution_count": 32,
   "metadata": {},
   "outputs": [
    {
     "name": "stdout",
     "output_type": "stream",
     "text": [
      "/gpfs01/berens/user/lschmors/Data/hmov_03_424x264/sequences/hmovTrain_01-1.avi\n",
      "/gpfs01/berens/user/lschmors/Data/hmov_03_424x264/sequences/hmovTrain_01-2.avi\n",
      "/gpfs01/berens/user/lschmors/Data/hmov_03_424x264/sequences/hmovTrain_01-3.avi\n",
      "/gpfs01/berens/user/lschmors/Data/hmov_03_424x264/sequences/hmovTrain_01-4.avi\n",
      "/gpfs01/berens/user/lschmors/Data/hmov_03_424x264/sequences/hmovTrain_01-5.avi\n",
      "/gpfs01/berens/user/lschmors/Data/hmov_03_424x264/sequences/hmovTrain_01-6.avi\n",
      "/gpfs01/berens/user/lschmors/Data/hmov_03_424x264/sequences/hmovTrain_01-7.avi\n",
      "/gpfs01/berens/user/lschmors/Data/hmov_03_424x264/sequences/hmovTrain_01-8.avi\n"
     ]
    }
   ],
   "source": [
    "pseudorandom_seq = 1\n",
    "mov_list_train = []\n",
    "\n",
    "for train_block in range(1,9):# the avi files start with 1 instead of 0 and go until 8\n",
    "    filepath = '/gpfs01/berens/user/lschmors/Data/hmov_03_424x264/sequences/hmovTrain_0'+str(pseudorandom_seq)+'-'+str(train_block)+'.avi'\n",
    "    reader_train = imageio.get_reader(filepath)\n",
    "    \n",
    "    width = reader_train.get_meta_data()['source_size'][0]\n",
    "    height = reader_train.get_meta_data()['source_size'][1]\n",
    "    nframes = reader_train.get_meta_data()['duration']*reader_train.get_meta_data()['fps']\n",
    "    \n",
    "    movarr_scaled_train = np.empty([int(nframes), round(height*scaling), round(width*scaling)])\n",
    "    \n",
    "    for i, im in enumerate(reader_train):\n",
    "        imarray = np.asarray(im[:,:,0])\n",
    "        im_transform = rescale(imarray, scaling)\n",
    "        movarr_scaled_train[i,:,:] = im_transform\n",
    "        \n",
    "    mov_list_train.append(movarr_scaled_train)\n",
    "    print(filepath)"
   ]
  },
  {
   "cell_type": "markdown",
   "metadata": {},
   "source": [
    "#### Combine Test and Train blocks\n",
    "\n",
    "The stimulus starts with a Test block and ends with a Test block.\n",
    "\n",
    "Every second element is a Train block:"
   ]
  },
  {
   "cell_type": "code",
   "execution_count": 33,
   "metadata": {},
   "outputs": [],
   "source": [
    "mov_list = mov_list_train[:]\n",
    "\n",
    "for position in range(len(mov_list_train)*2+1):\n",
    "    if position%2==0:\n",
    "        mov_list.insert(position, movarr_scaled_testblock)    "
   ]
  },
  {
   "cell_type": "markdown",
   "metadata": {},
   "source": [
    "Sanity check:"
   ]
  },
  {
   "cell_type": "code",
   "execution_count": 34,
   "metadata": {},
   "outputs": [
    {
     "data": {
      "image/png": "[encoded data removed]",
      "text/plain": [
       "<Figure size 2160x720 with 17 Axes>"
      ]
     },
     "metadata": {
      "needs_background": "light"
     },
     "output_type": "display_data"
    }
   ],
   "source": [
    "fig, axs = plt.subplots(1,17, figsize=(30,10))\n",
    "axs = axs.ravel()\n",
    "\n",
    "for a in range(17):\n",
    "    axs[a].imshow(mov_list[a][0,:,:], cmap='gray')\n",
    "    axs[a].axis('off')\n",
    "    axs[a].set_title('Block '+str(a))\n",
    "    "
   ]
  },
  {
   "cell_type": "markdown",
   "metadata": {},
   "source": [
    "Convert list of stimulus blocks to array:"
   ]
  },
  {
   "cell_type": "code",
   "execution_count": 35,
   "metadata": {},
   "outputs": [],
   "source": [
    "mov_array = np.vstack(mov_list)"
   ]
  },
  {
   "cell_type": "code",
   "execution_count": 36,
   "metadata": {},
   "outputs": [],
   "source": [
    "stimulus = mov_array"
   ]
  },
  {
   "cell_type": "code",
   "execution_count": 40,
   "metadata": {},
   "outputs": [
    {
     "data": {
      "text/plain": [
       "(54000, 16, 25)"
      ]
     },
     "execution_count": 40,
     "metadata": {},
     "output_type": "execute_result"
    }
   ],
   "source": [
    "stimulus.shape"
   ]
  },
  {
   "cell_type": "markdown",
   "metadata": {},
   "source": [
    "# Stimulus analysis"
   ]
  },
  {
   "cell_type": "code",
   "execution_count": 58,
   "metadata": {},
   "outputs": [
    {
     "data": {
      "text/plain": [
       "(43200, 16, 25)"
      ]
     },
     "execution_count": 58,
     "metadata": {},
     "output_type": "execute_result"
    }
   ],
   "source": [
    "mov_train_array = np.vstack(mov_list_train)\n",
    "mov_train_array.shape"
   ]
  },
  {
   "cell_type": "markdown",
   "metadata": {},
   "source": [
    "Show the mean of all training blocks"
   ]
  },
  {
   "cell_type": "code",
   "execution_count": 97,
   "metadata": {},
   "outputs": [
    {
     "data": {
      "image/png": "[encoded data removed]",
      "text/plain": [
       "<Figure size 432x288 with 2 Axes>"
      ]
     },
     "metadata": {
      "needs_background": "light"
     },
     "output_type": "display_data"
    }
   ],
   "source": [
    "plt.imshow(np.mean(mov_train_array, axis=0), cmap='gray')\n",
    "plt.xticks([])\n",
    "plt.yticks([])\n",
    "plt.colorbar()\n",
    "plt.title('Train blocks average')\n",
    "\n",
    "plt.savefig(('plots/stim_train_avg_grey.svg'))\n",
    "plt.savefig(('plots/stim_train_avg_grey.png'), dpi = 300)"
   ]
  },
  {
   "cell_type": "markdown",
   "metadata": {},
   "source": [
    "Show the mean of individual training blocks:"
   ]
  },
  {
   "cell_type": "code",
   "execution_count": 90,
   "metadata": {},
   "outputs": [
    {
     "data": {
      "image/png": "[encoded data removed]",
      "text/plain": [
       "<Figure size 2160x504 with 16 Axes>"
      ]
     },
     "metadata": {
      "needs_background": "light"
     },
     "output_type": "display_data"
    }
   ],
   "source": [
    "fig, axs = plt.subplots(1,8, figsize=(30,7))\n",
    "axs = axs.ravel()\n",
    "\n",
    "for a in range(8):\n",
    "    im= axs[a].imshow(np.mean(mov_list_train[a], axis=0), cmap='gray')\n",
    "    axs[a].set_xticks([])\n",
    "    axs[a].set_xticklabels([])\n",
    "    axs[a].set_yticks([])\n",
    "    axs[a].set_yticklabels([])\n",
    "    axs[a].set_title('Train block '+str(a), weight='bold')\n",
    "    fig.colorbar(im, ax=axs[a], shrink=0.3)\n",
    "\n",
    "fig.savefig(('plots/stim_subtrain_avg_grey.svg'))\n",
    "fig.savefig(('plots/stim_subtrain_avg_grey.png'), dpi = 300)"
   ]
  },
  {
   "cell_type": "markdown",
   "metadata": {},
   "source": [
    "Mean of test block:"
   ]
  },
  {
   "cell_type": "code",
   "execution_count": 98,
   "metadata": {},
   "outputs": [
    {
     "data": {
      "image/png": "[encoded data removed]",
      "text/plain": [
       "<Figure size 432x288 with 2 Axes>"
      ]
     },
     "metadata": {
      "needs_background": "light"
     },
     "output_type": "display_data"
    }
   ],
   "source": [
    "plt.imshow(np.mean(movarr_scaled_testblock, axis=0), cmap='gray')\n",
    "plt.xticks([])\n",
    "plt.yticks([])\n",
    "plt.colorbar()\n",
    "plt.title('Test blocks average', weight='bold')\n",
    "\n",
    "plt.savefig(('plots/stim_test_avg_grey.svg'))\n",
    "plt.savefig(('plots/stim_test_avg_grey.png'), dpi = 300)"
   ]
  }
 ],
 "metadata": {
  "kernelspec": {
   "display_name": "Python 3",
   "language": "python",
   "name": "python3"
  },
  "language_info": {
   "codemirror_mode": {
    "name": "ipython",
    "version": 3
   },
   "file_extension": ".py",
   "mimetype": "text/x-python",
   "name": "python",
   "nbconvert_exporter": "python",
   "pygments_lexer": "ipython3",
   "version": "3.6.7"
  }
 },
 "nbformat": 4,
 "nbformat_minor": 2
}
