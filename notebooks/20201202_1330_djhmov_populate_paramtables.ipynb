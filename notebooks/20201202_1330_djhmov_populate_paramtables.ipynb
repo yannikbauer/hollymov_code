{
 "cells": [
  {
   "cell_type": "markdown",
   "metadata": {},
   "source": [
    "# Populate HmovModels parameter tables\n",
    "\n",
    "Currently, the workflow to re-populate (or newly populate) the parameter tables `GlmParams()` and `SplineLNPParams()` uses the `glm._save_paramsets_dict()` with an already full parameter table in order to save the parameter sets that have been used in the past. The parameter sets are saved as json files (see `glm._save_paramsets_dict()`). These json files can then be loaded and used to populate empty parameter tables. This is not the best solution and should be replaced by an automatic filling method in `glm.py` in the future that automaticall fills the parameter table with well working parameter sets. However, this needs a general collection of well working parameter sets. Exploring the parameter space still needs to be done thoroughly in the future."
   ]
  },
  {
   "cell_type": "code",
   "execution_count": 1,
   "metadata": {
    "pycharm": {
     "is_executing": false
    }
   },
   "outputs": [],
   "source": [
    "%load_ext autoreload\n",
    "%autoreload 2"
   ]
  },
  {
   "cell_type": "code",
   "execution_count": 2,
   "metadata": {},
   "outputs": [],
   "source": [
    "import warnings\n",
    "warnings.filterwarnings(\"ignore\")\n",
    "import numpy as np\n",
    "import matplotlib.pyplot as plt\n",
    "import seaborn as sns\n",
    "import json\n",
    "\n",
    "from pathlib import Path"
   ]
  },
  {
   "cell_type": "markdown",
   "metadata": {},
   "source": [
    "# Connect to the `dj_hmov` schema "
   ]
  },
  {
   "cell_type": "code",
   "execution_count": 3,
   "metadata": {},
   "outputs": [
    {
     "name": "stdout",
     "output_type": "stream",
     "text": [
      "For remote access to work, make sure to first open an SSH tunnel with MySQL\n",
      "port forwarding. Run the `djdtunnel` script in a separate terminal, with\n",
      "optional `--user` argument if your local and remote user names differ.\n",
      "Or, open the tunnel manually with:\n",
      "  ssh -NL 3306:huxley.neuro.bzm:3306 -p 1021 USERNAME@tunnel.bio.lmu.de\n",
      "Connecting execute@localhost:3306\n",
      "Connected to database 'dj_hmov' as 'execute@10.153.172.3'\n",
      "For remote file access to work, make sure to first mount the filesystem at tunnel.bio.lmu.de:1021 via SSHFS with `hux -r`\n"
     ]
    }
   ],
   "source": [
    "run -im djd.main -- --dbname=dj_hmov --r"
   ]
  },
  {
   "cell_type": "code",
   "execution_count": 4,
   "metadata": {},
   "outputs": [],
   "source": [
    "from djd import glm"
   ]
  },
  {
   "cell_type": "markdown",
   "metadata": {},
   "source": [
    "# SplineLNPParams()"
   ]
  },
  {
   "cell_type": "markdown",
   "metadata": {},
   "source": [
    "Parameter tables should be empty:"
   ]
  },
  {
   "cell_type": "code",
   "execution_count": 5,
   "metadata": {},
   "outputs": [
    {
     "data": {
      "text/html": [
       "\n",
       "        \n",
       "        <style type=\"text/css\">\n",
       "            .Relation{\n",
       "                border-collapse:collapse;\n",
       "            }\n",
       "            .Relation th{\n",
       "                background: #A0A0A0; color: #ffffff; padding:4px; border:#f0e0e0 1px solid;\n",
       "                font-weight: normal; font-family: monospace; font-size: 100%;\n",
       "            }\n",
       "            .Relation td{\n",
       "                padding:4px; border:#f0e0e0 1px solid; font-size:100%;\n",
       "            }\n",
       "            .Relation tr:nth-child(odd){\n",
       "                background: #ffffff;\n",
       "            }\n",
       "            .Relation tr:nth-child(even){\n",
       "                background: #f3f1ff;\n",
       "            }\n",
       "            /* Tooltip container */\n",
       "            .djtooltip {\n",
       "            }\n",
       "            /* Tooltip text */\n",
       "            .djtooltip .djtooltiptext {\n",
       "                visibility: hidden;\n",
       "                width: 120px;\n",
       "                background-color: black;\n",
       "                color: #fff;\n",
       "                text-align: center;\n",
       "                padding: 5px 0;\n",
       "                border-radius: 6px;\n",
       "                /* Position the tooltip text - see examples below! */\n",
       "                position: absolute;\n",
       "                z-index: 1;\n",
       "            }\n",
       "            #primary {\n",
       "                font-weight: bold;\n",
       "                color: black;\n",
       "            }\n",
       "\n",
       "            #nonprimary {\n",
       "                font-weight: normal;\n",
       "                color: white;\n",
       "            }\n",
       "\n",
       "            /* Show the tooltip text when you mouse over the tooltip container */\n",
       "            .djtooltip:hover .djtooltiptext {\n",
       "                visibility: visible;\n",
       "            }\n",
       "        </style>\n",
       "        \n",
       "        <b></b>\n",
       "            <div style=\"max-height:1000px;max-width:1500px;overflow:auto;\">\n",
       "            <table border=\"1\" class=\"Relation\">\n",
       "                <thead> <tr style=\"text-align: right;\"> <th> <div class=\"djtooltip\">\n",
       "                                <p id=\"primary\">spl_paramset</p>\n",
       "                                <span class=\"djtooltiptext\">parameter set ID</span>\n",
       "                            </div></th><th><div class=\"djtooltip\">\n",
       "                                <p id=\"nonprimary\">spl_distr</p>\n",
       "                                <span class=\"djtooltiptext\">the nonlinearity for the LNP model.</span>\n",
       "                            </div></th><th><div class=\"djtooltip\">\n",
       "                                <p id=\"nonprimary\">spl_alpha</p>\n",
       "                                <span class=\"djtooltiptext\">the weighting betw. L2 and L1 penalty                                 (alpha=1 only uses L1)</span>\n",
       "                            </div></th><th><div class=\"djtooltip\">\n",
       "                                <p id=\"nonprimary\">spl_lambda</p>\n",
       "                                <span class=\"djtooltiptext\">regularization parameter of penalty term</span>\n",
       "                            </div></th><th><div class=\"djtooltip\">\n",
       "                                <p id=\"nonprimary\">spl_lr</p>\n",
       "                                <span class=\"djtooltiptext\">initial learning rate for the JAX optimizer</span>\n",
       "                            </div></th><th><div class=\"djtooltip\">\n",
       "                                <p id=\"nonprimary\">spl_max_iter</p>\n",
       "                                <span class=\"djtooltiptext\">maximum number of iterations for the solver</span>\n",
       "                            </div></th><th><div class=\"djtooltip\">\n",
       "                                <p id=\"nonprimary\">spl_dt</p>\n",
       "                                <span class=\"djtooltiptext\">inverse of the sampling rate</span>\n",
       "                            </div></th><th><div class=\"djtooltip\">\n",
       "                                <p id=\"nonprimary\">spl_spat_df</p>\n",
       "                                <span class=\"djtooltiptext\">degrees of freedom for the spatial domain, i.e. number of                                 basis functions for the spatial component;                                 depends on the height of the stimulus frame (num of pixels);                                 the df for width is computed automatically as                                 spat_df*n_pixels_width/n_pixels_height</span>\n",
       "                            </div></th><th><div class=\"djtooltip\">\n",
       "                                <p id=\"nonprimary\">spl_temp_df</p>\n",
       "                                <span class=\"djtooltiptext\">degrees of freedom in the temporal domain, i.e. number of                                 basis functions for the temporal component;                                 depends on the length of                                 the filter (number of time steps, nlag)</span>\n",
       "                            </div></th><th><div class=\"djtooltip\">\n",
       "                                <p id=\"nonprimary\">spl_pshf</p>\n",
       "                                <span class=\"djtooltiptext\">fit a post-spike history filter; can be                                 either True or False</span>\n",
       "                            </div></th><th><div class=\"djtooltip\">\n",
       "                                <p id=\"nonprimary\">spl_pshf_len</p>\n",
       "                                <span class=\"djtooltiptext\">length of the post-spike history filter or None if                                 'spl_pshf' = 'False'</span>\n",
       "                            </div></th><th><div class=\"djtooltip\">\n",
       "                                <p id=\"nonprimary\">spl_pshf_df</p>\n",
       "                                <span class=\"djtooltiptext\">number of basis functions for spline basis of the post-spike                                 history filter.</span>\n",
       "                            </div></th><th><div class=\"djtooltip\">\n",
       "                                <p id=\"nonprimary\">spl_verb</p>\n",
       "                                <span class=\"djtooltiptext\">When verbose=0, progress is not printed. When verbose=n,                                 progress will be printed in every n steps.</span>\n",
       "                            </div></th><th><div class=\"djtooltip\">\n",
       "                                <p id=\"nonprimary\">spl_metric</p>\n",
       "                                <span class=\"djtooltiptext\">performance metric; can be 'None' or                                 'mse': mean squared error                                 'r2': R2 score                                 'corrcoef': Correlation coefficient</span>\n",
       "                            </div></th><th><div class=\"djtooltip\">\n",
       "                                <p id=\"nonprimary\">spl_norm_y</p>\n",
       "                                <span class=\"djtooltiptext\">normalize observed responses between 0 and 1;                                 could be either True or False</span>\n",
       "                            </div></th><th><div class=\"djtooltip\">\n",
       "                                <p id=\"nonprimary\">spl_nlag</p>\n",
       "                                <span class=\"djtooltiptext\">number of time steps of the kernel;                                 see glm._get_stimulus_design_mat()</span>\n",
       "                            </div></th><th><div class=\"djtooltip\">\n",
       "                                <p id=\"nonprimary\">spl_shift</p>\n",
       "                                <span class=\"djtooltiptext\">shift kernel to not predict itself;                                 for more info see glm._get_stimulus_design_mat()</span>\n",
       "                            </div></th><th><div class=\"djtooltip\">\n",
       "                                <p id=\"nonprimary\">spl_spat_scaling</p>\n",
       "                                <span class=\"djtooltiptext\">scaling factor to down or upsample the spatial                                resolution of the movie frames;                                scaled_height = frame_orig_height * spl_spat_scaling</span>\n",
       "                            </div> </th> </tr> </thead>\n",
       "                <tbody> <tr>  </tr> </tbody>\n",
       "            </table>\n",
       "            \n",
       "            <p>Total: 0</p></div>\n",
       "            "
      ],
      "text/plain": [
       "*spl_paramset    spl_distr     spl_alpha     spl_lambda     spl_lr     spl_max_iter     spl_dt     spl_spat_df     spl_temp_df     spl_pshf     spl_pshf_len     spl_pshf_df     spl_verb     spl_metric     spl_norm_y     spl_nlag     spl_shift     spl_spat_scaling    \n",
       "+--------------+ +-----------+ +-----------+ +------------+ +--------+ +--------------+ +--------+ +-------------+ +-------------+ +----------+ +--------------+ +-------------+ +----------+ +------------+ +------------+ +----------+ +-----------+ +------------------+\n",
       "\n",
       " (Total: 0)"
      ]
     },
     "execution_count": 5,
     "metadata": {},
     "output_type": "execute_result"
    }
   ],
   "source": [
    "SplineLNPParams()"
   ]
  },
  {
   "cell_type": "markdown",
   "metadata": {},
   "source": [
    "Load the respective parameter dictionaries:"
   ]
  },
  {
   "cell_type": "code",
   "execution_count": 5,
   "metadata": {},
   "outputs": [],
   "source": [
    "with open('./data/param_dicts/SplineLNPParam_dicts_2020-12-02T110056.json', \"r\") as read_file:\n",
    "     spl_param_dicts = json.load(read_file)"
   ]
  },
  {
   "cell_type": "code",
   "execution_count": 6,
   "metadata": {},
   "outputs": [
    {
     "data": {
      "text/plain": [
       "[{'spl_paramset': 7,\n",
       "  'spl_distr': 'softplus',\n",
       "  'spl_alpha': 1.0,\n",
       "  'spl_lambda': 1.0,\n",
       "  'spl_lr': 0.01,\n",
       "  'spl_max_iter': 2000,\n",
       "  'spl_dt': 0.033,\n",
       "  'spl_spat_df': 8,\n",
       "  'spl_temp_df': 7,\n",
       "  'spl_pshf': 'False',\n",
       "  'spl_pshf_len': 0,\n",
       "  'spl_pshf_df': 0,\n",
       "  'spl_verb': 200,\n",
       "  'spl_metric': 'corrcoef',\n",
       "  'spl_norm_y': 'False',\n",
       "  'spl_nlag': 8,\n",
       "  'spl_shift': 1,\n",
       "  'spl_spat_scaling': 0.06},\n",
       " {'spl_paramset': 8,\n",
       "  'spl_distr': 'softplus',\n",
       "  'spl_alpha': 1.0,\n",
       "  'spl_lambda': 1.0,\n",
       "  'spl_lr': 0.01,\n",
       "  'spl_max_iter': 2000,\n",
       "  'spl_dt': 0.033,\n",
       "  'spl_spat_df': 8,\n",
       "  'spl_temp_df': 7,\n",
       "  'spl_pshf': 'True',\n",
       "  'spl_pshf_len': 8,\n",
       "  'spl_pshf_df': 6,\n",
       "  'spl_verb': 200,\n",
       "  'spl_metric': 'corrcoef',\n",
       "  'spl_norm_y': 'False',\n",
       "  'spl_nlag': 8,\n",
       "  'spl_shift': 1,\n",
       "  'spl_spat_scaling': 0.06}]"
      ]
     },
     "execution_count": 6,
     "metadata": {},
     "output_type": "execute_result"
    }
   ],
   "source": [
    "spl_param_dicts"
   ]
  },
  {
   "cell_type": "markdown",
   "metadata": {},
   "source": [
    "Two parameter sets for the `SplineLNP()` model: one with a post-spike history filter and one without."
   ]
  },
  {
   "cell_type": "markdown",
   "metadata": {},
   "source": [
    "Populate the parameter table:"
   ]
  },
  {
   "cell_type": "code",
   "execution_count": 10,
   "metadata": {},
   "outputs": [],
   "source": [
    "for spl_param_dict in spl_param_dicts:\n",
    "    SplineLNPParams().populate(spl_param_dict)"
   ]
  },
  {
   "cell_type": "markdown",
   "metadata": {},
   "source": [
    "The parameter table should be full now:"
   ]
  },
  {
   "cell_type": "code",
   "execution_count": 7,
   "metadata": {},
   "outputs": [
    {
     "data": {
      "text/html": [
       "\n",
       "        \n",
       "        <style type=\"text/css\">\n",
       "            .Relation{\n",
       "                border-collapse:collapse;\n",
       "            }\n",
       "            .Relation th{\n",
       "                background: #A0A0A0; color: #ffffff; padding:4px; border:#f0e0e0 1px solid;\n",
       "                font-weight: normal; font-family: monospace; font-size: 100%;\n",
       "            }\n",
       "            .Relation td{\n",
       "                padding:4px; border:#f0e0e0 1px solid; font-size:100%;\n",
       "            }\n",
       "            .Relation tr:nth-child(odd){\n",
       "                background: #ffffff;\n",
       "            }\n",
       "            .Relation tr:nth-child(even){\n",
       "                background: #f3f1ff;\n",
       "            }\n",
       "            /* Tooltip container */\n",
       "            .djtooltip {\n",
       "            }\n",
       "            /* Tooltip text */\n",
       "            .djtooltip .djtooltiptext {\n",
       "                visibility: hidden;\n",
       "                width: 120px;\n",
       "                background-color: black;\n",
       "                color: #fff;\n",
       "                text-align: center;\n",
       "                padding: 5px 0;\n",
       "                border-radius: 6px;\n",
       "                /* Position the tooltip text - see examples below! */\n",
       "                position: absolute;\n",
       "                z-index: 1;\n",
       "            }\n",
       "            #primary {\n",
       "                font-weight: bold;\n",
       "                color: black;\n",
       "            }\n",
       "\n",
       "            #nonprimary {\n",
       "                font-weight: normal;\n",
       "                color: white;\n",
       "            }\n",
       "\n",
       "            /* Show the tooltip text when you mouse over the tooltip container */\n",
       "            .djtooltip:hover .djtooltiptext {\n",
       "                visibility: visible;\n",
       "            }\n",
       "        </style>\n",
       "        \n",
       "        <b></b>\n",
       "            <div style=\"max-height:1000px;max-width:1500px;overflow:auto;\">\n",
       "            <table border=\"1\" class=\"Relation\">\n",
       "                <thead> <tr style=\"text-align: right;\"> <th> <div class=\"djtooltip\">\n",
       "                                <p id=\"primary\">spl_paramset</p>\n",
       "                                <span class=\"djtooltiptext\">parameter set ID</span>\n",
       "                            </div></th><th><div class=\"djtooltip\">\n",
       "                                <p id=\"nonprimary\">spl_distr</p>\n",
       "                                <span class=\"djtooltiptext\">the nonlinearity for the LNP model.</span>\n",
       "                            </div></th><th><div class=\"djtooltip\">\n",
       "                                <p id=\"nonprimary\">spl_alpha</p>\n",
       "                                <span class=\"djtooltiptext\">the weighting betw. L2 and L1 penalty                                 (alpha=1 only uses L1)</span>\n",
       "                            </div></th><th><div class=\"djtooltip\">\n",
       "                                <p id=\"nonprimary\">spl_lambda</p>\n",
       "                                <span class=\"djtooltiptext\">regularization parameter of penalty term</span>\n",
       "                            </div></th><th><div class=\"djtooltip\">\n",
       "                                <p id=\"nonprimary\">spl_lr</p>\n",
       "                                <span class=\"djtooltiptext\">initial learning rate for the JAX optimizer</span>\n",
       "                            </div></th><th><div class=\"djtooltip\">\n",
       "                                <p id=\"nonprimary\">spl_max_iter</p>\n",
       "                                <span class=\"djtooltiptext\">maximum number of iterations for the solver</span>\n",
       "                            </div></th><th><div class=\"djtooltip\">\n",
       "                                <p id=\"nonprimary\">spl_dt</p>\n",
       "                                <span class=\"djtooltiptext\">inverse of the sampling rate</span>\n",
       "                            </div></th><th><div class=\"djtooltip\">\n",
       "                                <p id=\"nonprimary\">spl_spat_df</p>\n",
       "                                <span class=\"djtooltiptext\">degrees of freedom for the spatial domain, i.e. number of                                 basis functions for the spatial component;                                 depends on the height of the stimulus frame (num of pixels);                                 the df for width is computed automatically as                                 spat_df*n_pixels_width/n_pixels_height</span>\n",
       "                            </div></th><th><div class=\"djtooltip\">\n",
       "                                <p id=\"nonprimary\">spl_temp_df</p>\n",
       "                                <span class=\"djtooltiptext\">degrees of freedom in the temporal domain, i.e. number of                                 basis functions for the temporal component;                                 depends on the length of                                 the filter (number of time steps, nlag)</span>\n",
       "                            </div></th><th><div class=\"djtooltip\">\n",
       "                                <p id=\"nonprimary\">spl_pshf</p>\n",
       "                                <span class=\"djtooltiptext\">fit a post-spike history filter; can be                                 either True or False</span>\n",
       "                            </div></th><th><div class=\"djtooltip\">\n",
       "                                <p id=\"nonprimary\">spl_pshf_len</p>\n",
       "                                <span class=\"djtooltiptext\">length of the post-spike history filter or None if                                 'spl_pshf' = 'False'</span>\n",
       "                            </div></th><th><div class=\"djtooltip\">\n",
       "                                <p id=\"nonprimary\">spl_pshf_df</p>\n",
       "                                <span class=\"djtooltiptext\">number of basis functions for spline basis of the post-spike                                 history filter.</span>\n",
       "                            </div></th><th><div class=\"djtooltip\">\n",
       "                                <p id=\"nonprimary\">spl_verb</p>\n",
       "                                <span class=\"djtooltiptext\">When verbose=0, progress is not printed. When verbose=n,                                 progress will be printed in every n steps.</span>\n",
       "                            </div></th><th><div class=\"djtooltip\">\n",
       "                                <p id=\"nonprimary\">spl_metric</p>\n",
       "                                <span class=\"djtooltiptext\">performance metric; can be 'None' or                                 'mse': mean squared error                                 'r2': R2 score                                 'corrcoef': Correlation coefficient</span>\n",
       "                            </div></th><th><div class=\"djtooltip\">\n",
       "                                <p id=\"nonprimary\">spl_norm_y</p>\n",
       "                                <span class=\"djtooltiptext\">normalize observed responses between 0 and 1;                                 could be either True or False</span>\n",
       "                            </div></th><th><div class=\"djtooltip\">\n",
       "                                <p id=\"nonprimary\">spl_nlag</p>\n",
       "                                <span class=\"djtooltiptext\">number of time steps of the kernel;                                 see glm._get_stimulus_design_mat()</span>\n",
       "                            </div></th><th><div class=\"djtooltip\">\n",
       "                                <p id=\"nonprimary\">spl_shift</p>\n",
       "                                <span class=\"djtooltiptext\">shift kernel to not predict itself;                                 for more info see glm._get_stimulus_design_mat()</span>\n",
       "                            </div></th><th><div class=\"djtooltip\">\n",
       "                                <p id=\"nonprimary\">spl_spat_scaling</p>\n",
       "                                <span class=\"djtooltiptext\">scaling factor to down or upsample the spatial                                resolution of the movie frames;                                scaled_height = frame_orig_height * spl_spat_scaling</span>\n",
       "                            </div> </th> </tr> </thead>\n",
       "                <tbody> <tr> <td>7</td>\n",
       "<td>softplus</td>\n",
       "<td>1.0</td>\n",
       "<td>1.0</td>\n",
       "<td>0.01</td>\n",
       "<td>2000</td>\n",
       "<td>0.033</td>\n",
       "<td>8</td>\n",
       "<td>7</td>\n",
       "<td>False</td>\n",
       "<td>0</td>\n",
       "<td>0</td>\n",
       "<td>200</td>\n",
       "<td>corrcoef</td>\n",
       "<td>False</td>\n",
       "<td>8</td>\n",
       "<td>1</td>\n",
       "<td>0.06</td></tr><tr><td>8</td>\n",
       "<td>softplus</td>\n",
       "<td>1.0</td>\n",
       "<td>1.0</td>\n",
       "<td>0.01</td>\n",
       "<td>2000</td>\n",
       "<td>0.033</td>\n",
       "<td>8</td>\n",
       "<td>7</td>\n",
       "<td>True</td>\n",
       "<td>8</td>\n",
       "<td>6</td>\n",
       "<td>200</td>\n",
       "<td>corrcoef</td>\n",
       "<td>False</td>\n",
       "<td>8</td>\n",
       "<td>1</td>\n",
       "<td>0.06</td> </tr> </tbody>\n",
       "            </table>\n",
       "            \n",
       "            <p>Total: 2</p></div>\n",
       "            "
      ],
      "text/plain": [
       "*spl_paramset    spl_distr     spl_alpha     spl_lambda     spl_lr     spl_max_iter     spl_dt     spl_spat_df     spl_temp_df     spl_pshf     spl_pshf_len     spl_pshf_df     spl_verb     spl_metric     spl_norm_y     spl_nlag     spl_shift     spl_spat_scaling    \n",
       "+--------------+ +-----------+ +-----------+ +------------+ +--------+ +--------------+ +--------+ +-------------+ +-------------+ +----------+ +--------------+ +-------------+ +----------+ +------------+ +------------+ +----------+ +-----------+ +------------------+\n",
       "7                softplus      1.0           1.0            0.01       2000             0.033      8               7               False        0                0               200          corrcoef       False          8            1             0.06                \n",
       "8                softplus      1.0           1.0            0.01       2000             0.033      8               7               True         8                6               200          corrcoef       False          8            1             0.06                \n",
       " (Total: 2)"
      ]
     },
     "execution_count": 7,
     "metadata": {},
     "output_type": "execute_result"
    }
   ],
   "source": [
    "SplineLNPParams()"
   ]
  },
  {
   "cell_type": "markdown",
   "metadata": {},
   "source": [
    "# GlmParams()"
   ]
  },
  {
   "cell_type": "markdown",
   "metadata": {},
   "source": [
    "Do the same as above for the `GlmParams()` table:"
   ]
  },
  {
   "cell_type": "code",
   "execution_count": 12,
   "metadata": {},
   "outputs": [
    {
     "data": {
      "text/html": [
       "\n",
       "        \n",
       "        <style type=\"text/css\">\n",
       "            .Relation{\n",
       "                border-collapse:collapse;\n",
       "            }\n",
       "            .Relation th{\n",
       "                background: #A0A0A0; color: #ffffff; padding:4px; border:#f0e0e0 1px solid;\n",
       "                font-weight: normal; font-family: monospace; font-size: 100%;\n",
       "            }\n",
       "            .Relation td{\n",
       "                padding:4px; border:#f0e0e0 1px solid; font-size:100%;\n",
       "            }\n",
       "            .Relation tr:nth-child(odd){\n",
       "                background: #ffffff;\n",
       "            }\n",
       "            .Relation tr:nth-child(even){\n",
       "                background: #f3f1ff;\n",
       "            }\n",
       "            /* Tooltip container */\n",
       "            .djtooltip {\n",
       "            }\n",
       "            /* Tooltip text */\n",
       "            .djtooltip .djtooltiptext {\n",
       "                visibility: hidden;\n",
       "                width: 120px;\n",
       "                background-color: black;\n",
       "                color: #fff;\n",
       "                text-align: center;\n",
       "                padding: 5px 0;\n",
       "                border-radius: 6px;\n",
       "                /* Position the tooltip text - see examples below! */\n",
       "                position: absolute;\n",
       "                z-index: 1;\n",
       "            }\n",
       "            #primary {\n",
       "                font-weight: bold;\n",
       "                color: black;\n",
       "            }\n",
       "\n",
       "            #nonprimary {\n",
       "                font-weight: normal;\n",
       "                color: white;\n",
       "            }\n",
       "\n",
       "            /* Show the tooltip text when you mouse over the tooltip container */\n",
       "            .djtooltip:hover .djtooltiptext {\n",
       "                visibility: visible;\n",
       "            }\n",
       "        </style>\n",
       "        \n",
       "        <b></b>\n",
       "            <div style=\"max-height:1000px;max-width:1500px;overflow:auto;\">\n",
       "            <table border=\"1\" class=\"Relation\">\n",
       "                <thead> <tr style=\"text-align: right;\"> <th> <div class=\"djtooltip\">\n",
       "                                <p id=\"primary\">glm_paramset</p>\n",
       "                                <span class=\"djtooltiptext\">parameter set ID</span>\n",
       "                            </div></th><th><div class=\"djtooltip\">\n",
       "                                <p id=\"nonprimary\">glm_distr</p>\n",
       "                                <span class=\"djtooltiptext\">distribution family can be:                                'gaussian' 'binomial' 'poisson' 'softplus' 'probit' 'gamma'</span>\n",
       "                            </div></th><th><div class=\"djtooltip\">\n",
       "                                <p id=\"nonprimary\">glm_alpha</p>\n",
       "                                <span class=\"djtooltiptext\">weighting betw. L2 and L1 penalty (alpha = 1 only uses L1)</span>\n",
       "                            </div></th><th><div class=\"djtooltip\">\n",
       "                                <p id=\"nonprimary\">glm_lambda</p>\n",
       "                                <span class=\"djtooltiptext\">regularization parameter of penalty term</span>\n",
       "                            </div></th><th><div class=\"djtooltip\">\n",
       "                                <p id=\"nonprimary\">glm_solver</p>\n",
       "                                <span class=\"djtooltiptext\">optimization method:                                one of the following:                                'batch-gradient' (vanilla batch gradient descent)                                'cdfast' (Newton coordinate gradient descent)</span>\n",
       "                            </div></th><th><div class=\"djtooltip\">\n",
       "                                <p id=\"nonprimary\">glm_lr</p>\n",
       "                                <span class=\"djtooltiptext\">learning rate for gradient descent</span>\n",
       "                            </div></th><th><div class=\"djtooltip\">\n",
       "                                <p id=\"nonprimary\">glm_max_iter</p>\n",
       "                                <span class=\"djtooltiptext\">maximum number of iterations for the solver</span>\n",
       "                            </div></th><th><div class=\"djtooltip\">\n",
       "                                <p id=\"nonprimary\">glm_tol</p>\n",
       "                                <span class=\"djtooltiptext\">convergence threshold or stopping criteria;                                optimization loop will stop when relative change in                                parameter norm is below the threshold</span>\n",
       "                            </div></th><th><div class=\"djtooltip\">\n",
       "                                <p id=\"nonprimary\">glm_seed</p>\n",
       "                                <span class=\"djtooltiptext\">seed of the random number generator to initialize solution</span>\n",
       "                            </div></th><th><div class=\"djtooltip\">\n",
       "                                <p id=\"nonprimary\">glm_norm_y</p>\n",
       "                                <span class=\"djtooltiptext\">normalize observed responses between 0 and 1;                                could be either 'True' or 'False'</span>\n",
       "                            </div></th><th><div class=\"djtooltip\">\n",
       "                                <p id=\"nonprimary\">glm_nlag</p>\n",
       "                                <span class=\"djtooltiptext\">num of time steps of the kernel; see _get_stimulus_design_mat</span>\n",
       "                            </div></th><th><div class=\"djtooltip\">\n",
       "                                <p id=\"nonprimary\">glm_shift</p>\n",
       "                                <span class=\"djtooltiptext\">shift kernel to not predict itself                                for more info see glm._get_stimulus_design_mat()</span>\n",
       "                            </div></th><th><div class=\"djtooltip\">\n",
       "                                <p id=\"nonprimary\">glm_spat_scaling</p>\n",
       "                                <span class=\"djtooltiptext\">scaling factor to down or upsample the spatial                                resolution of the movie frames;                                scaled_height = frame_orig_height * glm_spat_scaling</span>\n",
       "                            </div> </th> </tr> </thead>\n",
       "                <tbody> <tr>  </tr> </tbody>\n",
       "            </table>\n",
       "            \n",
       "            <p>Total: 0</p></div>\n",
       "            "
      ],
      "text/plain": [
       "*glm_paramset    glm_distr     glm_alpha     glm_lambda     glm_solver     glm_lr     glm_max_iter     glm_tol     glm_seed     glm_norm_y     glm_nlag     glm_shift     glm_spat_scaling    \n",
       "+--------------+ +-----------+ +-----------+ +------------+ +------------+ +--------+ +--------------+ +---------+ +----------+ +------------+ +----------+ +-----------+ +------------------+\n",
       "\n",
       " (Total: 0)"
      ]
     },
     "execution_count": 12,
     "metadata": {},
     "output_type": "execute_result"
    }
   ],
   "source": [
    "GlmParams()"
   ]
  },
  {
   "cell_type": "code",
   "execution_count": 8,
   "metadata": {},
   "outputs": [],
   "source": [
    "with open('./data/param_dicts/GlmParam_dicts_2020-12-02T105150.json', \"r\") as read_file:\n",
    "     glm_param_dicts = json.load(read_file)"
   ]
  },
  {
   "cell_type": "code",
   "execution_count": 9,
   "metadata": {},
   "outputs": [
    {
     "data": {
      "text/plain": [
       "[{'glm_paramset': 1,\n",
       "  'glm_distr': 'softplus',\n",
       "  'glm_alpha': 1.0,\n",
       "  'glm_lambda': 0.00015,\n",
       "  'glm_solver': 'batch-gradient',\n",
       "  'glm_lr': 0.7,\n",
       "  'glm_max_iter': 1000,\n",
       "  'glm_tol': 1e-06,\n",
       "  'glm_seed': 0,\n",
       "  'glm_norm_y': 'True',\n",
       "  'glm_nlag': 8,\n",
       "  'glm_shift': 1,\n",
       "  'glm_spat_scaling': 0.06}]"
      ]
     },
     "execution_count": 9,
     "metadata": {},
     "output_type": "execute_result"
    }
   ],
   "source": [
    "glm_param_dicts"
   ]
  },
  {
   "cell_type": "code",
   "execution_count": 10,
   "metadata": {},
   "outputs": [],
   "source": [
    "for glm_param_dict in glm_param_dicts:\n",
    "    GlmParams().populate(glm_param_dict)"
   ]
  },
  {
   "cell_type": "code",
   "execution_count": 10,
   "metadata": {},
   "outputs": [
    {
     "data": {
      "text/html": [
       "\n",
       "        \n",
       "        <style type=\"text/css\">\n",
       "            .Relation{\n",
       "                border-collapse:collapse;\n",
       "            }\n",
       "            .Relation th{\n",
       "                background: #A0A0A0; color: #ffffff; padding:4px; border:#f0e0e0 1px solid;\n",
       "                font-weight: normal; font-family: monospace; font-size: 100%;\n",
       "            }\n",
       "            .Relation td{\n",
       "                padding:4px; border:#f0e0e0 1px solid; font-size:100%;\n",
       "            }\n",
       "            .Relation tr:nth-child(odd){\n",
       "                background: #ffffff;\n",
       "            }\n",
       "            .Relation tr:nth-child(even){\n",
       "                background: #f3f1ff;\n",
       "            }\n",
       "            /* Tooltip container */\n",
       "            .djtooltip {\n",
       "            }\n",
       "            /* Tooltip text */\n",
       "            .djtooltip .djtooltiptext {\n",
       "                visibility: hidden;\n",
       "                width: 120px;\n",
       "                background-color: black;\n",
       "                color: #fff;\n",
       "                text-align: center;\n",
       "                padding: 5px 0;\n",
       "                border-radius: 6px;\n",
       "                /* Position the tooltip text - see examples below! */\n",
       "                position: absolute;\n",
       "                z-index: 1;\n",
       "            }\n",
       "            #primary {\n",
       "                font-weight: bold;\n",
       "                color: black;\n",
       "            }\n",
       "\n",
       "            #nonprimary {\n",
       "                font-weight: normal;\n",
       "                color: white;\n",
       "            }\n",
       "\n",
       "            /* Show the tooltip text when you mouse over the tooltip container */\n",
       "            .djtooltip:hover .djtooltiptext {\n",
       "                visibility: visible;\n",
       "            }\n",
       "        </style>\n",
       "        \n",
       "        <b></b>\n",
       "            <div style=\"max-height:1000px;max-width:1500px;overflow:auto;\">\n",
       "            <table border=\"1\" class=\"Relation\">\n",
       "                <thead> <tr style=\"text-align: right;\"> <th> <div class=\"djtooltip\">\n",
       "                                <p id=\"primary\">glm_paramset</p>\n",
       "                                <span class=\"djtooltiptext\">parameter set ID</span>\n",
       "                            </div></th><th><div class=\"djtooltip\">\n",
       "                                <p id=\"nonprimary\">glm_distr</p>\n",
       "                                <span class=\"djtooltiptext\">distribution family can be:                                'gaussian' 'binomial' 'poisson' 'softplus' 'probit' 'gamma'</span>\n",
       "                            </div></th><th><div class=\"djtooltip\">\n",
       "                                <p id=\"nonprimary\">glm_alpha</p>\n",
       "                                <span class=\"djtooltiptext\">weighting betw. L2 and L1 penalty (alpha = 1 only uses L1)</span>\n",
       "                            </div></th><th><div class=\"djtooltip\">\n",
       "                                <p id=\"nonprimary\">glm_lambda</p>\n",
       "                                <span class=\"djtooltiptext\">regularization parameter of penalty term</span>\n",
       "                            </div></th><th><div class=\"djtooltip\">\n",
       "                                <p id=\"nonprimary\">glm_solver</p>\n",
       "                                <span class=\"djtooltiptext\">optimization method:                                one of the following:                                'batch-gradient' (vanilla batch gradient descent)                                'cdfast' (Newton coordinate gradient descent)</span>\n",
       "                            </div></th><th><div class=\"djtooltip\">\n",
       "                                <p id=\"nonprimary\">glm_lr</p>\n",
       "                                <span class=\"djtooltiptext\">learning rate for gradient descent</span>\n",
       "                            </div></th><th><div class=\"djtooltip\">\n",
       "                                <p id=\"nonprimary\">glm_max_iter</p>\n",
       "                                <span class=\"djtooltiptext\">maximum number of iterations for the solver</span>\n",
       "                            </div></th><th><div class=\"djtooltip\">\n",
       "                                <p id=\"nonprimary\">glm_tol</p>\n",
       "                                <span class=\"djtooltiptext\">convergence threshold or stopping criteria;                                optimization loop will stop when relative change in                                parameter norm is below the threshold</span>\n",
       "                            </div></th><th><div class=\"djtooltip\">\n",
       "                                <p id=\"nonprimary\">glm_seed</p>\n",
       "                                <span class=\"djtooltiptext\">seed of the random number generator to initialize solution</span>\n",
       "                            </div></th><th><div class=\"djtooltip\">\n",
       "                                <p id=\"nonprimary\">glm_norm_y</p>\n",
       "                                <span class=\"djtooltiptext\">normalize observed responses between 0 and 1;                                could be either 'True' or 'False'</span>\n",
       "                            </div></th><th><div class=\"djtooltip\">\n",
       "                                <p id=\"nonprimary\">glm_nlag</p>\n",
       "                                <span class=\"djtooltiptext\">num of time steps of the kernel; see _get_stimulus_design_mat</span>\n",
       "                            </div></th><th><div class=\"djtooltip\">\n",
       "                                <p id=\"nonprimary\">glm_shift</p>\n",
       "                                <span class=\"djtooltiptext\">shift kernel to not predict itself                                for more info see glm._get_stimulus_design_mat()</span>\n",
       "                            </div></th><th><div class=\"djtooltip\">\n",
       "                                <p id=\"nonprimary\">glm_spat_scaling</p>\n",
       "                                <span class=\"djtooltiptext\">scaling factor to down or upsample the spatial                                resolution of the movie frames;                                scaled_height = frame_orig_height * glm_spat_scaling</span>\n",
       "                            </div> </th> </tr> </thead>\n",
       "                <tbody> <tr> <td>1</td>\n",
       "<td>softplus</td>\n",
       "<td>1.0</td>\n",
       "<td>0.00015</td>\n",
       "<td>batch-gradient</td>\n",
       "<td>0.7</td>\n",
       "<td>1000</td>\n",
       "<td>1e-06</td>\n",
       "<td>0</td>\n",
       "<td>True</td>\n",
       "<td>8</td>\n",
       "<td>1</td>\n",
       "<td>0.06</td> </tr> </tbody>\n",
       "            </table>\n",
       "            \n",
       "            <p>Total: 1</p></div>\n",
       "            "
      ],
      "text/plain": [
       "*glm_paramset    glm_distr     glm_alpha     glm_lambda     glm_solver         glm_lr     glm_max_iter     glm_tol     glm_seed     glm_norm_y     glm_nlag     glm_shift     glm_spat_scaling    \n",
       "+--------------+ +-----------+ +-----------+ +------------+ +----------------+ +--------+ +--------------+ +---------+ +----------+ +------------+ +----------+ +-----------+ +------------------+\n",
       "1                softplus      1.0           0.00015        batch-gradient     0.7        1000             1e-06       0            True           8            1             0.06                \n",
       " (Total: 1)"
      ]
     },
     "execution_count": 10,
     "metadata": {},
     "output_type": "execute_result"
    }
   ],
   "source": [
    "GlmParams()"
   ]
  },
  {
   "cell_type": "code",
   "execution_count": null,
   "metadata": {},
   "outputs": [],
   "source": []
  }
 ],
 "metadata": {
  "kernelspec": {
   "display_name": "Python 3",
   "language": "python",
   "name": "python3"
  },
  "language_info": {
   "codemirror_mode": {
    "name": "ipython",
    "version": 3
   },
   "file_extension": ".py",
   "mimetype": "text/x-python",
   "name": "python",
   "nbconvert_exporter": "python",
   "pygments_lexer": "ipython3",
   "version": "3.6.7"
  }
 },
 "nbformat": 4,
 "nbformat_minor": 2
}
