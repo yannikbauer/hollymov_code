{
 "cells": [
  {
   "cell_type": "markdown",
   "metadata": {},
   "source": [
    "# Grid search"
   ]
  },
  {
   "cell_type": "markdown",
   "metadata": {},
   "source": [
    "`HmovUnit()` and `SplineLNPParams()` should be already populated."
   ]
  },
  {
   "cell_type": "code",
   "execution_count": 1,
   "metadata": {
    "pycharm": {
     "is_executing": false
    }
   },
   "outputs": [],
   "source": [
    "%load_ext autoreload\n",
    "%autoreload 2"
   ]
  },
  {
   "cell_type": "code",
   "execution_count": 2,
   "metadata": {
    "pycharm": {
     "is_executing": false
    }
   },
   "outputs": [],
   "source": [
    "import matplotlib.pyplot as plt\n",
    "%matplotlib inline\n",
    "import numpy as np\n",
    "import warnings\n",
    "warnings.filterwarnings(\"ignore\")"
   ]
  },
  {
   "cell_type": "markdown",
   "metadata": {},
   "source": [
    "## Connect to `dj_hmovmodels`"
   ]
  },
  {
   "cell_type": "code",
   "execution_count": 3,
   "metadata": {},
   "outputs": [
    {
     "name": "stdout",
     "output_type": "stream",
     "text": [
      "For remote access to work, make sure to first open an SSH tunnel with MySQL\n",
      "port forwarding. Run the `djdtunnel` script in a separate terminal, with\n",
      "optional `--user` argument if your local and remote user names differ.\n",
      "Or, open the tunnel manually with:\n",
      "  ssh -NL 3306:huxley.neuro.bzm:3306 -p 1021 USERNAME@tunnel.bio.lmu.de\n",
      "Connecting execute@localhost:3306\n",
      "Connected to database 'dj_hmovmodels' as 'execute@10.153.172.3'\n",
      "For remote file access to work, make sure to first mount the filesystem at tunnel.bio.lmu.de:1021 via SSHFS with `hux -r`\n"
     ]
    }
   ],
   "source": [
    "run -im djd.main -- --dbname=dj_hmovmodels -r"
   ]
  },
  {
   "cell_type": "markdown",
   "metadata": {},
   "source": [
    "## Get paramset keys for grid search"
   ]
  },
  {
   "cell_type": "markdown",
   "metadata": {},
   "source": [
    "Get all 48 paramset keys for grid search:"
   ]
  },
  {
   "cell_type": "code",
   "execution_count": 4,
   "metadata": {},
   "outputs": [],
   "source": [
    "keys = SplineLNPParams().fetch(dj.key)"
   ]
  },
  {
   "cell_type": "markdown",
   "metadata": {},
   "source": [
    "First third will be done in Tübingen:"
   ]
  },
  {
   "cell_type": "code",
   "execution_count": 5,
   "metadata": {},
   "outputs": [],
   "source": [
    "keys_first_third = keys[:int(len(keys)/3)]"
   ]
  },
  {
   "cell_type": "markdown",
   "metadata": {},
   "source": [
    "Last two thirds will be populated at LMU (faster and no ssh connection issues):"
   ]
  },
  {
   "cell_type": "code",
   "execution_count": 6,
   "metadata": {},
   "outputs": [],
   "source": [
    "keys_last_2thirds = keys[int(len(keys)/3):]"
   ]
  },
  {
   "cell_type": "markdown",
   "metadata": {},
   "source": [
    "# Populate"
   ]
  },
  {
   "cell_type": "code",
   "execution_count": null,
   "metadata": {},
   "outputs": [
    {
     "name": "stdout",
     "output_type": "stream",
     "text": [
      "SplineLNP() parentkey: {'m': 'Ntsr1Cre_2019_0007', 's': 6, 'e': 9, 'u': 1, 'spl_paramset': 116}\n"
     ]
    },
    {
     "name": "stderr",
     "output_type": "stream",
     "text": [
      "W0318 18:23:57.750345 140712466347904 xla_bridge.py:131] No GPU/TPU found, falling back to CPU. (Set TF_CPP_MIN_LOG_LEVEL=0 and rerun for more info.)\n"
     ]
    },
    {
     "name": "stdout",
     "output_type": "stream",
     "text": [
      "Iters\t  Time (s)\tCost (train)\tCost (dev)\tMetric (train)\tMetric (dev)\n",
      "    0\t     2.472\t  1101.861\t    28.544\t     0.302\t     0.055\n",
      "  200\t    18.879\t -2315.906\t   -60.011\t     0.362\t     0.479\n",
      "  400\t    35.877\t -2625.663\t   -63.928\t     0.370\t     0.484\n",
      "  600\t    56.646\t -2744.789\t   -65.884\t     0.379\t     0.489\n",
      "  800\t    71.838\t -2800.001\t   -66.501\t     0.383\t     0.490\n",
      " 1000\t    89.851\t -2824.682\t   -66.760\t     0.385\t     0.489\n",
      " 1200\t   105.635\t -2833.990\t   -66.886\t     0.385\t     0.488\n",
      " 1400\t   123.850\t -2837.098\t   -66.962\t     0.385\t     0.487\n",
      " 1600\t   141.575\t -2838.200\t   -66.996\t     0.385\t     0.487\n",
      " 1800\t   160.231\t -2838.750\t   -66.958\t     0.385\t     0.486\n",
      " 2000\t   178.448\t -2839.162\t   -66.929\t     0.385\t     0.486\n",
      " 2200\t   194.745\t -2839.518\t   -66.871\t     0.385\t     0.486\n",
      " 2400\t   208.848\t -2839.830\t   -66.828\t     0.385\t     0.486\n",
      " 2600\t   227.353\t -2840.116\t   -66.780\t     0.385\t     0.486\n",
      " 2800\t   244.326\t -2840.427\t   -66.715\t     0.385\t     0.486\n",
      " 3000\t   260.622\t -2840.702\t   -66.654\t     0.385\t     0.486\n",
      " 3200\t   278.499\t -2840.995\t   -66.618\t     0.385\t     0.487\n",
      " 3400\t   295.850\t -2841.242\t   -66.560\t     0.385\t     0.487\n",
      " 3600\t   312.675\t -2841.529\t   -66.463\t     0.385\t     0.487\n",
      " 3800\t   330.279\t -2841.781\t   -66.405\t     0.385\t     0.487\n",
      "Stop: reached 4000 steps.\n",
      "\n",
      "Total time elapsed: 347.791 s.\n",
      "SplineLNP.Eval() parentkey: {'spl_paramset': 116, 'u': 1, 'e': 9, 'm': 'Ntsr1Cre_2019_0007', 's': 6}\n"
     ]
    }
   ],
   "source": [
    "SplineLNP().populate(keys_last_2thirds)"
   ]
  },
  {
   "cell_type": "code",
   "execution_count": null,
   "metadata": {},
   "outputs": [],
   "source": []
  }
 ],
 "metadata": {
  "kernelspec": {
   "display_name": "Python 3",
   "language": "python",
   "name": "python3"
  },
  "language_info": {
   "codemirror_mode": {
    "name": "ipython",
    "version": 3
   },
   "file_extension": ".py",
   "mimetype": "text/x-python",
   "name": "python",
   "nbconvert_exporter": "python",
   "pygments_lexer": "ipython3",
   "version": "3.6.7"
  }
 },
 "nbformat": 4,
 "nbformat_minor": 2
}
