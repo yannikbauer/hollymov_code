{
 "cells": [
  {
   "cell_type": "markdown",
   "metadata": {},
   "source": [
    "# HOWTO_plot\n",
    "Contains tips/info/guide on performing specific actions in python/jupyter based on personal history"
   ]
  },
  {
   "cell_type": "markdown",
   "metadata": {},
   "source": [
    "- axis properties: http://matplotlib.org/api/axes_api.html\n",
    "- rcParams: http://matplotlib.org/users/customizing.html\n",
    "- seaborn styles: https://tonysyu.github.io/raw_content/matplotlib-style-gallery/gallery.html"
   ]
  },
  {
   "cell_type": "code",
   "execution_count": 2,
   "metadata": {
    "collapsed": true,
    "jupyter": {
     "outputs_hidden": true
    }
   },
   "outputs": [],
   "source": [
    "import matplotlib.pyplot as plt\n",
    "import numpy as np\n",
    "import seaborn as sns\n",
    "# %matplotlib inline\n"
   ]
  },
  {
   "cell_type": "markdown",
   "metadata": {},
   "source": [
    "## Plot functions and manipulating fig and axes"
   ]
  },
  {
   "cell_type": "code",
   "execution_count": null,
   "metadata": {
    "collapsed": true,
    "jupyter": {
     "outputs_hidden": true
    }
   },
   "outputs": [],
   "source": [
    "def plotfun(x):\n",
    "    fig = plt.figure() # creates fig object\n",
    "    \n",
    "    lin = plt.plot(x) # pyplot: this function returns a line\n",
    "    # 1.1 get axis if plot function does not return it\n",
    "    ax = gca() # or just gca()\n",
    "    \n",
    "    # 1.2 or get axis directly\n",
    "    ax = sns.tsplot(x) # seaborn: this one returns an axis\n",
    "    \n",
    "    # Show fig\n",
    "    # plt.show() # Show fig now, or else return fig object (which can then be called by typing 'fig')\n",
    "    #           NOTE: only true unless you use %matplotlib inline     \n",
    "    return fig, ax\n",
    "\n",
    "def subplotfun(x):\n",
    "    \n",
    "    # (1) Fast: axes array\n",
    "    fig, axs = plt.subplots(2, 2, sharex=True)\n",
    "    axs[0,0].plot(x) # NOT ax[0,0] = plt.plot(x) < plots in last axis\n",
    "    axs[1,0].plot(-x)\n",
    "    axs[0,1].plot([6,7,4])\n",
    "    # How to use sns plot here?\n",
    "    # axs[1,1].sns.tsplot([1,2,3]) # not possible\n",
    "#     sns.tsplot(x, ax=ax[1,1]) # does not work - see later why\n",
    "\n",
    "    # (1.2) semi-fast axes tuple\n",
    "    fig, ((ax1, ax2), (ax3, ax4)) = plt.subplots(2, 2, sharex=True)\n",
    "    \n",
    "    \n",
    "    # (2) add_subplot\n",
    "    fig = plt.figure()\n",
    "    \n",
    "    # 2.1\n",
    "    ax = plt.subplot(211)\n",
    "    plt.plot(x)\n",
    "    # 2.2\n",
    "    ax = fig.add_subplot(211)\n",
    "    plt.plot(x)\n",
    "    # 2.3\n",
    "    axs[0] = fig.add_subplot(211)\n",
    "    plt.plot(x)\n",
    "    \n",
    "    # (3) gridspec\n",
    "    gs = gridspec.GridSpec(2,2)\n",
    "    ax = plt.subplot(gs[0, 0])\n",
    "    \n",
    "    return fig, axs\n"
   ]
  },
  {
   "cell_type": "code",
   "execution_count": null,
   "metadata": {
    "collapsed": true,
    "jupyter": {
     "outputs_hidden": true
    }
   },
   "outputs": [],
   "source": [
    "# from figure\n",
    "fig.gca().set(xlabel = 'Time')\n",
    "plt.gca().set(xlabel = 'Times')\n",
    "\n",
    "\n",
    "# directly from axis\n",
    "ax = fig.gca()\n",
    "ax.set(xlabel = 'T',\n",
    "       ylabel = 'f')\n",
    "# axs.set(frameon = False)\n"
   ]
  },
  {
   "cell_type": "markdown",
   "metadata": {},
   "source": [
    "# Multiplots\n",
    "Take home message: To embed plotting function outputs into larger plots, it is the easiest to specify an axis keyword argument in the plotting functions that allow to specify the axis to be used straight away, rather than trying to create competing subplots() axes."
   ]
  },
  {
   "cell_type": "code",
   "execution_count": null,
   "metadata": {
    "collapsed": true,
    "jupyter": {
     "outputs_hidden": true
    }
   },
   "outputs": [],
   "source": [
    "# Let's create two plotting functions, where 'simple' = only one axis\n",
    "def simple_plot():\n",
    "    '''Only one axis, but no axis specification. \n",
    "    This makes it hard to integrate simple_plot() into a specific axis in a larger figure calling it.'''\n",
    "    a, b = np.array(range(100)), np.sin(np.array(range(100)))    \n",
    "    # Calling subplots() creates another instance of fig and ax and would make simple_plot() unusable within a larger plotting function\n",
    "    # It is therefore commented out.\n",
    "#     fig, ax = plt.subplots(1, 1, figsize=(8, 8))\n",
    "    plt.plot(a, b)\n",
    "\n",
    "    return\n",
    "\n",
    "def simple_plot2(ax=None):\n",
    "    '''Only one axis, but with axis specification.'''\n",
    "    \n",
    "    a, b = np.array(range(100)), np.sin(np.array(range(100)))    \n",
    "    \n",
    "    # Create subplots only if no axis is specified in which to embed the plot\n",
    "    # For a single axis the call to subplots() is not so necessary, but still useful to get fig and ax handles\n",
    "    if ax is None: \n",
    "        fig, ax = plt.subplots(1, 1, figsize=(8, 8))\n",
    "        \n",
    "    ax.plot(a, b)\n",
    "    \n",
    "    return ax\n",
    "\n",
    "def general_plot_issues(ax=None):\n",
    "    '''Used to insert some comments on common plot functions'''\n",
    "    \n",
    "    a, b = np.array(range(100)), np.sin(np.array(range(100)))\n",
    "    \n",
    "    # Create subplots only if no axis is specified in which to embed the plot\n",
    "    # For a single axis the call to subplots() is not so necessary, but still useful to get fig and ax handles\n",
    "    if ax is None: \n",
    "        fig, ax = plt.subplots(1, 1, figsize=(8, 8))\n",
    "        \n",
    "    ax.plot(a, b) \n",
    "#     ax = plt.plot(a,b) # NOTE this is different, as it will create a handle to the line, not the axis!\n",
    "    \n",
    "    \n",
    "    # plt.show() # plt.show() would show the plot instantly (and so would %matplotlib inline)\n",
    "                # this will also create plot on every call, otherwise the same figure axis will be used multiple times\n",
    "\n",
    "#     plt.cla() # clear current axis\n",
    "#     plt.clf() # clear current figure\n",
    "#     plt.close() # clear current plot <- use this against memory overload!\n",
    "\n",
    "    return ax"
   ]
  },
  {
   "cell_type": "code",
   "execution_count": null,
   "metadata": {
    "collapsed": true,
    "jupyter": {
     "outputs_hidden": true
    }
   },
   "outputs": [],
   "source": [
    "# Let's create the scenario where we have plotting functions that create 2+ plots\n",
    "def complex_plot():\n",
    "    '''2+ plots, 1+ axis, but not axis specification. \n",
    "    This makes it hard to integrate simple_plot() into a specific axis in a larger figure calling it.'''\n",
    "    a, b = np.array(np.arange(0,10,0.01)), np.sin(np.arange(0,10,0.01))\n",
    "\n",
    "    # method 1 - multiple plots into same axis \n",
    "    # - can be called in single and complex plot subplot and gridspec\n",
    "#     ax = plt.plot(a, b)\n",
    "#     ax = plt.plot(a, -b) # does this reassing ax to the new plot or add the plot to ax?\n",
    "    \n",
    "    # method 2 - multiple plots into same axis using subplots command\n",
    "    # - can be called as single but not in gridpsec, due to calling subplots() here and in the larger plot function calling comlex_plot()\n",
    "#     fig, ax = plt.subplots(1, 1, figsize=(8, 8))\n",
    "#     ax.plot(a, b)\n",
    "#     ax.plot(a, -b)\n",
    "    \n",
    "    # method 3\n",
    "    # Does not work, for same reason as in method 2\n",
    "    fig, ax = plt.subplots(2, 1, figsize=(8, 8))\n",
    "    ax[0].plot(a, b)\n",
    "    ax[1].plot(a, -b)\n",
    "\n",
    "    return ax\n",
    "\n",
    "## Plot cross-validated train vs test errors\n",
    "def complex_plot2(ax=None):\n",
    "\n",
    "    a, b = np.array(np.arange(0,10,0.01)), np.sin(np.arange(0,10,0.01))\n",
    "    \n",
    "    if ax is None:\n",
    "        fig, ax = plt.subplots(2, 1, figsize=(8, 8))\n",
    "\n",
    "    ax[0].plot(a, b)\n",
    "    ax[1].plot(a, -b)\n",
    "    \n",
    "    return ax"
   ]
  },
  {
   "cell_type": "markdown",
   "metadata": {},
   "source": [
    "## Some points about calling the plotting functions"
   ]
  },
  {
   "cell_type": "code",
   "execution_count": null,
   "metadata": {
    "collapsed": true,
    "jupyter": {
     "outputs_hidden": true
    }
   },
   "outputs": [],
   "source": [
    "## simple calls\n",
    "# Calling the functions sequentially will also plot them sequentially - easy.\n",
    "simple_plot() # Will call the plot as is\n",
    "complex_plot2(); # semicolon nec to suppress this output: [<matplotlib.lines.Line2D at 0x114bf2128>]\n",
    "                # This will also prevent double plotting due to automatic jupyter output + figure call\n",
    "# ax = complex_plot2() # ax-assignment does same trick\n",
    "\n",
    "plt.show() # nec to show plot, unless stated in complex_plot() itself, or %matplotlib inline stated"
   ]
  },
  {
   "cell_type": "code",
   "execution_count": null,
   "metadata": {
    "collapsed": true,
    "jupyter": {
     "outputs_hidden": true
    }
   },
   "outputs": [],
   "source": [
    "## Embedding plot in larger figure using subplot\n",
    "# For ptloting functions that output just one axis, like simple_plot(), this is fairly straightforward\n",
    "plt.subplot(121)\n",
    "simple_plot();\n",
    "\n",
    "plt.subplot(122)\n",
    "ax2 = simple_plot2(ax=plt.gca()); # Since simple_plot2() outputs ax, we can even assign the axis handle here to do stuff with it\n",
    "                                # of course, we could specify 'ax2 = plt.subplot(122)' straight away\n",
    "# ax2.set_xlim((50,100)) # alternative: plt.xlim((50,100))\n",
    "plt.show()"
   ]
  },
  {
   "cell_type": "code",
   "execution_count": null,
   "metadata": {
    "collapsed": true,
    "jupyter": {
     "outputs_hidden": true
    }
   },
   "outputs": [],
   "source": [
    "## Embedding plot in larger figure using subplots\n",
    "# Slightly annoyingly, subplots still draws empty axes\n",
    "# Also, it does not allow multi-row/column axes -> use gridspec\n",
    "fig, axes = plt.subplots(3,2)\n",
    "# fig, [ax1, ax2] = plt.subplots(2, 2, figsize=(12, 8)) # alternatively specify axes straight away\n",
    "ax1 = simple_plot2(ax=axes[0,0]); # for the above alternative, use ax=ax1\n",
    "\n",
    "# axes[1,0] = simple_plot() # This will not work, and instead plot simple_plot() into gca(), i.e. the last one\n",
    "\n",
    "complex_plot2(ax=[axes[2,0], axes[0,1]])\n",
    "plt.show()"
   ]
  },
  {
   "cell_type": "code",
   "execution_count": null,
   "metadata": {
    "collapsed": true,
    "jupyter": {
     "outputs_hidden": true
    }
   },
   "outputs": [],
   "source": [
    "## Embedding plot in larger figure using gridspec\n",
    "# Allows mluti-row/column axes and does not plot empty axes\n",
    "import matplotlib.gridspec as gridspec\n",
    "gs = gridspec.GridSpec(3, 2)\n",
    "# For simple subplots, it is easy to just call subplot(), specified with a gridspec-axis,\n",
    "# and then call the plotting function which will use the current axis\n",
    "plt.subplot(gs[0,0])\n",
    "simple_plot()\n",
    "\n",
    "# Calling complex_plot(), which has no axis keyword, will result in interfering calls between subplot() here\n",
    "# and subplots() within complex_plot()\n",
    "# Equally, it does not seem possible to somehow copy the complex_plot() axes into the desired gridspec axes\n",
    "# ax3 = plt.subplot(gs[0,1])\n",
    "# axes = complex_plot();\n",
    "# ax3 = axes[0]\n",
    "\n",
    "# Instead, we use complex_plot2() with specified axes, allowing us to even span multiple grid positions\n",
    "ax1 = plt.subplot(gs[1,0]) # single specified location\n",
    "ax2 = plt.subplot(gs[:,1]) # two-row location\n",
    "complex_plot2(ax=[ax1, ax2])\n",
    "\n",
    "plt.tight_layout() # make subplots fit nicely\n",
    "plt.show()"
   ]
  },
  {
   "cell_type": "markdown",
   "metadata": {},
   "source": [
    "# Figure params"
   ]
  },
  {
   "cell_type": "markdown",
   "metadata": {},
   "source": [
    "- individual manipulation\n",
    "- passing parameter dictionary dict\n",
    " - directly, using plt.plot(**dict)\n",
    " - ax.update(dict)\n",
    "- rcParams"
   ]
  },
  {
   "cell_type": "code",
   "execution_count": null,
   "metadata": {
    "collapsed": true,
    "jupyter": {
     "outputs_hidden": true
    }
   },
   "outputs": [],
   "source": [
    "axs.properties()"
   ]
  },
  {
   "cell_type": "code",
   "execution_count": null,
   "metadata": {
    "collapsed": true,
    "jupyter": {
     "outputs_hidden": true
    }
   },
   "outputs": [],
   "source": [
    "get_plot().title # works?"
   ]
  },
  {
   "cell_type": "code",
   "execution_count": null,
   "metadata": {
    "collapsed": true,
    "jupyter": {
     "outputs_hidden": true
    }
   },
   "outputs": [],
   "source": [
    "p = {'title': 'test'}\n",
    "axs.update(p)"
   ]
  }
 ],
 "metadata": {
  "kernelspec": {
   "display_name": "Python 3",
   "language": "python",
   "name": "python3"
  },
  "language_info": {
   "codemirror_mode": {
    "name": "ipython",
    "version": 3
   },
   "file_extension": ".py",
   "mimetype": "text/x-python",
   "name": "python",
   "nbconvert_exporter": "python",
   "pygments_lexer": "ipython3",
   "version": "3.7.9"
  }
 },
 "nbformat": 4,
 "nbformat_minor": 4
}
