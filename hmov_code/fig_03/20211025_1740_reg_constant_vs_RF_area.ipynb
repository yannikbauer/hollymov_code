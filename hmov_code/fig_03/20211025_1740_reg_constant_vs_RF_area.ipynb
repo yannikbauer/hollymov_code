{
 "cells": [
  {
   "cell_type": "code",
   "execution_count": null,
   "metadata": {},
   "outputs": [],
   "source": []
  },
  {
   "cell_type": "code",
   "execution_count": 1,
   "metadata": {
    "pycharm": {
     "is_executing": false
    }
   },
   "outputs": [],
   "source": [
    "%load_ext autoreload\n",
    "%autoreload 2"
   ]
  },
  {
   "cell_type": "code",
   "execution_count": 2,
   "metadata": {
    "pycharm": {
     "is_executing": false
    }
   },
   "outputs": [],
   "source": [
    "import matplotlib.pyplot as plt\n",
    "%matplotlib inline\n",
    "import numpy as np\n",
    "import seaborn as sns\n",
    "import warnings\n",
    "warnings.filterwarnings(\"ignore\")"
   ]
  },
  {
   "cell_type": "code",
   "execution_count": 3,
   "metadata": {},
   "outputs": [
    {
     "name": "stdout",
     "output_type": "stream",
     "text": [
      "For remote access to work, make sure to first open an SSH tunnel with MySQL\n",
      "port forwarding. Run the `djdtunnel` script in a separate terminal, with\n",
      "optional `--user` argument if your local and remote user names differ.\n",
      "Or, open the tunnel manually with:\n",
      "  ssh -NL 3306:huxley.neuro.bzm:3306 -p 1021 USERNAME@tunnel.bio.lmu.de\n",
      "Connecting execute@localhost:3306\n",
      "Connected to database 'dj_lisa' as 'execute@10.153.172.3'\n",
      "For remote file access to work, make sure to first mount the filesystem at tunnel.bio.lmu.de:1021 via SSHFS with `hux -r`\n"
     ]
    }
   ],
   "source": [
    "run -im djd.main -- --dbname=dj_lisa -r"
   ]
  },
  {
   "cell_type": "code",
   "execution_count": 4,
   "metadata": {},
   "outputs": [],
   "source": [
    "from djd import glms\n",
    "from djd import hmov_unit"
   ]
  },
  {
   "cell_type": "markdown",
   "metadata": {},
   "source": [
    "# Get critical set of units"
   ]
  },
  {
   "cell_type": "code",
   "execution_count": 6,
   "metadata": {},
   "outputs": [
    {
     "data": {
      "text/plain": [
       "93"
      ]
     },
     "execution_count": 6,
     "metadata": {},
     "output_type": "execute_result"
    }
   ],
   "source": [
    "keys_crit = HmovUnit().get_crit_set(fr_crit=0.1, opto=True, run=True, eye=True, excl_ctrl_m=True)\n",
    "len(keys_crit)"
   ]
  },
  {
   "cell_type": "markdown",
   "metadata": {},
   "source": [
    "# Compare RF size & regularization"
   ]
  },
  {
   "cell_type": "code",
   "execution_count": 7,
   "metadata": {},
   "outputs": [],
   "source": [
    "rf_areas = []\n",
    "reg_consts = []\n",
    "\n",
    "for key in keys_crit:\n",
    "    bm = glms.get_best_model(key, model_type='SplineLNP', crit='spl_r_val', groupby=['m','s','u'],\n",
    "                   opto_config='True', opto_len='_', run_config='True', run_len='_',\n",
    "                   eye_config='True', eye_len='_', pshf_config='False', paramset_ids=None,\n",
    "                   key_only=True, format='dict',\n",
    "                   verbose=True)\n",
    "    rf_area = (SplineLNP.Eval() & bm).fetch1('spl_rf_area')\n",
    "    reg_const = (SplineLNPParams() & bm).fetch1('spl_lambda')\n",
    "    \n",
    "    rf_areas.append(rf_area)\n",
    "    reg_consts.append(reg_const)"
   ]
  },
  {
   "cell_type": "code",
   "execution_count": 8,
   "metadata": {},
   "outputs": [],
   "source": [
    "import matplotlib.colors\n",
    "\n",
    "colormap = 'husl'\n",
    "sns_cmap = sns.color_palette(colormap, 8).as_hex()\n",
    "cmap = matplotlib.colors.ListedColormap(sns_cmap)"
   ]
  },
  {
   "cell_type": "code",
   "execution_count": 9,
   "metadata": {},
   "outputs": [
    {
     "data": {
      "image/png": "[encoded data removed]",
      "text/plain": [
       "<Figure size 216x216 with 1 Axes>"
      ]
     },
     "metadata": {},
     "output_type": "display_data"
    }
   ],
   "source": [
    "fig, ax = plt.subplots(1,1,figsize=(3,3))\n",
    "sns.violinplot(reg_consts, rf_areas, ax=ax, palette=sns_cmap,  inner=\"stick\", bw=.2)\n",
    "ax.set_ylabel('Receptive field area (deg2)')\n",
    "ax.set_xlabel('Regularization constant')\n",
    "\n",
    "sns.despine()\n",
    "\n",
    "fig.patch.set_facecolor('white')\n",
    "#fig.savefig('./plots/RF_area_vs_reg_const.png', dpi=150, bbox_inches='tight', facecolor=fig.get_facecolor(), transparent=False)"
   ]
  }
 ],
 "metadata": {
  "kernelspec": {
   "display_name": "Python 3",
   "language": "python",
   "name": "python3"
  },
  "language_info": {
   "codemirror_mode": {
    "name": "ipython",
    "version": 3
   },
   "file_extension": ".py",
   "mimetype": "text/x-python",
   "name": "python",
   "nbconvert_exporter": "python",
   "pygments_lexer": "ipython3",
   "version": "3.6.7"
  }
 },
 "nbformat": 4,
 "nbformat_minor": 2
}
