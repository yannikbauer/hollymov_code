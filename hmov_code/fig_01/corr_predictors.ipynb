{
 "cells": [
  {
   "cell_type": "markdown",
   "metadata": {},
   "source": [
    "# Plot pupil size vs stimulus luminance correlation"
   ]
  },
  {
   "cell_type": "markdown",
   "metadata": {},
   "source": [
    "## TODO:"
   ]
  },
  {
   "cell_type": "code",
   "execution_count": 1,
   "metadata": {},
   "outputs": [
    {
     "name": "stdout",
     "output_type": "stream",
     "text": [
      "Connecting write@huxley.neuro.bzm:3306\n",
      "Connected to database 'dj_hmov' as 'write@10.153.173.165'\n"
     ]
    }
   ],
   "source": [
    "run -im djd.main -- --dbname=dj_hmov"
   ]
  },
  {
   "cell_type": "code",
   "execution_count": 2,
   "metadata": {
    "pycharm": {
     "is_executing": false
    }
   },
   "outputs": [],
   "source": [
    "%load_ext autoreload\n",
    "%autoreload 2"
   ]
  },
  {
   "cell_type": "code",
   "execution_count": 3,
   "metadata": {
    "pycharm": {
     "is_executing": false
    }
   },
   "outputs": [],
   "source": [
    "import matplotlib.pyplot as plt\n",
    "import matplotlib as mpl\n",
    "%matplotlib inline\n",
    "import numpy as np\n",
    "import pprint\n",
    "import scipy\n",
    "import seaborn as sns\n",
    "import warnings\n",
    "# warnings.filterwarnings(\"ignore\")\n",
    "\n",
    "# DJD modules\n",
    "from djd.hmov_unit import corr_pupil_size_stim_intensity, corr_predictors, predictor_corr_matrix\n",
    "from djd.util import cm2inch\n",
    "from djd.plot import adjust_spines, get_color_dict"
   ]
  },
  {
   "cell_type": "markdown",
   "metadata": {},
   "source": [
    "## Get unit keys"
   ]
  },
  {
   "cell_type": "code",
   "execution_count": 4,
   "metadata": {},
   "outputs": [
    {
     "data": {
      "text/html": [
       "<div>\n",
       "<style scoped>\n",
       "    .dataframe tbody tr th:only-of-type {\n",
       "        vertical-align: middle;\n",
       "    }\n",
       "\n",
       "    .dataframe tbody tr th {\n",
       "        vertical-align: top;\n",
       "    }\n",
       "\n",
       "    .dataframe thead th {\n",
       "        text-align: right;\n",
       "    }\n",
       "</style>\n",
       "<table border=\"1\" class=\"dataframe\">\n",
       "  <thead>\n",
       "    <tr style=\"text-align: right;\">\n",
       "      <th></th>\n",
       "      <th>m</th>\n",
       "      <th>s</th>\n",
       "      <th>e</th>\n",
       "    </tr>\n",
       "  </thead>\n",
       "  <tbody>\n",
       "    <tr>\n",
       "      <th>0</th>\n",
       "      <td>Ntsr1Cre_2019_0007</td>\n",
       "      <td>6</td>\n",
       "      <td>9</td>\n",
       "    </tr>\n",
       "    <tr>\n",
       "      <th>1</th>\n",
       "      <td>Ntsr1Cre_2019_0008</td>\n",
       "      <td>3</td>\n",
       "      <td>7</td>\n",
       "    </tr>\n",
       "    <tr>\n",
       "      <th>2</th>\n",
       "      <td>Ntsr1Cre_2019_0008</td>\n",
       "      <td>5</td>\n",
       "      <td>8</td>\n",
       "    </tr>\n",
       "    <tr>\n",
       "      <th>3</th>\n",
       "      <td>Ntsr1Cre_2019_0008</td>\n",
       "      <td>6</td>\n",
       "      <td>6</td>\n",
       "    </tr>\n",
       "    <tr>\n",
       "      <th>4</th>\n",
       "      <td>Ntsr1Cre_2019_0008</td>\n",
       "      <td>7</td>\n",
       "      <td>6</td>\n",
       "    </tr>\n",
       "    <tr>\n",
       "      <th>5</th>\n",
       "      <td>Ntsr1Cre_2020_0001</td>\n",
       "      <td>2</td>\n",
       "      <td>7</td>\n",
       "    </tr>\n",
       "    <tr>\n",
       "      <th>6</th>\n",
       "      <td>Ntsr1Cre_2020_0001</td>\n",
       "      <td>3</td>\n",
       "      <td>6</td>\n",
       "    </tr>\n",
       "    <tr>\n",
       "      <th>7</th>\n",
       "      <td>Ntsr1Cre_2020_0001</td>\n",
       "      <td>3</td>\n",
       "      <td>10</td>\n",
       "    </tr>\n",
       "    <tr>\n",
       "      <th>8</th>\n",
       "      <td>Ntsr1Cre_2020_0002</td>\n",
       "      <td>3</td>\n",
       "      <td>6</td>\n",
       "    </tr>\n",
       "    <tr>\n",
       "      <th>9</th>\n",
       "      <td>Ntsr1Cre_2020_0002</td>\n",
       "      <td>4</td>\n",
       "      <td>8</td>\n",
       "    </tr>\n",
       "    <tr>\n",
       "      <th>10</th>\n",
       "      <td>Ntsr1Cre_2020_0002</td>\n",
       "      <td>6</td>\n",
       "      <td>6</td>\n",
       "    </tr>\n",
       "  </tbody>\n",
       "</table>\n",
       "</div>"
      ],
      "text/plain": [
       "                     m  s   e\n",
       "0   Ntsr1Cre_2019_0007  6   9\n",
       "1   Ntsr1Cre_2019_0008  3   7\n",
       "2   Ntsr1Cre_2019_0008  5   8\n",
       "3   Ntsr1Cre_2019_0008  6   6\n",
       "4   Ntsr1Cre_2019_0008  7   6\n",
       "5   Ntsr1Cre_2020_0001  2   7\n",
       "6   Ntsr1Cre_2020_0001  3   6\n",
       "7   Ntsr1Cre_2020_0001  3  10\n",
       "8   Ntsr1Cre_2020_0002  3   6\n",
       "9   Ntsr1Cre_2020_0002  4   8\n",
       "10  Ntsr1Cre_2020_0002  6   6"
      ]
     },
     "execution_count": 4,
     "metadata": {},
     "output_type": "execute_result"
    }
   ],
   "source": [
    "df = pd.DataFrame((Series.Experiment() & HmovUnit()).fetch(dj.key, as_dict=True))\n",
    "df"
   ]
  },
  {
   "cell_type": "code",
   "execution_count": null,
   "metadata": {},
   "outputs": [],
   "source": []
  },
  {
   "cell_type": "code",
   "execution_count": null,
   "metadata": {},
   "outputs": [],
   "source": []
  },
  {
   "cell_type": "markdown",
   "metadata": {},
   "source": [
    "## Get correlation"
   ]
  },
  {
   "cell_type": "code",
   "execution_count": 8,
   "metadata": {},
   "outputs": [
    {
     "name": "stdout",
     "output_type": "stream",
     "text": [
      ".\n",
      "Error list:\n",
      "[]\n"
     ]
    }
   ],
   "source": [
    "corrs = np.full(len(df), np.nan)\n",
    "pvals = np.full(len(df), np.nan)\n",
    "corrs_null = np.full((len(df),1000), np.nan)\n",
    "err_list = []\n",
    "\n",
    "for i, key in df.head(n=1).iterrows(): # n=len(df)\n",
    "    key = key.to_dict()\n",
    "    try:\n",
    "        corrs[i], pvals[i], corrs_null[i,:] = corr_predictors(key, 'stim', 'stim',\n",
    "                                                            kind='pearsonr', \n",
    "                                                            shift_eye_t=-0.666) # -0.384\n",
    "        print('.', end='')\n",
    "    except:\n",
    "        print('x', end='')\n",
    "        err_list.append(key)\n",
    "        continue\n",
    "\n",
    "# Remove NaNs\n",
    "pvals = pvals[~np.isnan(corrs)]\n",
    "corrs_null = corrs_null[~np.isnan(corrs)]\n",
    "corrs = corrs[~np.isnan(corrs)]\n",
    "print('\\nError list:')\n",
    "pprint.pprint(err_list)"
   ]
  },
  {
   "cell_type": "code",
   "execution_count": 35,
   "metadata": {},
   "outputs": [
    {
     "name": "stdout",
     "output_type": "stream",
     "text": [
      "Correlation coeffs:\n",
      " [1.]\n",
      "Mean ± SD:\n",
      " 0.9999999999999998 ± 0.0\n",
      "Significant values with p < 0.001:\n",
      " 1/1\n"
     ]
    }
   ],
   "source": [
    "# Check how many p-vals are significant (two-tailed)\n",
    "print('Correlation coeffs:\\n', np.round(corrs, 3))\n",
    "print(f'Mean ± SD:\\n {np.mean(corrs)} ± {np.std(corrs)}')\n",
    "\n",
    "alpha = 0.001\n",
    "signif = sum((pvals < alpha) | (pvals > 1-alpha))\n",
    "print(f'Significant values with p < {alpha}:\\n {signif}/{len(pvals)}')"
   ]
  },
  {
   "cell_type": "markdown",
   "metadata": {},
   "source": [
    "## Make correlation matrix"
   ]
  },
  {
   "cell_type": "code",
   "execution_count": 41,
   "metadata": {},
   "outputs": [
    {
     "name": "stdout",
     "output_type": "stream",
     "text": [
      "...xxxxx...\n",
      "Error list:\n",
      "[{'e': 6, 'm': 'Ntsr1Cre_2019_0008', 's': 6},\n",
      " {'e': 6, 'm': 'Ntsr1Cre_2019_0008', 's': 7},\n",
      " {'e': 7, 'm': 'Ntsr1Cre_2020_0001', 's': 2},\n",
      " {'e': 6, 'm': 'Ntsr1Cre_2020_0001', 's': 3},\n",
      " {'e': 10, 'm': 'Ntsr1Cre_2020_0001', 's': 3}]\n"
     ]
    }
   ],
   "source": [
    "err_list = []\n",
    "dfs = []\n",
    "\n",
    "for i, key in df.head(n=len(df)).iterrows(): # n=len(df)\n",
    "    key = key.to_dict()\n",
    "    try:        \n",
    "        df_corr = predictor_corr_matrix(key) # -0.384\n",
    "        dfs.append(df_corr.values)\n",
    "        print('.', end='')\n",
    "    except:\n",
    "        print('x', end='')\n",
    "        err_list.append(key)\n",
    "        continue\n",
    "\n",
    "mean_corr = np.array(dfs).mean(axis=0)\n",
    "df_mean_corr = pd.DataFrame(mean_corr, columns=df_corr.columns, index=df_corr.index)\n",
    "\n",
    "print('\\nError list:')\n",
    "pprint.pprint(err_list)"
   ]
  },
  {
   "cell_type": "code",
   "execution_count": 42,
   "metadata": {},
   "outputs": [
    {
     "data": {
      "text/html": [
       "<div>\n",
       "<style scoped>\n",
       "    .dataframe tbody tr th:only-of-type {\n",
       "        vertical-align: middle;\n",
       "    }\n",
       "\n",
       "    .dataframe tbody tr th {\n",
       "        vertical-align: top;\n",
       "    }\n",
       "\n",
       "    .dataframe thead th {\n",
       "        text-align: right;\n",
       "    }\n",
       "</style>\n",
       "<table border=\"1\" class=\"dataframe\">\n",
       "  <thead>\n",
       "    <tr style=\"text-align: right;\">\n",
       "      <th></th>\n",
       "      <th>stim</th>\n",
       "      <th>opto</th>\n",
       "      <th>run</th>\n",
       "      <th>eye</th>\n",
       "    </tr>\n",
       "  </thead>\n",
       "  <tbody>\n",
       "    <tr>\n",
       "      <th>stim</th>\n",
       "      <td>1.000000</td>\n",
       "      <td>-0.012473</td>\n",
       "      <td>-0.009171</td>\n",
       "      <td>-0.356820</td>\n",
       "    </tr>\n",
       "    <tr>\n",
       "      <th>opto</th>\n",
       "      <td>-0.012473</td>\n",
       "      <td>1.000000</td>\n",
       "      <td>-0.005145</td>\n",
       "      <td>-0.010334</td>\n",
       "    </tr>\n",
       "    <tr>\n",
       "      <th>run</th>\n",
       "      <td>-0.009171</td>\n",
       "      <td>-0.005145</td>\n",
       "      <td>1.000000</td>\n",
       "      <td>0.163918</td>\n",
       "    </tr>\n",
       "    <tr>\n",
       "      <th>eye</th>\n",
       "      <td>-0.356820</td>\n",
       "      <td>-0.010334</td>\n",
       "      <td>0.163918</td>\n",
       "      <td>1.000000</td>\n",
       "    </tr>\n",
       "  </tbody>\n",
       "</table>\n",
       "</div>"
      ],
      "text/plain": [
       "          stim      opto       run       eye\n",
       "stim  1.000000 -0.012473 -0.009171 -0.356820\n",
       "opto -0.012473  1.000000 -0.005145 -0.010334\n",
       "run  -0.009171 -0.005145  1.000000  0.163918\n",
       "eye  -0.356820 -0.010334  0.163918  1.000000"
      ]
     },
     "execution_count": 42,
     "metadata": {},
     "output_type": "execute_result"
    }
   ],
   "source": [
    "df_mean_corr"
   ]
  },
  {
   "cell_type": "code",
   "execution_count": 43,
   "metadata": {},
   "outputs": [
    {
     "data": {
      "image/png": "[encoded data removed]",
      "text/plain": [
       "<Figure size 432x288 with 2 Axes>"
      ]
     },
     "metadata": {
      "needs_background": "light"
     },
     "output_type": "display_data"
    }
   ],
   "source": [
    "ax = sns.heatmap(df_mean_corr, cmap='RdBu', center=0, vmin=-1, vmax=1, \n",
    "                 annot=True, square=True,\n",
    "                cbar_kws={'label': \"Pearson's $r$\"})\n",
    "bottom, top = ax.get_ylim()\n",
    "ax.set_ylim(bottom + 0.5, top - 0.5)\n",
    "ax.tick_params(axis='y', rotation=0)"
   ]
  },
  {
   "cell_type": "markdown",
   "metadata": {},
   "source": [
    "## Get cross-correlation"
   ]
  },
  {
   "cell_type": "code",
   "execution_count": 27,
   "metadata": {},
   "outputs": [
    {
     "name": "stdout",
     "output_type": "stream",
     "text": [
      ".\n",
      "Error list:\n",
      "[]\n"
     ]
    }
   ],
   "source": [
    "# Get cross corr for individual experiments\n",
    "corrs = []\n",
    "lags = []\n",
    "err_list = []\n",
    "\n",
    "for i, key in df.head(n=1).iterrows(): # n=len(df)\n",
    "    key = key.to_dict()\n",
    "    try:\n",
    "        corr, lag = corr_predictors(key, 'stim', 'stim', kind='cross-corr')\n",
    "        corrs.append(corr), lags.append(lag)\n",
    "        print('.', end='')\n",
    "    except:\n",
    "        print('x', end='')\n",
    "        err_list.append(key)\n",
    "        continue\n",
    "print('\\nError list:')\n",
    "pprint.pprint(err_list)"
   ]
  },
  {
   "cell_type": "code",
   "execution_count": 29,
   "metadata": {},
   "outputs": [
    {
     "name": "stdout",
     "output_type": "stream",
     "text": [
      "minlag = ± 1799.9666666666667 s\n"
     ]
    }
   ],
   "source": [
    "# Unify experiment-wise cross-corrs of different length into single array\n",
    "minlag = np.min([i[-1] for i in lags])  # find experiment w smallest lag range\n",
    "print('minlag = ±', minlag, 's')\n",
    "\n",
    "# Apply minlag to all experiments to get same trange\n",
    "for i, l in enumerate(lags):\n",
    "    corrs[i] = corrs[i][(l >= -minlag) & (l <= minlag)]\n",
    "    lags[i] = lags[i][(l >= -minlag) & (l <= minlag)]\n",
    "\n",
    "corrs = np.stack(corrs)\n",
    "lags = np.stack(lags)\n",
    "\n",
    "corrs_mean = np.mean(corrs, axis=0)"
   ]
  },
  {
   "cell_type": "markdown",
   "metadata": {},
   "source": [
    "## Plot"
   ]
  },
  {
   "cell_type": "code",
   "execution_count": 12,
   "metadata": {},
   "outputs": [],
   "source": [
    "## Update plot parameters\n",
    "# Option 1: Update general pars from modified matplotlibrc file\n",
    "plt.rcParams.update(mpl.rc_params_from_file('../../matplotlibrc', fail_on_error=False, use_default_template=True))\n",
    "\n",
    "# Option 2: Dynamically update general pars (use if not updating from modified matplotlibrc)\n",
    "plt.rcParams.update({\n",
    "#     'figure.dpi': 100,\n",
    "    'figure.max_open_warning': 0, \n",
    "    'axes.labelsize': 'medium',\n",
    "    'font.sans-serif': ['Arial'],\n",
    "    'pdf.fonttype': 42, # make text editable (otherwise saved as non-text path/shape)\n",
    "    'ps.fonttype': 42, # make text editable (otherwise saved as non-text path/shape)\n",
    "    })\n",
    "\n",
    "# Dynamically update plot-specific pars\n",
    "plt.rcParams.update({\n",
    "#     'figure.dpi': 100,\n",
    "    'figure.max_open_warning': 0, \n",
    "    'axes.linewidth': 0.5,\n",
    "    'xtick.major.width': 0.5,\n",
    "    'ytick.major.width': 0.5,\n",
    "#     'ytick.major.pad': 1, # 3.5\n",
    "    'axes.labelsize': 7.0,\n",
    "    'axes.titlesize': 8,\n",
    "    'xtick.labelsize': 7,\n",
    "    'ytick.labelsize': 7,\n",
    "    'legend.fontsize': 7,\n",
    "    })"
   ]
  },
  {
   "cell_type": "code",
   "execution_count": 30,
   "metadata": {},
   "outputs": [
    {
     "data": {
      "text/plain": [
       "Text(0, 0.5, 'Normalized cross-correlation')"
      ]
     },
     "execution_count": 30,
     "metadata": {},
     "output_type": "execute_result"
    },
    {
     "data": {
      "image/png": "[encoded data removed]",
      "text/plain": [
       "<Figure size 600x450 with 1 Axes>"
      ]
     },
     "metadata": {},
     "output_type": "display_data"
    }
   ],
   "source": [
    "fig, ax = plt.subplots(figsize=(4,3), dpi=150)\n",
    "ax.plot(lags.T, corrs.T, 'k', alpha=0.25)\n",
    "plt.plot(lags.T, corrs_mean, 'k')\n",
    "ax.axvline(x=0, ymin=0, ymax=1, color='k', linestyle='--', alpha=0.5, zorder=-1)\n",
    "# maxcorr = lags[np.where(corr == np.max(corr))[0]]  # find max crosscorr\n",
    "# ax.axvline(x=maxcorr, ymin=0, ymax=1, color='r', linestyle='--', zorder=-1)\n",
    "# ax.set_xlim([-1,1])\n",
    "ax.set_title('Cross-correlation of pred1 vs pred2')\n",
    "ax.set_xlabel('Time lag (s)')\n",
    "ax.set_ylabel('Normalized cross-correlation')  # 'Discrete lin cross-corr'"
   ]
  },
  {
   "cell_type": "code",
   "execution_count": 31,
   "metadata": {},
   "outputs": [
    {
     "data": {
      "text/plain": [
       "array([-5.])"
      ]
     },
     "execution_count": 31,
     "metadata": {},
     "output_type": "execute_result"
    }
   ],
   "source": [
    "# Find minimum cross-corr within defined centre time range\n",
    "# -> This identifies the time lag between stim luminance increase and pupil constriction\n",
    "trange = [-5, 5]\n",
    "lags_range = lags[0][(lags[0] >= trange[0]) & (lags[0] < trange[-1])]\n",
    "corrs_range = corrs_mean[(lags[0] >= trange[0]) & (lags[0] < trange[-1])]\n",
    "mincorr = corrs_range[np.where(corrs_range == np.min(corrs_range))[0]]  # find min crosscorr\n",
    "mincorr_t = lags_range[np.where(corrs_range == np.min(corrs_range))[0]]  # find min crosscorr tpoint\n",
    "mincorr_t"
   ]
  },
  {
   "cell_type": "code",
   "execution_count": 31,
   "metadata": {},
   "outputs": [
    {
     "data": {
      "image/png": "[encoded data removed]",
      "text/plain": [
       "<Figure size 314.961x275.591 with 1 Axes>"
      ]
     },
     "metadata": {},
     "output_type": "display_data"
    }
   ],
   "source": [
    "## Plot stimulus-pupil diameter cross-correlation\n",
    "\n",
    "# Get default colors for opto, locomotion and eye data\n",
    "col_dict = get_color_dict(color_names=['blue','orange', 'green', 'red', 'purple',\n",
    "                                       'brown', 'pink', 'gray', 'yellow', 'lightblue'])\n",
    "col = col_dict['orange']  # eye color is orange\n",
    "\n",
    "fig, ax = plt.subplots(figsize=cm2inch((4,3.5)), dpi=200)\n",
    "\n",
    "ax.plot(lags.T, corrs.T, color=col, alpha=0.25)\n",
    "ax.plot(lags[0], corrs_mean, color=col)\n",
    "\n",
    "ax.axvline(x=0, ymin=0, ymax=1, color='k', linestyle='--', alpha=0.5, zorder=-1)\n",
    "ax.annotate(f'{np.int(mincorr_t[0]*1000)} ms', xy=(mincorr_t, mincorr-0.02), xytext=(mincorr_t, mincorr-0.04), ha='left', va='top', size=7,\n",
    "            arrowprops=dict(facecolor='black', arrowstyle='->', relpos=(0.5,0.5)))# width=0.05, shrink=0.5))\n",
    "ax.set_xlim([-25,25])\n",
    "ax.set_ylim([0.85,1])\n",
    "# ax.set_title('Cross-correlation of \\nstimulus luminance vs pupil diameter')\n",
    "ax.set_xlabel('Time lag (s)')\n",
    "ax.set_ylabel('Normalized \\ncross-correlation')  # 'Discrete lin cross-corr'\n",
    "\n",
    "adjust_spines(ax, ['bottom', 'left'])\n",
    "\n",
    "plt.savefig('eye_stim_luminance_cross_corr.pdf')"
   ]
  },
  {
   "cell_type": "markdown",
   "metadata": {},
   "source": [
    "## Get pupil size vs stimulus luminance correlation"
   ]
  },
  {
   "cell_type": "markdown",
   "metadata": {},
   "source": [
    "## Check stats"
   ]
  },
  {
   "cell_type": "markdown",
   "metadata": {},
   "source": [
    "## Plot"
   ]
  },
  {
   "cell_type": "code",
   "execution_count": 33,
   "metadata": {},
   "outputs": [
    {
     "data": {
      "image/png": "[encoded data removed]",
      "text/plain": [
       "<Figure size 177.165x196.85 with 1 Axes>"
      ]
     },
     "metadata": {
      "needs_background": "light"
     },
     "output_type": "display_data"
    }
   ],
   "source": [
    "## Plot stim-pupil correlations\n",
    "\n",
    "# Get default colors for opto, locomotion and eye data\n",
    "col_dict = get_color_dict(color_names=['blue','orange', 'green', 'red', 'purple',\n",
    "                                       'brown', 'pink', 'gray', 'yellow', 'lightblue'])\n",
    "col = col_dict['orange']  # eye color is orange\n",
    "\n",
    "fig, ax = plt.subplots(figsize=cm2inch((2.25,2.5)), dpi=200)\n",
    "sns.boxplot(y=corrs, ax=ax, color='w')#, zorder=-1)\n",
    "sns.swarmplot(y=corrs, color=col, edgecolor=col, size=3, alpha=0.75, ax=ax)\n",
    "# ax.set_title(f'Correlation of stimulus luminance vs pupil diameter\\n n$_{{exp}}$={len(corrs)}')\n",
    "ax.set_ylabel(\"Pearson's $r$\")\n",
    "\n",
    "ax.set_ylim([-1,0])\n",
    "ax.spines['bottom'].set_visible(False)\n",
    "plt.setp(ax.xaxis.get_ticklines(), color='none')\n",
    "\n",
    "plt.savefig('eye_stim_luminance_corr.pdf')"
   ]
  }
 ],
 "metadata": {
  "kernelspec": {
   "display_name": "Python 3",
   "language": "python",
   "name": "python3"
  },
  "language_info": {
   "codemirror_mode": {
    "name": "ipython",
    "version": 3
   },
   "file_extension": ".py",
   "mimetype": "text/x-python",
   "name": "python",
   "nbconvert_exporter": "python",
   "pygments_lexer": "ipython3",
   "version": "3.7.9"
  }
 },
 "nbformat": 4,
 "nbformat_minor": 4
}
